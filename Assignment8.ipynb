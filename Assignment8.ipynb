{
  "nbformat": 4,
  "nbformat_minor": 0,
  "metadata": {
    "colab": {
      "provenance": [],
      "authorship_tag": "ABX9TyO2aEUJVKMAvlHghiI4cqnm",
      "include_colab_link": true
    },
    "kernelspec": {
      "name": "python3",
      "display_name": "Python 3"
    },
    "language_info": {
      "name": "python"
    }
  },
  "cells": [
    {
      "cell_type": "markdown",
      "metadata": {
        "id": "view-in-github",
        "colab_type": "text"
      },
      "source": [
        "<a href=\"https://colab.research.google.com/github/Caleb-Eagan/CSC221_ceaga004/blob/main/Assignment8.ipynb\" target=\"_parent\"><img src=\"https://colab.research.google.com/assets/colab-badge.svg\" alt=\"Open In Colab\"/></a>"
      ]
    },
    {
      "cell_type": "code",
      "execution_count": 1,
      "metadata": {
        "id": "3GHNY4yNBch_"
      },
      "outputs": [],
      "source": [
        "# Chapter 8 TIYs"
      ]
    },
    {
      "cell_type": "code",
      "source": [
        "# TIY 8-2\n",
        "\n",
        "# favorite_book(title), prints a message about the book\n",
        "\n",
        "def favorite_book(title):\n",
        "    print(f\"One of my favorite books is {title.title()}.\")\n",
        "\n",
        "favorite_book(\"Mortal Engines\")"
      ],
      "metadata": {
        "colab": {
          "base_uri": "https://localhost:8080/"
        },
        "id": "NpDkfOIpouWE",
        "outputId": "67934833-4884-48f8-912b-ccc5babe4ed5"
      },
      "execution_count": 7,
      "outputs": [
        {
          "output_type": "stream",
          "name": "stdout",
          "text": [
            "One of my favorite books is Mortal Engines.\n"
          ]
        }
      ]
    },
    {
      "cell_type": "code",
      "source": [
        "# TIY 8-3\n",
        "\n",
        "# make_shirt() function\n",
        "\n",
        "def make_shirt(size, text):\n",
        "    print(f\"The size of the shirt is {size}, and the message printed on it is \\\"{text}\\\"\")\n",
        "\n",
        "\n",
        "make_shirt('Medium', 'Lemons are the best!')\n",
        "\n",
        "make_shirt(text='I like trains', size='Small')\n"
      ],
      "metadata": {
        "colab": {
          "base_uri": "https://localhost:8080/"
        },
        "id": "CD40ZgMfowIr",
        "outputId": "93133a00-6aa9-4a34-d092-c122400efa64"
      },
      "execution_count": 9,
      "outputs": [
        {
          "output_type": "stream",
          "name": "stdout",
          "text": [
            "The size of the shirt is Medium, and the message printed on it is \"Lemons are the best!\"\n",
            "The size of the shirt is Small, and the message printed on it is \"I like trains\"\n"
          ]
        }
      ]
    },
    {
      "cell_type": "code",
      "source": [
        "# TIY 8-4\n",
        "\n",
        "# modified make_shirt() function\n",
        "\n",
        "def make_shirt(size='Large', text='I love Python.'):\n",
        "    print(f\"The size of the shirt is {size}, and the message printed on it is \\\"{text}\\\"\")\n",
        "\n",
        "make_shirt()\n",
        "make_shirt('Medium')\n",
        "\n",
        "make_shirt('Extra Large', 'It should work in theory.')\n"
      ],
      "metadata": {
        "colab": {
          "base_uri": "https://localhost:8080/"
        },
        "id": "RlkxQMKLoxb9",
        "outputId": "83698855-b416-471c-ce5e-a1d12ca3272c"
      },
      "execution_count": 11,
      "outputs": [
        {
          "output_type": "stream",
          "name": "stdout",
          "text": [
            "The size of the shirt is Large, and the message printed on it is \"I love Python.\"\n",
            "The size of the shirt is Medium, and the message printed on it is \"I love Python.\"\n",
            "The size of the shirt is Extra Large, and the message printed on it is \"It should work in theory.\"\n"
          ]
        }
      ]
    },
    {
      "cell_type": "code",
      "source": [
        "# func8(a, b, c)"
      ],
      "metadata": {
        "id": "5wfHj9Ndozad"
      },
      "execution_count": 5,
      "outputs": []
    },
    {
      "cell_type": "markdown",
      "source": [
        "## Pseudocode:\n",
        "\n",
        "1. Define function func8 with a, b, and c as parameters, with c defaulting to 42.\n",
        "\n",
        "Inside the function:\n",
        "2. Add parameters a, b, and c together, storing the result under the variable 'sum'\n",
        "3. Multiply parameters a, b, and c together, storing the result in the variable 'product'\n",
        "4. Create a list called 'numbers' containing a, b, and c\n",
        "5. Sort 'numbers'\n",
        "6. Return sum, product, and numbers\n",
        "\n",
        "Outside the function:\n",
        "\n",
        "7. Test cases for func8"
      ],
      "metadata": {
        "id": "iovLvIvCsKUS"
      }
    },
    {
      "cell_type": "code",
      "source": [
        "# Code\n",
        "\n",
        "def func8(a, b, c=42):\n",
        "    sum = a + b + c\n",
        "    product = a * b * c\n",
        "    numbers = [a, b, c]\n",
        "    sorted(numbers)\n",
        "\n",
        "    return sum, product, numbers\n",
        "\n",
        "\n",
        "# Test with 3 arguments\n",
        "answers = func8(1, 5, 20)\n",
        "print(answers)\n",
        "\n",
        "# Test with 2 arguments\n",
        "answers = func8(3, 4)\n",
        "print(answers)\n",
        "\n",
        "# Repeating testing with negative numbers\n",
        "answers = func8(6, -2, 19)\n",
        "print(answers)\n",
        "\n",
        "answers = func8(-1, 15)\n",
        "print(answers)\n",
        "\n",
        "# Testing only putting in 1 argument\n",
        "try:\n",
        "    answers = func8(9)\n",
        "    print(answers)\n",
        "except:\n",
        "    print(\"Too few arguments!\")\n",
        "\n",
        "# Testing putting in too many arguments\n",
        "try:\n",
        "    answers = func8(1, 6, 29, 4)\n",
        "    print(answers)\n",
        "except:\n",
        "    print(\"Too many arguments!\")"
      ],
      "metadata": {
        "colab": {
          "base_uri": "https://localhost:8080/"
        },
        "id": "cm508IdNo8pw",
        "outputId": "827f3966-c558-432b-a485-3f52e8571c6e"
      },
      "execution_count": 19,
      "outputs": [
        {
          "output_type": "stream",
          "name": "stdout",
          "text": [
            "(26, 100, [1, 5, 20])\n",
            "(49, 504, [3, 4, 42])\n",
            "(23, -228, [6, -2, 19])\n",
            "(56, -630, [-1, 15, 42])\n",
            "Too few arguments!\n",
            "Too many arguments!\n"
          ]
        }
      ]
    },
    {
      "cell_type": "code",
      "source": [],
      "metadata": {
        "id": "1WreOiI3t08u"
      },
      "execution_count": 18,
      "outputs": []
    }
  ]
}