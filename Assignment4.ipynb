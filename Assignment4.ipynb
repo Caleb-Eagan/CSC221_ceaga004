{
  "nbformat": 4,
  "nbformat_minor": 0,
  "metadata": {
    "colab": {
      "provenance": [],
      "authorship_tag": "ABX9TyMO7tiHlv75hwLWcJBilexN",
      "include_colab_link": true
    },
    "kernelspec": {
      "name": "python3",
      "display_name": "Python 3"
    },
    "language_info": {
      "name": "python"
    }
  },
  "cells": [
    {
      "cell_type": "markdown",
      "metadata": {
        "id": "view-in-github",
        "colab_type": "text"
      },
      "source": [
        "<a href=\"https://colab.research.google.com/github/Caleb-Eagan/CSC221_ceaga004/blob/main/Assignment4.ipynb\" target=\"_parent\"><img src=\"https://colab.research.google.com/assets/colab-badge.svg\" alt=\"Open In Colab\"/></a>"
      ]
    },
    {
      "cell_type": "code",
      "execution_count": 52,
      "metadata": {
        "id": "peBGenULAoBz"
      },
      "outputs": [],
      "source": [
        "# Chapter 3 TIYs"
      ]
    },
    {
      "cell_type": "code",
      "source": [
        "# TIY 3-1\n",
        "\n",
        "names = ['Nate', 'John', 'Jack', 'Camden']\n",
        "\n",
        "print(names[0])\n",
        "print(names[1])\n",
        "print(names[-2])\n",
        "print(names[-1])"
      ],
      "metadata": {
        "colab": {
          "base_uri": "https://localhost:8080/"
        },
        "id": "sQ2qwBuwAsUi",
        "outputId": "4d71d946-c071-4cbf-b1ea-f0bb87726872"
      },
      "execution_count": 53,
      "outputs": [
        {
          "output_type": "stream",
          "name": "stdout",
          "text": [
            "Nate\n",
            "John\n",
            "Jack\n",
            "Camden\n"
          ]
        }
      ]
    },
    {
      "cell_type": "code",
      "source": [
        "# TIY 3-2\n",
        "\n",
        "# Sending a message to each of the friends in the names list\n",
        "names = ['Nate', 'John', 'Jack', 'Camden']\n",
        "\n",
        "message = f\"Hello! How are you today {names[0]}?\"\n",
        "print(message)\n",
        "\n",
        "message = f\"Hello! How are you today {names[1]}?\"\n",
        "print(message)\n",
        "\n",
        "message = f\"Hello! How are you today {names[2]}?\"\n",
        "print(message)\n",
        "\n",
        "message = f\"Hello! How are you today {names[3]}?\"\n",
        "print(message)"
      ],
      "metadata": {
        "colab": {
          "base_uri": "https://localhost:8080/"
        },
        "id": "829J1frnAu8l",
        "outputId": "6e98adda-b8e5-4e1b-f617-3827c7cd7737"
      },
      "execution_count": 54,
      "outputs": [
        {
          "output_type": "stream",
          "name": "stdout",
          "text": [
            "Hello! How are you today Nate?\n",
            "Hello! How are you today John?\n",
            "Hello! How are you today Jack?\n",
            "Hello! How are you today Camden?\n"
          ]
        }
      ]
    },
    {
      "cell_type": "code",
      "source": [
        "# TIY 3-3\n",
        "\n",
        "# Favorite mode of transportation\n",
        "trains = ['freight', 'monorail', 'passenger', 'subway']\n",
        "\n",
        "message = f\"I've always found {trains[0].title()} trains to be quite cool.\"\n",
        "print(message)\n",
        "\n",
        "message = f\"I think that {trains[1].title()}s are very interesting.\"\n",
        "print(message)\n",
        "\n",
        "message = f\"I have gone for a ride on many {trains[2].title()} trains.\"\n",
        "print(message)\n",
        "\n",
        "message = f\"I have taken the {trains[3].title()} many times when I've been in New York City.\"\n",
        "print(message)"
      ],
      "metadata": {
        "colab": {
          "base_uri": "https://localhost:8080/"
        },
        "id": "RgTJmqg5Avgj",
        "outputId": "6ebace48-940f-4664-d699-eecb68d9e495"
      },
      "execution_count": 55,
      "outputs": [
        {
          "output_type": "stream",
          "name": "stdout",
          "text": [
            "I've always found Freight trains to be quite cool.\n",
            "I think that Monorails are very interesting.\n",
            "I have gone for a ride on many Passenger trains.\n",
            "I have taken the Subway many times when I've been in New York City.\n"
          ]
        }
      ]
    },
    {
      "cell_type": "code",
      "source": [
        "# TIY 3-4\n",
        "\n",
        "# Inviting (at least 3) people to dinner\n",
        "names = ['Jeff Bezos', 'Elon Musk', 'Bill Gates']\n",
        "\n",
        "message = \", you are invited to dinner at my house next monday!\"\n",
        "print(names[0] + message)\n",
        "print(names[1] + message)\n",
        "print(names[2] + message)\n"
      ],
      "metadata": {
        "colab": {
          "base_uri": "https://localhost:8080/"
        },
        "id": "nLFBSq15Aw7r",
        "outputId": "4a84f700-23b2-4972-8600-533a881021e6"
      },
      "execution_count": 56,
      "outputs": [
        {
          "output_type": "stream",
          "name": "stdout",
          "text": [
            "Jeff Bezos, you are invited to dinner at my house next monday!\n",
            "Elon Musk, you are invited to dinner at my house next monday!\n",
            "Bill Gates, you are invited to dinner at my house next monday!\n"
          ]
        }
      ]
    },
    {
      "cell_type": "code",
      "source": [
        "# TIY 3-5\n",
        "\n",
        "# Inviting people to dinner, but one person can't make it (built off of 3-4)\n",
        "names = ['Jeff Bezos', 'Elon Musk', 'Bill Gates']\n",
        "\n",
        "message = \", you are invited to dinner at my house next monday!\"\n",
        "print(names[0] + message)\n",
        "print(names[1] + message)\n",
        "print(names[2] + message)\n",
        "\n",
        "# Person who can't make it to the dinner\n",
        "print(f\"\\nUnfortunately, {names[1]} is unable to make it to the dinner.\\n\")\n",
        "\n",
        "del names[1]\n",
        "names.insert(1, 'Mark Zuckerberg')\n",
        "\n",
        "print(names[0] + message)\n",
        "print(names[1] + message)\n",
        "print(names[2] + message)\n",
        "\n"
      ],
      "metadata": {
        "colab": {
          "base_uri": "https://localhost:8080/"
        },
        "id": "E3oWlSGWAx48",
        "outputId": "11983017-ccb7-4750-fdea-7018ca67e434"
      },
      "execution_count": 57,
      "outputs": [
        {
          "output_type": "stream",
          "name": "stdout",
          "text": [
            "Jeff Bezos, you are invited to dinner at my house next monday!\n",
            "Elon Musk, you are invited to dinner at my house next monday!\n",
            "Bill Gates, you are invited to dinner at my house next monday!\n",
            "\n",
            "Unfortunately, Elon Musk is unable to make it to the dinner.\n",
            "\n",
            "Jeff Bezos, you are invited to dinner at my house next monday!\n",
            "Mark Zuckerberg, you are invited to dinner at my house next monday!\n",
            "Bill Gates, you are invited to dinner at my house next monday!\n"
          ]
        }
      ]
    },
    {
      "cell_type": "code",
      "source": [
        "# TIY 3-6\n",
        "\n",
        "# Inviting more people to dinner since I've ordered a larger dinner table (built off of 3-5)\n",
        "names = ['Jeff Bezos', 'Elon Musk', 'Bill Gates']\n",
        "\n",
        "message = \", you are invited to dinner at my house next monday!\"\n",
        "print(names[0] + message)\n",
        "print(names[1] + message)\n",
        "print(names[2] + message)\n",
        "\n",
        "# Person who can't make it to the dinner\n",
        "print(f\"\\nUnfortunately, {names[1]} is unable to make it to the dinner.\\n\")\n",
        "\n",
        "del names[1]\n",
        "names.insert(1, 'Mark Zuckerberg')\n",
        "\n",
        "print(names[0] + message)\n",
        "print(names[1] + message)\n",
        "print(names[2] + message)\n",
        "\n",
        "print(\"\\nIn a turn of events, I have procured a larger dinner table, so I will be inviting more people to the dinner\\n\")\n",
        "\n",
        "names.insert(0, 'George Lucas')\n",
        "names.insert(2, 'Mom')\n",
        "names.append('Dad')\n",
        "\n",
        "print(names[0] + message)\n",
        "print(names[1] + message)\n",
        "print(names[2] + message)\n",
        "print(names[3] + message)\n",
        "print(names[4] + message)\n",
        "print(names[5] + message)\n"
      ],
      "metadata": {
        "colab": {
          "base_uri": "https://localhost:8080/"
        },
        "id": "I_r0bAzDAy0T",
        "outputId": "e6a2b6b9-e5a6-4577-b039-bd44105e7e85"
      },
      "execution_count": 58,
      "outputs": [
        {
          "output_type": "stream",
          "name": "stdout",
          "text": [
            "Jeff Bezos, you are invited to dinner at my house next monday!\n",
            "Elon Musk, you are invited to dinner at my house next monday!\n",
            "Bill Gates, you are invited to dinner at my house next monday!\n",
            "\n",
            "Unfortunately, Elon Musk is unable to make it to the dinner.\n",
            "\n",
            "Jeff Bezos, you are invited to dinner at my house next monday!\n",
            "Mark Zuckerberg, you are invited to dinner at my house next monday!\n",
            "Bill Gates, you are invited to dinner at my house next monday!\n",
            "\n",
            "In a turn of events, I have procured a larger dinner table, so I will be inviting more people to the dinner\n",
            "\n",
            "George Lucas, you are invited to dinner at my house next monday!\n",
            "Jeff Bezos, you are invited to dinner at my house next monday!\n",
            "Mom, you are invited to dinner at my house next monday!\n",
            "Mark Zuckerberg, you are invited to dinner at my house next monday!\n",
            "Bill Gates, you are invited to dinner at my house next monday!\n",
            "Dad, you are invited to dinner at my house next monday!\n"
          ]
        }
      ]
    },
    {
      "cell_type": "code",
      "source": [
        "# TIY 3-7\n",
        "\n",
        "# Shrinking the guest list because I couldn't get the larger dinner table in time (built off of 3-6)\n",
        "names = ['Jeff Bezos', 'Elon Musk', 'Bill Gates']\n",
        "\n",
        "message = \", you are invited to dinner at my house next monday!\"\n",
        "print(names[0] + message)\n",
        "print(names[1] + message)\n",
        "print(names[2] + message)\n",
        "\n",
        "# Person who can't make it to the dinner\n",
        "print(f\"\\nUnfortunately, {names[1]} is unable to make it to the dinner.\\n\")\n",
        "\n",
        "del names[1]\n",
        "names.insert(1, 'Mark Zuckerberg')\n",
        "\n",
        "print(names[0] + message)\n",
        "print(names[1] + message)\n",
        "print(names[2] + message)\n",
        "\n",
        "print(\"\\nIn a turn of events, I have procured a larger dinner table, so I will be inviting more people to the dinner\\n\")\n",
        "\n",
        "names.insert(0, 'George Lucas')\n",
        "names.insert(2, 'Mom')\n",
        "names.append('Dad')\n",
        "\n",
        "print(names[0] + message)\n",
        "print(names[1] + message)\n",
        "print(names[2] + message)\n",
        "print(names[3] + message)\n",
        "print(names[4] + message)\n",
        "print(names[5] + message)\n",
        "\n",
        "print(f\"\\nSo I'll actually only be able to invite two people since the larger table isn't going to arrive in time, sorry.\\n\")\n",
        "\n",
        "uninvite_message = \", I unfortunately cannot invite you to dinner anymore\"\n",
        "new_message = \", you're still invited to dinner.\"\n",
        "\n",
        "print(names.pop(0) + uninvite_message)\n",
        "print(names.pop(0) + uninvite_message)\n",
        "print(names.pop(1) + uninvite_message)\n",
        "print(names.pop(1) + uninvite_message)\n",
        "\n",
        "print(names[0] + new_message)\n",
        "print(names[1] + new_message)\n",
        "\n",
        "del names[0]\n",
        "del names[0]\n",
        "print(names)"
      ],
      "metadata": {
        "colab": {
          "base_uri": "https://localhost:8080/"
        },
        "id": "-5klPSoYAzb9",
        "outputId": "3a58eefd-0428-4eef-8e43-bd9aec0616cb"
      },
      "execution_count": 59,
      "outputs": [
        {
          "output_type": "stream",
          "name": "stdout",
          "text": [
            "Jeff Bezos, you are invited to dinner at my house next monday!\n",
            "Elon Musk, you are invited to dinner at my house next monday!\n",
            "Bill Gates, you are invited to dinner at my house next monday!\n",
            "\n",
            "Unfortunately, Elon Musk is unable to make it to the dinner.\n",
            "\n",
            "Jeff Bezos, you are invited to dinner at my house next monday!\n",
            "Mark Zuckerberg, you are invited to dinner at my house next monday!\n",
            "Bill Gates, you are invited to dinner at my house next monday!\n",
            "\n",
            "In a turn of events, I have procured a larger dinner table, so I will be inviting more people to the dinner\n",
            "\n",
            "George Lucas, you are invited to dinner at my house next monday!\n",
            "Jeff Bezos, you are invited to dinner at my house next monday!\n",
            "Mom, you are invited to dinner at my house next monday!\n",
            "Mark Zuckerberg, you are invited to dinner at my house next monday!\n",
            "Bill Gates, you are invited to dinner at my house next monday!\n",
            "Dad, you are invited to dinner at my house next monday!\n",
            "\n",
            "So I'll actually only be able to invite two people since the larger table isn't going to arrive in time, sorry.\n",
            "\n",
            "George Lucas, I unfortunately cannot invite you to dinner anymore\n",
            "Jeff Bezos, I unfortunately cannot invite you to dinner anymore\n",
            "Mark Zuckerberg, I unfortunately cannot invite you to dinner anymore\n",
            "Bill Gates, I unfortunately cannot invite you to dinner anymore\n",
            "Mom, you're still invited to dinner.\n",
            "Dad, you're still invited to dinner.\n",
            "[]\n"
          ]
        }
      ]
    },
    {
      "cell_type": "code",
      "source": [
        "# TIY 3-8\n",
        "\n",
        "places_to_visit = ['Niagara Falls', 'Yellowstone', 'Stonehenge', 'Notre Dame Cathedral', 'Grand Canyon']\n",
        "\n",
        "# original order\n",
        "print(places_to_visit)\n",
        "\n",
        "# sorted\n",
        "print(sorted(places_to_visit))\n",
        "\n",
        "# original list again, to show that it hasn't been modified\n",
        "print(places_to_visit)\n",
        "\n",
        "# print in reverse order without changing the original list using sorted()\n",
        "print(sorted(places_to_visit, reverse=True))\n",
        "\n",
        "# print original list again, to show it's unchanged\n",
        "print(places_to_visit)\n",
        "\n",
        "# print list again after using reverse()\n",
        "places_to_visit.reverse()\n",
        "print(places_to_visit)\n",
        "\n",
        "# use reverse() again\n",
        "places_to_visit.reverse()\n",
        "print(places_to_visit)\n",
        "\n",
        "# use sort() on the list\n",
        "places_to_visit.sort()\n",
        "print(places_to_visit)\n",
        "\n",
        "# use sort() again to change the list to reverse-alpabetical order\n",
        "places_to_visit.sort(reverse=True)\n",
        "print(places_to_visit)"
      ],
      "metadata": {
        "colab": {
          "base_uri": "https://localhost:8080/"
        },
        "id": "n6zIMmTSA0AY",
        "outputId": "7a281caa-953e-4c7b-ac1e-8e2b9eda7e03"
      },
      "execution_count": 60,
      "outputs": [
        {
          "output_type": "stream",
          "name": "stdout",
          "text": [
            "['Niagara Falls', 'Yellowstone', 'Stonehenge', 'Notre Dame Cathedral', 'Grand Canyon']\n",
            "['Grand Canyon', 'Niagara Falls', 'Notre Dame Cathedral', 'Stonehenge', 'Yellowstone']\n",
            "['Niagara Falls', 'Yellowstone', 'Stonehenge', 'Notre Dame Cathedral', 'Grand Canyon']\n",
            "['Yellowstone', 'Stonehenge', 'Notre Dame Cathedral', 'Niagara Falls', 'Grand Canyon']\n",
            "['Niagara Falls', 'Yellowstone', 'Stonehenge', 'Notre Dame Cathedral', 'Grand Canyon']\n",
            "['Grand Canyon', 'Notre Dame Cathedral', 'Stonehenge', 'Yellowstone', 'Niagara Falls']\n",
            "['Niagara Falls', 'Yellowstone', 'Stonehenge', 'Notre Dame Cathedral', 'Grand Canyon']\n",
            "['Grand Canyon', 'Niagara Falls', 'Notre Dame Cathedral', 'Stonehenge', 'Yellowstone']\n",
            "['Yellowstone', 'Stonehenge', 'Notre Dame Cathedral', 'Niagara Falls', 'Grand Canyon']\n"
          ]
        }
      ]
    },
    {
      "cell_type": "code",
      "source": [
        "# TIY 3-9\n",
        "\n",
        "# Use len() to print the number of people invited to dinner using one of the programs between 3-4 and 3-7\n",
        "# 3-5\n",
        "names = ['Jeff Bezos', 'Elon Musk', 'Bill Gates']\n",
        "\n",
        "message = \", you are invited to dinner at my house next monday!\"\n",
        "print(names[0] + message)\n",
        "print(names[1] + message)\n",
        "print(names[2] + message)\n",
        "\n",
        "print(f\"\\nThere are {len(names)} people coming to dinner.\\n\")\n",
        "\n",
        "# Person who can't make it to the dinner\n",
        "print(f\"\\nUnfortunately, {names[1]} is unable to make it to the dinner.\\n\")\n",
        "\n",
        "del names[1]\n",
        "\n",
        "print(f\"There are now {len(names)} people coming to dinner.\\n\")\n",
        "\n",
        "names.insert(1, 'Mark Zuckerberg')\n",
        "\n",
        "print(names[0] + message)\n",
        "print(names[1] + message)\n",
        "print(names[2] + message)\n",
        "\n",
        "print(f\"\\nThere are now {len(names)} people coming to dinner.\\n\")\n"
      ],
      "metadata": {
        "colab": {
          "base_uri": "https://localhost:8080/"
        },
        "id": "HLTe6tjGA0nz",
        "outputId": "7eacee8f-131b-43ac-9354-28342ac42c1e"
      },
      "execution_count": 61,
      "outputs": [
        {
          "output_type": "stream",
          "name": "stdout",
          "text": [
            "Jeff Bezos, you are invited to dinner at my house next monday!\n",
            "Elon Musk, you are invited to dinner at my house next monday!\n",
            "Bill Gates, you are invited to dinner at my house next monday!\n",
            "\n",
            "There are 3 people coming to dinner.\n",
            "\n",
            "\n",
            "Unfortunately, Elon Musk is unable to make it to the dinner.\n",
            "\n",
            "There are now 2 people coming to dinner.\n",
            "\n",
            "Jeff Bezos, you are invited to dinner at my house next monday!\n",
            "Mark Zuckerberg, you are invited to dinner at my house next monday!\n",
            "Bill Gates, you are invited to dinner at my house next monday!\n",
            "\n",
            "There are now 3 people coming to dinner.\n",
            "\n"
          ]
        }
      ]
    },
    {
      "cell_type": "code",
      "source": [
        "# TIY 3-10\n",
        "\n",
        "# making a list and performing all functions shown in the chapter using it\n",
        "natural_formations = ['mountains', 'rivers', 'valleys', 'oceans', 'volcanos', 'forests']\n",
        "\n",
        "print(natural_formations)\n",
        "print(natural_formations[0])\n",
        "print(natural_formations[1].title())\n",
        "print(natural_formations[-1])\n",
        "\n",
        "natural_formations.insert(4, 'plains')\n",
        "print(natural_formations)\n",
        "natural_formations.append('lakes')\n",
        "print(natural_formations)\n",
        "\n",
        "print(sorted(natural_formations))\n",
        "print(sorted(natural_formations, reverse=True))\n",
        "\n",
        "del natural_formations[6]\n",
        "print(natural_formations)\n",
        "\n",
        "popped_formation = natural_formations.pop(4)\n",
        "print(popped_formation)\n",
        "\n",
        "natural_formations.reverse()\n",
        "print(natural_formations)\n",
        "natural_formations.reverse()\n",
        "print(natural_formations)\n",
        "\n",
        "natural_formations.sort()\n",
        "print(natural_formations)\n",
        "natural_formations.sort(reverse=True)\n",
        "print(natural_formations)\n",
        "\n",
        "print(len(natural_formations))"
      ],
      "metadata": {
        "colab": {
          "base_uri": "https://localhost:8080/"
        },
        "id": "ZWGifE9eA1cw",
        "outputId": "51f4c7d0-7eec-455d-f3d7-b87cf54ff6fb"
      },
      "execution_count": 62,
      "outputs": [
        {
          "output_type": "stream",
          "name": "stdout",
          "text": [
            "['mountains', 'rivers', 'valleys', 'oceans', 'volcanos', 'forests']\n",
            "mountains\n",
            "Rivers\n",
            "forests\n",
            "['mountains', 'rivers', 'valleys', 'oceans', 'plains', 'volcanos', 'forests']\n",
            "['mountains', 'rivers', 'valleys', 'oceans', 'plains', 'volcanos', 'forests', 'lakes']\n",
            "['forests', 'lakes', 'mountains', 'oceans', 'plains', 'rivers', 'valleys', 'volcanos']\n",
            "['volcanos', 'valleys', 'rivers', 'plains', 'oceans', 'mountains', 'lakes', 'forests']\n",
            "['mountains', 'rivers', 'valleys', 'oceans', 'plains', 'volcanos', 'lakes']\n",
            "plains\n",
            "['lakes', 'volcanos', 'oceans', 'valleys', 'rivers', 'mountains']\n",
            "['mountains', 'rivers', 'valleys', 'oceans', 'volcanos', 'lakes']\n",
            "['lakes', 'mountains', 'oceans', 'rivers', 'valleys', 'volcanos']\n",
            "['volcanos', 'valleys', 'rivers', 'oceans', 'mountains', 'lakes']\n",
            "6\n"
          ]
        }
      ]
    },
    {
      "cell_type": "code",
      "source": [
        "# TIY 3-11\n",
        "\n",
        "# Intentional index error (using 3-1)\n",
        "names = ['Nate', 'John', 'Jack', 'Camden']\n",
        "\n",
        "print(names[1])\n",
        "print(names[2])\n",
        "print(names[3])\n",
        "print(names[4])\n",
        "# off by 1 error when trying to show all 4 values stored in 'names'"
      ],
      "metadata": {
        "colab": {
          "base_uri": "https://localhost:8080/",
          "height": 279
        },
        "id": "cUZawtdBA19v",
        "outputId": "b20c9201-6087-48ac-9579-6fab01805a92"
      },
      "execution_count": 63,
      "outputs": [
        {
          "output_type": "stream",
          "name": "stdout",
          "text": [
            "John\n",
            "Jack\n",
            "Camden\n"
          ]
        },
        {
          "output_type": "error",
          "ename": "IndexError",
          "evalue": "list index out of range",
          "traceback": [
            "\u001b[0;31m---------------------------------------------------------------------------\u001b[0m",
            "\u001b[0;31mIndexError\u001b[0m                                Traceback (most recent call last)",
            "\u001b[0;32m<ipython-input-63-a4d91efc4213>\u001b[0m in \u001b[0;36m<cell line: 9>\u001b[0;34m()\u001b[0m\n\u001b[1;32m      7\u001b[0m \u001b[0mprint\u001b[0m\u001b[0;34m(\u001b[0m\u001b[0mnames\u001b[0m\u001b[0;34m[\u001b[0m\u001b[0;36m2\u001b[0m\u001b[0;34m]\u001b[0m\u001b[0;34m)\u001b[0m\u001b[0;34m\u001b[0m\u001b[0;34m\u001b[0m\u001b[0m\n\u001b[1;32m      8\u001b[0m \u001b[0mprint\u001b[0m\u001b[0;34m(\u001b[0m\u001b[0mnames\u001b[0m\u001b[0;34m[\u001b[0m\u001b[0;36m3\u001b[0m\u001b[0;34m]\u001b[0m\u001b[0;34m)\u001b[0m\u001b[0;34m\u001b[0m\u001b[0;34m\u001b[0m\u001b[0m\n\u001b[0;32m----> 9\u001b[0;31m \u001b[0mprint\u001b[0m\u001b[0;34m(\u001b[0m\u001b[0mnames\u001b[0m\u001b[0;34m[\u001b[0m\u001b[0;36m4\u001b[0m\u001b[0;34m]\u001b[0m\u001b[0;34m)\u001b[0m\u001b[0;34m\u001b[0m\u001b[0;34m\u001b[0m\u001b[0m\n\u001b[0m\u001b[1;32m     10\u001b[0m \u001b[0;31m# off by 1 error when trying to show all 4 values stored in 'names'\u001b[0m\u001b[0;34m\u001b[0m\u001b[0;34m\u001b[0m\u001b[0m\n",
            "\u001b[0;31mIndexError\u001b[0m: list index out of range"
          ]
        }
      ]
    }
  ]
}