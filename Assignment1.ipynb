{
  "nbformat": 4,
  "nbformat_minor": 0,
  "metadata": {
    "colab": {
      "provenance": [],
      "authorship_tag": "ABX9TyNKZYLAV1jShmtOyjmJ7Lon",
      "include_colab_link": true
    },
    "kernelspec": {
      "name": "python3",
      "display_name": "Python 3"
    },
    "language_info": {
      "name": "python"
    }
  },
  "cells": [
    {
      "cell_type": "markdown",
      "metadata": {
        "id": "view-in-github",
        "colab_type": "text"
      },
      "source": [
        "<a href=\"https://colab.research.google.com/github/Caleb-Eagan/CSC221_ceaga004/blob/main/Assignment1.ipynb\" target=\"_parent\"><img src=\"https://colab.research.google.com/assets/colab-badge.svg\" alt=\"Open In Colab\"/></a>"
      ]
    },
    {
      "cell_type": "code",
      "execution_count": null,
      "metadata": {
        "id": "YJeDwA5xRJ7H"
      },
      "outputs": [],
      "source": [
        "# Some silly code"
      ]
    },
    {
      "cell_type": "code",
      "source": [
        "# Sum numbers 1 to 10\n",
        "\n",
        "n = 1\n",
        "total = 0\n",
        "while n <=10:\n",
        "  total = total + n\n",
        "  n = n + 1\n",
        "\n",
        "print(total)"
      ],
      "metadata": {
        "colab": {
          "base_uri": "https://localhost:8080/"
        },
        "id": "XubAyOLxYFe1",
        "outputId": "03d83a76-1071-4253-b28d-809196f80902"
      },
      "execution_count": 1,
      "outputs": [
        {
          "output_type": "stream",
          "name": "stdout",
          "text": [
            "55\n"
          ]
        }
      ]
    },
    {
      "cell_type": "code",
      "source": [
        "# Which is a fruit\n",
        "\n",
        "print(\"Which is a fruit?\")\n",
        "print(\"a. donut\")\n",
        "print(\"b. carrot\")\n",
        "print(\"c. apple\")\n",
        "print(\"d. wooden desk\")\n",
        "\n",
        "answer = input(\"(enter a, b, c, or d): \")\n",
        "\n",
        "if answer == \"c\" or answer == \"C\":\n",
        "  print(\"Correct!\")\n",
        "\n",
        "else:\n",
        "  print(\"Sorry, that is incorrect.\")"
      ],
      "metadata": {
        "colab": {
          "base_uri": "https://localhost:8080/"
        },
        "id": "WIvOTrwCYa-2",
        "outputId": "45afc14e-5d9a-4b0e-d081-1fed0dbd5656"
      },
      "execution_count": 11,
      "outputs": [
        {
          "output_type": "stream",
          "name": "stdout",
          "text": [
            "Which is a fruit?\n",
            "a. donut\n",
            "b. carrot\n",
            "c. apple\n",
            "d. wooden desk\n",
            "(enter a, b, c, or d): C.\n",
            "Sorry, that is incorrect.\n"
          ]
        }
      ]
    }
  ]
}