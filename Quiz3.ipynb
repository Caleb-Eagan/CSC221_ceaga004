{
  "nbformat": 4,
  "nbformat_minor": 0,
  "metadata": {
    "colab": {
      "provenance": [],
      "authorship_tag": "ABX9TyMQDCKAL/Bm9/mkoxzhsRMJ",
      "include_colab_link": true
    },
    "kernelspec": {
      "name": "python3",
      "display_name": "Python 3"
    },
    "language_info": {
      "name": "python"
    }
  },
  "cells": [
    {
      "cell_type": "markdown",
      "metadata": {
        "id": "view-in-github",
        "colab_type": "text"
      },
      "source": [
        "<a href=\"https://colab.research.google.com/github/Caleb-Eagan/CSC221_ceaga004/blob/main/Quiz3.ipynb\" target=\"_parent\"><img src=\"https://colab.research.google.com/assets/colab-badge.svg\" alt=\"Open In Colab\"/></a>"
      ]
    },
    {
      "cell_type": "markdown",
      "source": [
        "Quiz 3 - Wrapup on Built-in Functions\n",
        "\n",
        "Caleb Eagan\n",
        "CSC221"
      ],
      "metadata": {
        "id": "r8XDw9VKOedO"
      }
    },
    {
      "cell_type": "code",
      "execution_count": null,
      "metadata": {
        "colab": {
          "base_uri": "https://localhost:8080/"
        },
        "id": "JRgQnzdcOQj-",
        "outputId": "761e4542-d346-408f-97da-b87fada4c34f"
      },
      "outputs": [
        {
          "output_type": "stream",
          "name": "stdout",
          "text": [
            "[5, 4, 3, 2, 1, 0, 1, 2, 3, 4, 5]\n",
            "1.05\n"
          ]
        }
      ],
      "source": [
        "# abs() takes the absolute value of the input number\n",
        "\n",
        "nums = []\n",
        "for i in range(-5,6):\n",
        "    nums.append(abs(i))\n",
        "\n",
        "print(nums)\n",
        "print(abs(-1.05))"
      ]
    },
    {
      "cell_type": "code",
      "source": [
        "# print() - prints the given parameter in the terminal\n",
        "\n",
        "print(\"Hello World\")\n",
        "\n",
        "a = 789\n",
        "print(a)\n",
        "\n",
        "b = \"hi there\"\n",
        "print(b)"
      ],
      "metadata": {
        "id": "wC4oazDoOp5y",
        "colab": {
          "base_uri": "https://localhost:8080/"
        },
        "outputId": "8e08d944-8cc0-4449-d439-2a8582665703"
      },
      "execution_count": null,
      "outputs": [
        {
          "output_type": "stream",
          "name": "stdout",
          "text": [
            "Hello World\n",
            "789\n",
            "hi there\n"
          ]
        }
      ]
    },
    {
      "cell_type": "code",
      "source": [
        "# eval() - Evaluates the given expression. If the expression is a viable python statement, it will run it\n",
        "import random\n",
        "\n",
        "for i in range(10):\n",
        "    x = random.randint(0,1)\n",
        "    y = random.randint(0,1)\n",
        "\n",
        "    print(eval('x==y'))\n",
        "\n",
        "z = 'print(\"Hello World!\")'\n",
        "eval(z)"
      ],
      "metadata": {
        "id": "gspqhrCTOqqp",
        "colab": {
          "base_uri": "https://localhost:8080/"
        },
        "outputId": "1769eccf-a8e3-4bf6-e734-6aade28087da"
      },
      "execution_count": 41,
      "outputs": [
        {
          "output_type": "stream",
          "name": "stdout",
          "text": [
            "False\n",
            "False\n",
            "False\n",
            "True\n",
            "True\n",
            "False\n",
            "True\n",
            "False\n",
            "True\n",
            "False\n",
            "Hello World!\n"
          ]
        }
      ]
    },
    {
      "cell_type": "code",
      "source": [
        "# format() - Formats a given value into a specified format. There are many different formats that can be used, which can be found here: https://docs.python.org/3/library/string.html#formatspec\n",
        "\n",
        "# 'b' outputs the input in binary format\n",
        "print(format(5, 'b'))\n",
        "\n",
        "# 'e' for scientific notation\n",
        "print(format(463080923, 'e'))\n",
        "\n",
        "# '%' for percentage\n",
        "print(format(.45, '%'))\n",
        "\n",
        "# And much more!\n"
      ],
      "metadata": {
        "id": "urWQjqWXOq1P",
        "colab": {
          "base_uri": "https://localhost:8080/"
        },
        "outputId": "b44db103-f47e-4596-d63a-e51ac4751805"
      },
      "execution_count": 46,
      "outputs": [
        {
          "output_type": "stream",
          "name": "stdout",
          "text": [
            "101\n",
            "4.630809e+08\n",
            "45.000000%\n"
          ]
        }
      ]
    },
    {
      "cell_type": "code",
      "source": [
        "# input() - prompts the user for input, can be used without anything inside it,\n",
        "#           but strings and numbers can be passed into input() if you want to have text in front of it.\n",
        "\n",
        "a = input()\n",
        "print(a)\n",
        "\n",
        "b = input(\"Hello there! How are you today? \")\n",
        "print(b)\n",
        "\n",
        "c = input(12345)\n",
        "print(c)\n"
      ],
      "metadata": {
        "id": "qxruKEUXOq6Z",
        "colab": {
          "base_uri": "https://localhost:8080/"
        },
        "outputId": "b00297a3-e42e-48b9-fd2a-dc6ed6b9b3cf"
      },
      "execution_count": null,
      "outputs": [
        {
          "output_type": "stream",
          "name": "stdout",
          "text": [
            "ajhfn\n",
            "ajhfn\n",
            "Hello there! How are you today? Good\n",
            "Good\n",
            "12345!!!\n",
            "!!!\n"
          ]
        }
      ]
    },
    {
      "cell_type": "code",
      "source": [
        "# float() - turns the number passed into it into a float, can only be done on numbers, strings will give an error\n",
        "\n",
        "a = float(1)\n",
        "print(a)\n",
        "print(type(a))\n",
        "\n",
        "b = float(190285.092385)\n",
        "print(b)\n",
        "print(type(b))\n",
        "\n",
        "try:\n",
        "    c = float(\"hi\")\n",
        "except:\n",
        "    print(\"Cannot pass strings into float()!\")"
      ],
      "metadata": {
        "id": "kMMrJlItOq3r",
        "colab": {
          "base_uri": "https://localhost:8080/"
        },
        "outputId": "9d8e8f66-e288-4736-debc-739968247e0d"
      },
      "execution_count": null,
      "outputs": [
        {
          "output_type": "stream",
          "name": "stdout",
          "text": [
            "1.0\n",
            "<class 'float'>\n",
            "190285.092385\n",
            "<class 'float'>\n",
            "Cannot pass strings into float()!\n"
          ]
        }
      ]
    },
    {
      "cell_type": "code",
      "source": [
        "# int() - Converts the given value into an integer\n",
        "\n",
        "a = int(3632)\n",
        "print(a)\n",
        "print(type(a))\n",
        "\n",
        "b = int(-1540)\n",
        "print(b)\n",
        "print(type(b))\n",
        "\n",
        "# Rounds floats\n",
        "c = int(125.05)\n",
        "print(c)\n",
        "print(type(c))"
      ],
      "metadata": {
        "id": "RuzNqK4YOq8x",
        "colab": {
          "base_uri": "https://localhost:8080/"
        },
        "outputId": "513c8566-5fd5-40b5-b54d-5a64b5fa29a9"
      },
      "execution_count": 2,
      "outputs": [
        {
          "output_type": "stream",
          "name": "stdout",
          "text": [
            "3632\n",
            "<class 'int'>\n",
            "-1540\n",
            "<class 'int'>\n",
            "125\n",
            "<class 'int'>\n"
          ]
        }
      ]
    },
    {
      "cell_type": "code",
      "source": [
        "# str() - Converts the given value into a string\n",
        "\n",
        "a = str('lemon')\n",
        "print(a)\n",
        "print(type(a))\n",
        "\n",
        "b = str(24096)\n",
        "print(b)\n",
        "print(type(b))\n",
        "\n",
        "c = 'svl' + str(2309)\n",
        "print(c)\n",
        "print(type(c))"
      ],
      "metadata": {
        "id": "NAoG7jjkOq_I",
        "colab": {
          "base_uri": "https://localhost:8080/"
        },
        "outputId": "27fcfda6-8e54-415c-8774-e19bd0bcb148"
      },
      "execution_count": 6,
      "outputs": [
        {
          "output_type": "stream",
          "name": "stdout",
          "text": [
            "lemon\n",
            "<class 'str'>\n",
            "24096\n",
            "<class 'str'>\n",
            "svl2309\n",
            "<class 'str'>\n"
          ]
        }
      ]
    },
    {
      "cell_type": "code",
      "source": [
        "# len() - returns the length of the parameter, if a string is passed in it returns the length of the string, if a list is passed in it returns the length of the list\n",
        "\n",
        "a = \"Hi\"\n",
        "print(len(a))\n",
        "\n",
        "b = ['lemon', 'grape', 'lime']\n",
        "print(len(b))\n",
        "\n",
        "c = \"railroad\"\n",
        "print(len(c))"
      ],
      "metadata": {
        "id": "AArFtQjuOrB9",
        "colab": {
          "base_uri": "https://localhost:8080/"
        },
        "outputId": "24e57ace-db6b-4ff9-b770-0eff21bc2e4b"
      },
      "execution_count": null,
      "outputs": [
        {
          "output_type": "stream",
          "name": "stdout",
          "text": [
            "2\n",
            "3\n",
            "8\n"
          ]
        }
      ]
    },
    {
      "cell_type": "code",
      "source": [
        "# list() - Creates a list, can have values passed to it initially\n",
        "\n",
        "x = list()\n",
        "\n",
        "# Multiple values need to be passed in as a tuple or list\n",
        "y = list(['hello', 'hi'])\n",
        "z = list((5,6,7,8))\n",
        "\n",
        "print(x)\n",
        "print(y)\n",
        "print(z)\n"
      ],
      "metadata": {
        "id": "KiJXfEovOrEd",
        "colab": {
          "base_uri": "https://localhost:8080/"
        },
        "outputId": "5fde40cd-58ea-4897-d116-78b0edc065ab"
      },
      "execution_count": 14,
      "outputs": [
        {
          "output_type": "stream",
          "name": "stdout",
          "text": [
            "[]\n",
            "['hello', 'hi']\n",
            "[5, 6, 7, 8]\n"
          ]
        }
      ]
    },
    {
      "cell_type": "code",
      "source": [
        "# dict() - Creates a dictionary. If values are passed in it is formatted as key=value\n",
        "\n",
        "x = dict()\n",
        "y = dict(fruit='lemon', number=7, name='Caleb')\n",
        "\n",
        "print(x)\n",
        "print(y)"
      ],
      "metadata": {
        "id": "QziMA-b-OrG8",
        "colab": {
          "base_uri": "https://localhost:8080/"
        },
        "outputId": "1b365be9-1c6c-40a4-ae28-c2d1b3c8be0e"
      },
      "execution_count": 15,
      "outputs": [
        {
          "output_type": "stream",
          "name": "stdout",
          "text": [
            "{}\n",
            "{'fruit': 'lemon', 'number': 7, 'name': 'Caleb'}\n"
          ]
        }
      ]
    },
    {
      "cell_type": "code",
      "source": [
        "# tuple() - Creates a tuple\n",
        "\n",
        "x = tuple()\n",
        "\n",
        "# Multiple values need to be passed in as a tuple or list\n",
        "y = tuple([5, 'grape'])\n",
        "z = tuple(('road', 'beach', 'tower'))\n",
        "\n",
        "print(x)\n",
        "print(y)\n",
        "print(z)"
      ],
      "metadata": {
        "id": "d8v5XvL4OrKG",
        "colab": {
          "base_uri": "https://localhost:8080/"
        },
        "outputId": "11dd95a5-0fdf-4ac3-94a4-f63b12acb0fe"
      },
      "execution_count": 16,
      "outputs": [
        {
          "output_type": "stream",
          "name": "stdout",
          "text": [
            "()\n",
            "(5, 'grape')\n",
            "('road', 'beach', 'tower')\n"
          ]
        }
      ]
    },
    {
      "cell_type": "code",
      "source": [
        "# type() returns what type the variable entered into the function is (string, integer, list, etc.)\n",
        "a = 1\n",
        "b = \"cookie\"\n",
        "c = 3.14\n",
        "d = [\"apple\", \"orange\", \"banana\"]\n",
        "e = {'name': 'john', 'age': 27}\n",
        "\n",
        "print(type(a))\n",
        "print(type(b))\n",
        "print(type(c))\n",
        "print(type(d))\n",
        "print(type(e))"
      ],
      "metadata": {
        "colab": {
          "base_uri": "https://localhost:8080/"
        },
        "id": "sEeZwiIlPqmx",
        "outputId": "e803c6a2-f173-426b-f3ae-ac26973d05b7"
      },
      "execution_count": null,
      "outputs": [
        {
          "output_type": "stream",
          "name": "stdout",
          "text": [
            "<class 'int'>\n",
            "<class 'str'>\n",
            "<class 'float'>\n",
            "<class 'list'>\n",
            "<class 'dict'>\n"
          ]
        }
      ]
    },
    {
      "cell_type": "code",
      "source": [
        "# sum()\n",
        "a = [7, 8, 1, 2]\n",
        "b = [1, 2, 3, 5]\n",
        "\n",
        "print(sum(a))\n",
        "print(sum(b))\n",
        "print(sum(a + b))"
      ],
      "metadata": {
        "colab": {
          "base_uri": "https://localhost:8080/"
        },
        "id": "3zJdINSKPvIc",
        "outputId": "75330fa2-7593-41c3-e3ef-79376138ff80"
      },
      "execution_count": null,
      "outputs": [
        {
          "output_type": "stream",
          "name": "stdout",
          "text": [
            "18\n",
            "11\n",
            "29\n"
          ]
        }
      ]
    },
    {
      "cell_type": "code",
      "source": [
        "# range() - Creates a sequence of numbers from 0 to n. Parameters include range(start, stop, step). Default start is 0 and default step is 1\n",
        "\n",
        "x = range(7)\n",
        "y = range(8, 39)\n",
        "z = range(0, 100, 2)\n",
        "\n",
        "for i in x:\n",
        "    print(i, end=', ')\n",
        "print()\n",
        "\n",
        "for i in y:\n",
        "    print(i, end=', ')\n",
        "print()\n",
        "\n",
        "for i in z:\n",
        "    print(i, end=', ')"
      ],
      "metadata": {
        "id": "9nNGtkrHPw05",
        "colab": {
          "base_uri": "https://localhost:8080/"
        },
        "outputId": "6b0a8e37-a9bc-484e-a95c-ec17920845b6"
      },
      "execution_count": 22,
      "outputs": [
        {
          "output_type": "stream",
          "name": "stdout",
          "text": [
            "0, 1, 2, 3, 4, 5, 6, \n",
            "8, 9, 10, 11, 12, 13, 14, 15, 16, 17, 18, 19, 20, 21, 22, 23, 24, 25, 26, 27, 28, 29, 30, 31, 32, 33, 34, 35, 36, 37, 38, \n",
            "0, 2, 4, 6, 8, 10, 12, 14, 16, 18, 20, 22, 24, 26, 28, 30, 32, 34, 36, 38, 40, 42, 44, 46, 48, 50, 52, 54, 56, 58, 60, 62, 64, 66, 68, 70, 72, 74, 76, 78, 80, 82, 84, 86, 88, 90, 92, 94, 96, 98, "
          ]
        }
      ]
    },
    {
      "cell_type": "code",
      "source": [
        "# reversed() - Reverses a given list\n",
        "\n",
        "a = ['lemon', 'strawberry', 'grape', 'orange', 'cantaloupe']\n",
        "\n",
        "for i in a:\n",
        "    print(i)\n",
        "\n",
        "print()\n",
        "\n",
        "for i in reversed(a):\n",
        "    print(i)"
      ],
      "metadata": {
        "id": "zZNkMAHQPxWa",
        "colab": {
          "base_uri": "https://localhost:8080/"
        },
        "outputId": "5b2bd960-9186-4858-bd3b-bd43d0ec9190"
      },
      "execution_count": 31,
      "outputs": [
        {
          "output_type": "stream",
          "name": "stdout",
          "text": [
            "lemon\n",
            "strawberry\n",
            "grape\n",
            "orange\n",
            "cantaloupe\n",
            "\n",
            "cantaloupe\n",
            "orange\n",
            "grape\n",
            "strawberry\n",
            "lemon\n"
          ]
        }
      ]
    },
    {
      "cell_type": "code",
      "source": [
        "# round() - rounds numbers to the nearest integer, unless a specified decimal place is given\n",
        "\n",
        "print(round(.98714))\n",
        "\n",
        "print(round(57.23624783, 2))\n",
        "\n",
        "print(round(153298.098215, -3))"
      ],
      "metadata": {
        "id": "LDmWT7E5PxzE",
        "colab": {
          "base_uri": "https://localhost:8080/"
        },
        "outputId": "af3bf426-7cb5-462a-e8ad-3460eeaaf08d"
      },
      "execution_count": 25,
      "outputs": [
        {
          "output_type": "stream",
          "name": "stdout",
          "text": [
            "1\n",
            "57.24\n",
            "153000.0\n"
          ]
        }
      ]
    },
    {
      "cell_type": "code",
      "source": [
        "# sorted() - returns a sorted list, can specify if you want it reversed or not with reverse=True\n",
        "\n",
        "a = (1, 52, 0, 7, 98392, -4, 98, 5)\n",
        "\n",
        "print(sorted(a))\n",
        "print(sorted(a, reverse=True))"
      ],
      "metadata": {
        "id": "idglaLLyPyxG",
        "colab": {
          "base_uri": "https://localhost:8080/"
        },
        "outputId": "68ef7e2d-eae1-44fb-a280-79d8f1b9d7d2"
      },
      "execution_count": 23,
      "outputs": [
        {
          "output_type": "stream",
          "name": "stdout",
          "text": [
            "[-4, 0, 1, 5, 7, 52, 98, 98392]\n",
            "[98392, 98, 52, 7, 5, 1, 0, -4]\n"
          ]
        }
      ]
    },
    {
      "cell_type": "code",
      "source": [
        "# globals() - returns a list of all global variables\n",
        "\n",
        "print(globals())\n",
        "\n",
        "globals = globals()\n",
        "for line in globals:\n",
        "    print(line)"
      ],
      "metadata": {
        "colab": {
          "base_uri": "https://localhost:8080/"
        },
        "id": "GyDk0jZkPzLd",
        "outputId": "ed9b19ec-3d2c-409c-d977-cfb0873f0439"
      },
      "execution_count": null,
      "outputs": [
        {
          "output_type": "stream",
          "name": "stdout",
          "text": [
            "{'__name__': '__main__', '__doc__': 'Automatically created module for IPython interactive environment', '__package__': None, '__loader__': None, '__spec__': None, '__builtin__': <module 'builtins' (built-in)>, '__builtins__': <module 'builtins' (built-in)>, '_ih': ['', 'abs()', 'abs(-1)', 'abs(-1)\\nabs(5)', 'nums = []\\nfor i in range(-5,6):\\n    nums.append(abs(i))\\n\\nprint(nums)', '# abs() takes the absolute value of the input number\\n\\nnums = []\\nfor i in range(-5,6):\\n    nums.append(abs(i))\\n\\nprint(nums)\\nprint(abs(-1.05))', '# abs() takes the absolute value of the input number\\n\\nnums = []\\nfor i in range(-5,6):\\n    nums.append(abs(i))\\n\\nprint(nums)\\nprint(abs(-1.05))\\nprint(abs(a))', \"# abs() takes the absolute value of the input number\\n\\nnums = []\\nfor i in range(-5,6):\\n    nums.append(abs(i))\\n\\nprint(nums)\\nprint(abs(-1.05))\\nprint(abs('a'))\", '# abs() takes the absolute value of the input number\\n\\nnums = []\\nfor i in range(-5,6):\\n    nums.append(abs(i))\\n\\nprint(nums)\\nprint(abs(-1.05))', '# print()', '# eval()', '# format()', '# float()', '# input()', '# int()', '# str()', '# len()', '# list()', '# dict()', '# tuple()', '# type()', '# ', '# ', '# ', '# ', '# ', '# ', '# ', '# sum()', '# range()', '# sum()\\na = 7\\nb = 9\\nsum(a + b)', '# sum()\\na = 7\\nb = 9\\nsum(a,b)', '# sum()\\na = [7, 8, 1, 2]\\n\\nsum(a)', '# sum()\\na = [7, 8, 1, 2]\\nb = [1, 2, 3, 5]\\n\\nsum(a)', '# sum()\\na = [7, 8, 1, 2]\\nb = [1, 2, 3, 5]\\n\\nsum(a)\\nsum(b)', '# sum()\\na = [7, 8, 1, 2]\\nb = [1, 2, 3, 5]\\n\\nsum(a)\\nsum(b)', '# sum()\\na = [7, 8, 1, 2]\\nb = [1, 2, 3, 5]\\n\\nsum(a)\\nsum(b)\\nsum(a + b)', '# sum()\\na = [7, 8, 1, 2]\\nb = [1, 2, 3, 5]\\n\\nprint(sum(a))\\nprint(sum(b))\\nprint(sum(a + b))', '# type()', '# type()\\na = 1\\nb = \"cookie\"\\nc = 3.14\\nd = [\"apple\", \"orange\", \"banana\"]\\ne = {\\'name\\': \\'john\\', \\'age\\': 27}\\n\\nprint(type(a))\\nprint(type(b))\\nprint(type(c))\\nprint(type(d))\\nprint(type(e))', '# globals()\\n\\ng = globals()', '# globals()\\n\\ng = globals()\\nfor line in g:\\n    print(line)', '# globals()\\n\\ng = globals()\\nfor line in g:\\n    print(line)', '# globals()\\nprint(globals())\\n\\nglobals = globals()\\nfor line in globals:\\n    print(line)'], '_oh': {2: 1, 3: 5, 32: 18, 33: 18, 34: 11, 35: 11, 36: 29}, '_dh': ['/content'], 'In': ['', 'abs()', 'abs(-1)', 'abs(-1)\\nabs(5)', 'nums = []\\nfor i in range(-5,6):\\n    nums.append(abs(i))\\n\\nprint(nums)', '# abs() takes the absolute value of the input number\\n\\nnums = []\\nfor i in range(-5,6):\\n    nums.append(abs(i))\\n\\nprint(nums)\\nprint(abs(-1.05))', '# abs() takes the absolute value of the input number\\n\\nnums = []\\nfor i in range(-5,6):\\n    nums.append(abs(i))\\n\\nprint(nums)\\nprint(abs(-1.05))\\nprint(abs(a))', \"# abs() takes the absolute value of the input number\\n\\nnums = []\\nfor i in range(-5,6):\\n    nums.append(abs(i))\\n\\nprint(nums)\\nprint(abs(-1.05))\\nprint(abs('a'))\", '# abs() takes the absolute value of the input number\\n\\nnums = []\\nfor i in range(-5,6):\\n    nums.append(abs(i))\\n\\nprint(nums)\\nprint(abs(-1.05))', '# print()', '# eval()', '# format()', '# float()', '# input()', '# int()', '# str()', '# len()', '# list()', '# dict()', '# tuple()', '# type()', '# ', '# ', '# ', '# ', '# ', '# ', '# ', '# sum()', '# range()', '# sum()\\na = 7\\nb = 9\\nsum(a + b)', '# sum()\\na = 7\\nb = 9\\nsum(a,b)', '# sum()\\na = [7, 8, 1, 2]\\n\\nsum(a)', '# sum()\\na = [7, 8, 1, 2]\\nb = [1, 2, 3, 5]\\n\\nsum(a)', '# sum()\\na = [7, 8, 1, 2]\\nb = [1, 2, 3, 5]\\n\\nsum(a)\\nsum(b)', '# sum()\\na = [7, 8, 1, 2]\\nb = [1, 2, 3, 5]\\n\\nsum(a)\\nsum(b)', '# sum()\\na = [7, 8, 1, 2]\\nb = [1, 2, 3, 5]\\n\\nsum(a)\\nsum(b)\\nsum(a + b)', '# sum()\\na = [7, 8, 1, 2]\\nb = [1, 2, 3, 5]\\n\\nprint(sum(a))\\nprint(sum(b))\\nprint(sum(a + b))', '# type()', '# type()\\na = 1\\nb = \"cookie\"\\nc = 3.14\\nd = [\"apple\", \"orange\", \"banana\"]\\ne = {\\'name\\': \\'john\\', \\'age\\': 27}\\n\\nprint(type(a))\\nprint(type(b))\\nprint(type(c))\\nprint(type(d))\\nprint(type(e))', '# globals()\\n\\ng = globals()', '# globals()\\n\\ng = globals()\\nfor line in g:\\n    print(line)', '# globals()\\n\\ng = globals()\\nfor line in g:\\n    print(line)', '# globals()\\nprint(globals())\\n\\nglobals = globals()\\nfor line in globals:\\n    print(line)'], 'Out': {2: 1, 3: 5, 32: 18, 33: 18, 34: 11, 35: 11, 36: 29}, 'get_ipython': <bound method InteractiveShell.get_ipython of <google.colab._shell.Shell object at 0x782532dfb7f0>>, 'exit': <IPython.core.autocall.ZMQExitAutocall object at 0x782532dfacb0>, 'quit': <IPython.core.autocall.ZMQExitAutocall object at 0x782532dfacb0>, '_': 29, '__': 11, '___': 11, '_i': '# globals()\\n\\ng = globals()\\nfor line in g:\\n    print(line)', '_ii': '# globals()\\n\\ng = globals()\\nfor line in g:\\n    print(line)', '_iii': '# globals()\\n\\ng = globals()', '_i1': 'abs()', '_i2': 'abs(-1)', '_2': 1, '_i3': 'abs(-1)\\nabs(5)', '_3': 5, '_i4': 'nums = []\\nfor i in range(-5,6):\\n    nums.append(abs(i))\\n\\nprint(nums)', 'nums': [5, 4, 3, 2, 1, 0, 1, 2, 3, 4, 5], 'i': 5, '_i5': '# abs() takes the absolute value of the input number\\n\\nnums = []\\nfor i in range(-5,6):\\n    nums.append(abs(i))\\n\\nprint(nums)\\nprint(abs(-1.05))', '_i6': '# abs() takes the absolute value of the input number\\n\\nnums = []\\nfor i in range(-5,6):\\n    nums.append(abs(i))\\n\\nprint(nums)\\nprint(abs(-1.05))\\nprint(abs(a))', '_i7': \"# abs() takes the absolute value of the input number\\n\\nnums = []\\nfor i in range(-5,6):\\n    nums.append(abs(i))\\n\\nprint(nums)\\nprint(abs(-1.05))\\nprint(abs('a'))\", '_i8': '# abs() takes the absolute value of the input number\\n\\nnums = []\\nfor i in range(-5,6):\\n    nums.append(abs(i))\\n\\nprint(nums)\\nprint(abs(-1.05))', '_i9': '# print()', '_i10': '# eval()', '_i11': '# format()', '_i12': '# float()', '_i13': '# input()', '_i14': '# int()', '_i15': '# str()', '_i16': '# len()', '_i17': '# list()', '_i18': '# dict()', '_i19': '# tuple()', '_i20': '# type()', '_i21': '# ', '_i22': '# ', '_i23': '# ', '_i24': '# ', '_i25': '# ', '_i26': '# ', '_i27': '# ', '_i28': '# sum()', '_i29': '# range()', '_i30': '# sum()\\na = 7\\nb = 9\\nsum(a + b)', 'a': 1, 'b': 'cookie', '_i31': '# sum()\\na = 7\\nb = 9\\nsum(a,b)', '_i32': '# sum()\\na = [7, 8, 1, 2]\\n\\nsum(a)', '_32': 18, '_i33': '# sum()\\na = [7, 8, 1, 2]\\nb = [1, 2, 3, 5]\\n\\nsum(a)', '_33': 18, '_i34': '# sum()\\na = [7, 8, 1, 2]\\nb = [1, 2, 3, 5]\\n\\nsum(a)\\nsum(b)', '_34': 11, '_i35': '# sum()\\na = [7, 8, 1, 2]\\nb = [1, 2, 3, 5]\\n\\nsum(a)\\nsum(b)', '_35': 11, '_i36': '# sum()\\na = [7, 8, 1, 2]\\nb = [1, 2, 3, 5]\\n\\nsum(a)\\nsum(b)\\nsum(a + b)', '_36': 29, '_i37': '# sum()\\na = [7, 8, 1, 2]\\nb = [1, 2, 3, 5]\\n\\nprint(sum(a))\\nprint(sum(b))\\nprint(sum(a + b))', '_i38': '# type()', '_i39': '# type()\\na = 1\\nb = \"cookie\"\\nc = 3.14\\nd = [\"apple\", \"orange\", \"banana\"]\\ne = {\\'name\\': \\'john\\', \\'age\\': 27}\\n\\nprint(type(a))\\nprint(type(b))\\nprint(type(c))\\nprint(type(d))\\nprint(type(e))', 'c': 3.14, 'd': ['apple', 'orange', 'banana'], 'e': {'name': 'john', 'age': 27}, '_i40': '# globals()\\n\\ng = globals()', 'g': {...}, '_i41': '# globals()\\n\\ng = globals()\\nfor line in g:\\n    print(line)', 'line': '_i42', '_i42': '# globals()\\n\\ng = globals()\\nfor line in g:\\n    print(line)', '_i43': '# globals()\\nprint(globals())\\n\\nglobals = globals()\\nfor line in globals:\\n    print(line)'}\n",
            "__name__\n",
            "__doc__\n",
            "__package__\n",
            "__loader__\n",
            "__spec__\n",
            "__builtin__\n",
            "__builtins__\n",
            "_ih\n",
            "_oh\n",
            "_dh\n",
            "In\n",
            "Out\n",
            "get_ipython\n",
            "exit\n",
            "quit\n",
            "_\n",
            "__\n",
            "___\n",
            "_i\n",
            "_ii\n",
            "_iii\n",
            "_i1\n",
            "_i2\n",
            "_2\n",
            "_i3\n",
            "_3\n",
            "_i4\n",
            "nums\n",
            "i\n",
            "_i5\n",
            "_i6\n",
            "_i7\n",
            "_i8\n",
            "_i9\n",
            "_i10\n",
            "_i11\n",
            "_i12\n",
            "_i13\n",
            "_i14\n",
            "_i15\n",
            "_i16\n",
            "_i17\n",
            "_i18\n",
            "_i19\n",
            "_i20\n",
            "_i21\n",
            "_i22\n",
            "_i23\n",
            "_i24\n",
            "_i25\n",
            "_i26\n",
            "_i27\n",
            "_i28\n",
            "_i29\n",
            "_i30\n",
            "a\n",
            "b\n",
            "_i31\n",
            "_i32\n",
            "_32\n",
            "_i33\n",
            "_33\n",
            "_i34\n",
            "_34\n",
            "_i35\n",
            "_35\n",
            "_i36\n",
            "_36\n",
            "_i37\n",
            "_i38\n",
            "_i39\n",
            "c\n",
            "d\n",
            "e\n",
            "_i40\n",
            "g\n",
            "_i41\n",
            "line\n",
            "_i42\n",
            "_i43\n",
            "globals\n"
          ]
        }
      ]
    },
    {
      "cell_type": "code",
      "source": [
        "# locals() - returns dictionary of local variables\n",
        "\n",
        "a = 8\n",
        "\n",
        "def simple_operations(x):\n",
        "    square = x ** 2\n",
        "\n",
        "    double = x * 2\n",
        "\n",
        "    local = locals()\n",
        "    for line in local:\n",
        "        print(line)\n",
        "\n",
        "    return square, double\n",
        "\n",
        "print(simple_operations(5))"
      ],
      "metadata": {
        "colab": {
          "base_uri": "https://localhost:8080/"
        },
        "id": "Zg-sOEnhPzkH",
        "outputId": "4b7e059c-fd07-4cb1-d8cf-1d9e7e192d99"
      },
      "execution_count": null,
      "outputs": [
        {
          "output_type": "stream",
          "name": "stdout",
          "text": [
            "{'x': 5, 'square': 25, 'double': 10, 'local': {...}}\n",
            "x\n",
            "square\n",
            "double\n",
            "local\n",
            "(25, 10)\n"
          ]
        }
      ]
    },
    {
      "cell_type": "code",
      "source": [],
      "metadata": {
        "id": "TAJmVEUna6np"
      },
      "execution_count": null,
      "outputs": []
    }
  ]
}