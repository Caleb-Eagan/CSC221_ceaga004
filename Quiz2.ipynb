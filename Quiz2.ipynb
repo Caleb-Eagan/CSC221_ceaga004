{
  "nbformat": 4,
  "nbformat_minor": 0,
  "metadata": {
    "colab": {
      "provenance": [],
      "authorship_tag": "ABX9TyP1l5qNKJ8ILqLckuVq6268",
      "include_colab_link": true
    },
    "kernelspec": {
      "name": "python3",
      "display_name": "Python 3"
    },
    "language_info": {
      "name": "python"
    }
  },
  "cells": [
    {
      "cell_type": "markdown",
      "metadata": {
        "id": "view-in-github",
        "colab_type": "text"
      },
      "source": [
        "<a href=\"https://colab.research.google.com/github/Caleb-Eagan/CSC221_ceaga004/blob/main/Quiz2.ipynb\" target=\"_parent\"><img src=\"https://colab.research.google.com/assets/colab-badge.svg\" alt=\"Open In Colab\"/></a>"
      ]
    },
    {
      "cell_type": "code",
      "execution_count": null,
      "metadata": {
        "colab": {
          "base_uri": "https://localhost:8080/"
        },
        "id": "40EGAGXQOKAK",
        "outputId": "a9afc11f-146f-4d75-c94e-64ded2440bfb"
      },
      "outputs": [
        {
          "output_type": "stream",
          "name": "stdout",
          "text": [
            "None\n"
          ]
        }
      ],
      "source": [
        "# None - the default value of a variable if nothing is passed into it, or if it was initially set to 'None'\n",
        "\n",
        "def random_function(x):\n",
        "    b = 7 * x\n",
        "\n",
        "x = random_function(8)\n",
        "print(x)"
      ]
    },
    {
      "cell_type": "code",
      "source": [
        "# break - breaks a loop\n",
        "\n",
        "x = 0\n",
        "\n",
        "while True:\n",
        "    if x < 100:\n",
        "        x += 1\n",
        "        print(x)\n",
        "    else:\n",
        "        break"
      ],
      "metadata": {
        "id": "ZWyMosQPTO6z",
        "colab": {
          "base_uri": "https://localhost:8080/"
        },
        "outputId": "7f4c8c5f-56c7-4728-b51a-0b17d96f7440"
      },
      "execution_count": null,
      "outputs": [
        {
          "output_type": "stream",
          "name": "stdout",
          "text": [
            "1\n",
            "2\n",
            "3\n",
            "4\n",
            "5\n",
            "6\n",
            "7\n",
            "8\n",
            "9\n",
            "10\n",
            "11\n",
            "12\n",
            "13\n",
            "14\n",
            "15\n",
            "16\n",
            "17\n",
            "18\n",
            "19\n",
            "20\n",
            "21\n",
            "22\n",
            "23\n",
            "24\n",
            "25\n",
            "26\n",
            "27\n",
            "28\n",
            "29\n",
            "30\n",
            "31\n",
            "32\n",
            "33\n",
            "34\n",
            "35\n",
            "36\n",
            "37\n",
            "38\n",
            "39\n",
            "40\n",
            "41\n",
            "42\n",
            "43\n",
            "44\n",
            "45\n",
            "46\n",
            "47\n",
            "48\n",
            "49\n",
            "50\n",
            "51\n",
            "52\n",
            "53\n",
            "54\n",
            "55\n",
            "56\n",
            "57\n",
            "58\n",
            "59\n",
            "60\n",
            "61\n",
            "62\n",
            "63\n",
            "64\n",
            "65\n",
            "66\n",
            "67\n",
            "68\n",
            "69\n",
            "70\n",
            "71\n",
            "72\n",
            "73\n",
            "74\n",
            "75\n",
            "76\n",
            "77\n",
            "78\n",
            "79\n",
            "80\n",
            "81\n",
            "82\n",
            "83\n",
            "84\n",
            "85\n",
            "86\n",
            "87\n",
            "88\n",
            "89\n",
            "90\n",
            "91\n",
            "92\n",
            "93\n",
            "94\n",
            "95\n",
            "96\n",
            "97\n",
            "98\n",
            "99\n",
            "100\n"
          ]
        }
      ]
    },
    {
      "cell_type": "code",
      "source": [
        "5# try / except / finally\n",
        "# try and except are used when running code that may potentially cause an error by nesting the risky code under 'try:'\n",
        "# if an error occurs the code nested under 'except:' is run.\n",
        "# This is done to avoid errors from stopping programs.\n",
        "# 'finally:' contains code that is always executed no matter what\n",
        "\n",
        "running = True\n",
        "sum = 0\n",
        "\n",
        "while running:\n",
        "    user_input = input(\"Enter a value (q to quit): \")\n",
        "\n",
        "    # code under here is run, may throw an error\n",
        "    try:\n",
        "        if user_input == 'q':\n",
        "            running = False\n",
        "        else:\n",
        "            sum += float(user_input)\n",
        "\n",
        "    # runs if the code under 'try:' throws an error\n",
        "    except:\n",
        "        print(\"Please enter a number!\")\n",
        "\n",
        "    # code under here always runs\n",
        "    finally:\n",
        "        print(f'{user_input=}')\n",
        "\n",
        "print(f\"The total is: {sum}\")"
      ],
      "metadata": {
        "id": "dcO4gzkVTRO_",
        "colab": {
          "base_uri": "https://localhost:8080/"
        },
        "outputId": "662ceabd-0b6f-4a6c-b42e-592c8349284c"
      },
      "execution_count": null,
      "outputs": [
        {
          "output_type": "stream",
          "name": "stdout",
          "text": [
            "Enter a value (q to quit): a\n",
            "Please enter a number!\n",
            "user_input='a'\n",
            "Enter a value (q to quit): 1\n",
            "user_input='1'\n",
            "Enter a value (q to quit): 25\n",
            "user_input='25'\n",
            "Enter a value (q to quit): 753564\n",
            "user_input='753564'\n",
            "Enter a value (q to quit): sgrht\n",
            "Please enter a number!\n",
            "user_input='sgrht'\n",
            "Enter a value (q to quit): q\n",
            "user_input='q'\n",
            "The total is: 753590.0\n"
          ]
        }
      ]
    },
    {
      "cell_type": "code",
      "source": [
        "# in - checks if a certain value is in a list (might be able to be used on dictionaries as well, I'm not sure)\n",
        "\n",
        "fruits = ['apple','banana','orange','grape','grapefruit','kiwi','lemon']\n",
        "\n",
        "if 'orange' in fruits:\n",
        "    print('Orange is in the list of fruits.')\n",
        "else:\n",
        "    print(\"Orange is not in the list of fruits.\")\n",
        "\n",
        "if 'watermelon' in fruits:\n",
        "    print(\"Watermelon is in the list of fruits.\")\n",
        "else:\n",
        "    print(\"Watermelon is not in the list of fruits.\")"
      ],
      "metadata": {
        "id": "r10EYo4hTS5X",
        "colab": {
          "base_uri": "https://localhost:8080/"
        },
        "outputId": "23dc887a-0356-49f6-bd15-94843cad3d38"
      },
      "execution_count": null,
      "outputs": [
        {
          "output_type": "stream",
          "name": "stdout",
          "text": [
            "Orange is in the list of fruits.\n",
            "Watermelon is not in the list of fruits.\n"
          ]
        }
      ]
    },
    {
      "cell_type": "code",
      "source": [
        "# True / False - values returned from boolean operations.\n",
        "# When a conditional statement is used in an if/elif/else statement or a while loop,\n",
        "# the result of the statement (either True or False) determines whether the nested code is run or not.\n",
        "\n",
        "a = 1\n",
        "b = 2\n",
        "c = 3\n",
        "d = 1\n",
        "\n",
        "print(a==b)\n",
        "print(a==d)\n",
        "print(b-a==1)\n",
        "print(c==d)\n",
        "print(a+d==b)\n",
        "\n",
        "if a==b:\n",
        "    print('a equals b')\n",
        "else:\n",
        "    print('a does not equal b')\n",
        "\n",
        "x = 0\n",
        "while x < 10:\n",
        "    x += 1\n",
        "    print(f'{x=}', x < 10)"
      ],
      "metadata": {
        "id": "527mlGmiTpuW",
        "colab": {
          "base_uri": "https://localhost:8080/"
        },
        "outputId": "72f03187-60e3-4d4a-fdc1-bc409a616d1b"
      },
      "execution_count": null,
      "outputs": [
        {
          "output_type": "stream",
          "name": "stdout",
          "text": [
            "False\n",
            "True\n",
            "True\n",
            "False\n",
            "True\n",
            "a does not equal b\n",
            "x=1 True\n",
            "x=2 True\n",
            "x=3 True\n",
            "x=4 True\n",
            "x=5 True\n",
            "x=6 True\n",
            "x=7 True\n",
            "x=8 True\n",
            "x=9 True\n",
            "x=10 False\n"
          ]
        }
      ]
    },
    {
      "cell_type": "code",
      "source": [
        "# if / elif / else\n",
        "# if statement is run if it's condition is true, then skips the rest\n",
        "# if the if statement's condition is false, it moves on to the next\n",
        "\n",
        "user_input = float(input(\"Enter a number:\"))\n",
        "\n",
        "# the first condition that's tested\n",
        "if user_input > 0:\n",
        "    print(f\"{user_input} is positive.\")\n",
        "\n",
        "# elif statements come after if statements if you want to check other specific cases\n",
        "elif user_input < 0:\n",
        "    print(f\"{user_input} is negative.\")\n",
        "\n",
        "# runs if all other conditions fail\n",
        "else:\n",
        "    print(f\"{user_input} is neither positive nor negative.\")\n"
      ],
      "metadata": {
        "id": "-nc8dv0VTZJh",
        "colab": {
          "base_uri": "https://localhost:8080/"
        },
        "outputId": "db8f64af-2f27-4faf-8efd-c7bed8932973"
      },
      "execution_count": null,
      "outputs": [
        {
          "output_type": "stream",
          "name": "stdout",
          "text": [
            "Enter a number:4234\n",
            "4234.0 is positive.\n"
          ]
        }
      ]
    },
    {
      "cell_type": "code",
      "source": [
        "# pass - used to keep code running / allow code to be run if there's something like an empty if statement in the code.\n",
        "\n",
        "y = 9\n",
        "x = 7\n",
        "if x == 7:\n",
        "    pass\n",
        "\n",
        "print(y)"
      ],
      "metadata": {
        "colab": {
          "base_uri": "https://localhost:8080/"
        },
        "id": "LQbrrk65TcgU",
        "outputId": "cd241fa7-552c-4d1d-c2d5-9ee29c52ff9a"
      },
      "execution_count": null,
      "outputs": [
        {
          "output_type": "stream",
          "name": "stdout",
          "text": [
            "9\n"
          ]
        }
      ]
    },
    {
      "cell_type": "code",
      "source": [
        "# and - used where multiple conditions have to be true\n",
        "\n",
        "x = 3\n",
        "y = 7\n",
        "\n",
        "if x < 10 and y < 10:\n",
        "    print('Both x and y are less than 10.')\n",
        "else:\n",
        "    print(\"Test failed.\")\n",
        "\n",
        "x = 13\n",
        "y = 5\n",
        "\n",
        "if x < 10 and y < 10:\n",
        "    print('Both x and y are less than 10.')\n",
        "else:\n",
        "    print(\"Test failed.\")\n",
        "\n",
        "x = 8\n",
        "y = 19\n",
        "\n",
        "if x < 10 and y < 10:\n",
        "    print('Both x and y are less than 10.')\n",
        "else:\n",
        "    print(\"Test failed.\")"
      ],
      "metadata": {
        "id": "mqaoMV2vTftH",
        "colab": {
          "base_uri": "https://localhost:8080/"
        },
        "outputId": "babf696d-4292-4583-9fec-8c5b9ff26456"
      },
      "execution_count": null,
      "outputs": [
        {
          "output_type": "stream",
          "name": "stdout",
          "text": [
            "Both x and y are less than 10.\n",
            "Test failed.\n",
            "Test failed.\n"
          ]
        }
      ]
    },
    {
      "cell_type": "code",
      "source": [
        "# for - used to loop through a code segment over a specific range\n",
        "num = 1\n",
        "sum = 0\n",
        "for i in range(10):\n",
        "    sum += num\n",
        "    print(f'{num=}')\n",
        "    num += 1\n",
        "\n",
        "print(f'{sum=}')"
      ],
      "metadata": {
        "colab": {
          "base_uri": "https://localhost:8080/"
        },
        "id": "ZT4t_MWPTmkj",
        "outputId": "d466f356-e66d-4113-9d54-5731a8023c69"
      },
      "execution_count": null,
      "outputs": [
        {
          "output_type": "stream",
          "name": "stdout",
          "text": [
            "num=1\n",
            "num=2\n",
            "num=3\n",
            "num=4\n",
            "num=5\n",
            "num=6\n",
            "num=7\n",
            "num=8\n",
            "num=9\n",
            "num=10\n",
            "sum=55\n"
          ]
        }
      ]
    },
    {
      "cell_type": "code",
      "source": [
        "# raise - used to raise a custom exception / error\n",
        "\n",
        "def int_check(x):\n",
        "    print(f\"\\n{x=}\")\n",
        "    if type(x) == int:\n",
        "        print(\"The variable passed into this function is an int, as it should be!\")\n",
        "    else:\n",
        "        #raise Exception(\"The input variable is not an int!\")\n",
        "        pass\n",
        "\n",
        "x = 5\n",
        "int_check(x)\n",
        "\n",
        "x = 1373\n",
        "int_check(x)\n",
        "\n",
        "x = \"hello world\"\n",
        "int_check(x)"
      ],
      "metadata": {
        "id": "3tj05y7BTU8X",
        "colab": {
          "base_uri": "https://localhost:8080/"
        },
        "outputId": "f10191a1-8eaa-4c23-9248-75accf46d108"
      },
      "execution_count": null,
      "outputs": [
        {
          "output_type": "stream",
          "name": "stdout",
          "text": [
            "\n",
            "x=5\n",
            "The variable passed into this function is an int, as it should be!\n",
            "\n",
            "x=1373\n",
            "The variable passed into this function is an int, as it should be!\n",
            "\n",
            "x='hello world'\n"
          ]
        }
      ]
    },
    {
      "cell_type": "code",
      "source": [
        "# is - tests if 2 variables belong to the same object\n",
        "\n",
        "b = 7\n",
        "a = 7\n",
        "\n",
        "a is b\n",
        "if a is b:\n",
        "    print(\"a is b\")\n",
        "else:\n",
        "    print(\"a is not b\")\n",
        "\n",
        "# Just numbers, so it should be seen that c is d\n",
        "c = 5\n",
        "d = 5\n",
        "\n",
        "print(c is d)\n",
        "print(c == d)\n",
        "\n",
        "# When comparing lists, it is seen that e is not f, as they are different objects\n",
        "e = ['hello', 5]\n",
        "f = ['hello', 5]\n",
        "\n",
        "print(e is f)\n",
        "print(e == f)"
      ],
      "metadata": {
        "id": "Eztdh5tSTwYV",
        "colab": {
          "base_uri": "https://localhost:8080/"
        },
        "outputId": "bb68c9c6-3407-47b2-885e-d10c2e649aa8"
      },
      "execution_count": null,
      "outputs": [
        {
          "output_type": "stream",
          "name": "stdout",
          "text": [
            "a is b\n",
            "True\n",
            "True\n",
            "False\n",
            "True\n"
          ]
        }
      ]
    },
    {
      "cell_type": "code",
      "source": [
        "# class - Used to define a class, which is useful for object-oriented programming\n",
        "\n",
        "class MyClass:\n",
        "    def __init__(self):\n",
        "        self.name = \"MyClass\"\n",
        "        print(f\"This is {self.name}\")\n",
        "\n",
        "    def count(self, number):\n",
        "        for n in range(1, number + 1):\n",
        "            print(n)\n",
        "\n",
        "    def say_hello(self):\n",
        "        print(\"Hello World!\")\n",
        "\n",
        "myclass = MyClass()\n",
        "myclass.count(10)\n",
        "myclass.say_hello()"
      ],
      "metadata": {
        "id": "BziY9gTsTuLh",
        "colab": {
          "base_uri": "https://localhost:8080/"
        },
        "outputId": "a260950e-ffdf-4c8a-f27b-025d65124511"
      },
      "execution_count": null,
      "outputs": [
        {
          "output_type": "stream",
          "name": "stdout",
          "text": [
            "This is MyClass\n",
            "1\n",
            "2\n",
            "3\n",
            "4\n",
            "5\n",
            "6\n",
            "7\n",
            "8\n",
            "9\n",
            "10\n",
            "Hello World!\n"
          ]
        }
      ]
    },
    {
      "cell_type": "code",
      "source": [
        "# async - async is used to run multiple processes at the same time\n",
        "# await - await is similar to yield. It suspends the execution of code until an awaitable task is completed\n",
        "\n",
        "# Example from: https://stackoverflow.com/questions/50757497/simplest-async-await-example-possible-in-python\n",
        "import asyncio\n",
        "import time\n",
        "\n",
        "async def sleep():\n",
        "    print(f'Time: {time.time() - start:.2f}')\n",
        "    await asyncio.sleep(1)\n",
        "\n",
        "async def sum(name, numbers):\n",
        "    total = 0\n",
        "    for number in numbers:\n",
        "        print(f'Task {name}: Computing {total}+{number}')\n",
        "        await sleep()\n",
        "        total += number\n",
        "    print(f'Task {name}: Sum = {total}\\n')\n",
        "\n",
        "start = time.time()\n",
        "\n",
        "loop = asyncio.get_event_loop()\n",
        "tasks = [\n",
        "    loop.create_task(sum(\"A\", [1, 2])),\n",
        "    loop.create_task(sum(\"B\", [1, 2, 3])),\n",
        "]\n",
        "await asyncio.wait(tasks)\n",
        "\n",
        "end = time.time()\n",
        "print(f'Time: {end-start:.2f} sec')\n",
        "\n",
        "\n",
        "\n",
        "# My attempt at an example\n",
        "async def sleep():\n",
        "    await asyncio.sleep(1)\n",
        "\n",
        "async def counter(name, max):\n",
        "    for i in range(max+1):\n",
        "        print(name, i)\n",
        "        await sleep()\n",
        "\n",
        "loop = asyncio.get_event_loop()\n",
        "tasks = [loop.create_task(counter(\"A\", 10)),\n",
        "         loop.create_task(counter(\"B\", 5)),\n",
        "         loop.create_task(counter(\"C\", 20))]\n",
        "\n",
        "await asyncio.wait(tasks)\n",
        "\n",
        "print('Done!')"
      ],
      "metadata": {
        "id": "QlwkViPFTXNI",
        "colab": {
          "base_uri": "https://localhost:8080/"
        },
        "outputId": "822f8079-9fbe-4f85-edaf-2ca34c723a38"
      },
      "execution_count": 27,
      "outputs": [
        {
          "output_type": "stream",
          "name": "stdout",
          "text": [
            "Task A: Computing 0+1\n",
            "Time: 0.00\n",
            "Task B: Computing 0+1\n",
            "Time: 0.00\n",
            "Task A: Computing 1+2\n",
            "Time: 1.00\n",
            "Task B: Computing 1+2\n",
            "Time: 1.00\n",
            "Task A: Sum = 3\n",
            "\n",
            "Task B: Computing 3+3\n",
            "Time: 2.00\n",
            "Task B: Sum = 6\n",
            "\n",
            "Time: 3.01 sec\n",
            "A 0\n",
            "B 0\n",
            "C 0\n",
            "A 1\n",
            "B 1\n",
            "C 1\n",
            "A 2\n",
            "B 2\n",
            "C 2\n",
            "A 3\n",
            "B 3\n",
            "C 3\n",
            "A 4\n",
            "B 4\n",
            "C 4\n",
            "A 5\n",
            "B 5\n",
            "C 5\n",
            "A 6\n",
            "C 6\n",
            "A 7\n",
            "C 7\n",
            "A 8\n",
            "C 8\n",
            "A 9\n",
            "C 9\n",
            "A 10\n",
            "C 10\n",
            "C 11\n",
            "C 12\n",
            "C 13\n",
            "C 14\n",
            "C 15\n",
            "C 16\n",
            "C 17\n",
            "C 18\n",
            "C 19\n",
            "C 20\n",
            "Done!\n"
          ]
        }
      ]
    },
    {
      "cell_type": "code",
      "source": [
        "# nonlocal - used to work with variables inside of nested functions in which the variable shouldn't belong to the inner function\n",
        "\n",
        "def outer_func():\n",
        "    x = 1\n",
        "    def inner_func():\n",
        "        # Uses the x variable from outer_func instead of creating its own x variable\n",
        "        nonlocal x\n",
        "        x += 1\n",
        "    inner_func()\n",
        "    return x\n",
        "\n",
        "print(outer_func())"
      ],
      "metadata": {
        "id": "sHUZjrVoT4mF",
        "colab": {
          "base_uri": "https://localhost:8080/"
        },
        "outputId": "5b4154f1-e007-425a-a5cc-a71b39c5ccd5"
      },
      "execution_count": 3,
      "outputs": [
        {
          "output_type": "stream",
          "name": "stdout",
          "text": [
            "2\n"
          ]
        }
      ]
    },
    {
      "cell_type": "code",
      "source": [
        "# continue - move to the next iteration of a loop, best used in conjunction with conditional statements\n",
        "\n",
        "x = 0\n",
        "while x < 100:\n",
        "    x += 1\n",
        "    if x % 10 == 0:\n",
        "        print(f\"{x} is divisible by 10\")\n",
        "        continue\n",
        "\n",
        "    # If x is divisible by 10, this is skipped because it goes straight to the next iteration\n",
        "    print(f\"The number is {x}\")"
      ],
      "metadata": {
        "id": "KLGSYo25Tl84",
        "colab": {
          "base_uri": "https://localhost:8080/"
        },
        "outputId": "09b51af1-a489-43ca-856a-14a6b7bde1c6"
      },
      "execution_count": null,
      "outputs": [
        {
          "output_type": "stream",
          "name": "stdout",
          "text": [
            "The number is 1\n",
            "The number is 2\n",
            "The number is 3\n",
            "The number is 4\n",
            "The number is 5\n",
            "The number is 6\n",
            "The number is 7\n",
            "The number is 8\n",
            "The number is 9\n",
            "10 is divisible by 10\n",
            "The number is 11\n",
            "The number is 12\n",
            "The number is 13\n",
            "The number is 14\n",
            "The number is 15\n",
            "The number is 16\n",
            "The number is 17\n",
            "The number is 18\n",
            "The number is 19\n",
            "20 is divisible by 10\n",
            "The number is 21\n",
            "The number is 22\n",
            "The number is 23\n",
            "The number is 24\n",
            "The number is 25\n",
            "The number is 26\n",
            "The number is 27\n",
            "The number is 28\n",
            "The number is 29\n",
            "30 is divisible by 10\n",
            "The number is 31\n",
            "The number is 32\n",
            "The number is 33\n",
            "The number is 34\n",
            "The number is 35\n",
            "The number is 36\n",
            "The number is 37\n",
            "The number is 38\n",
            "The number is 39\n",
            "40 is divisible by 10\n",
            "The number is 41\n",
            "The number is 42\n",
            "The number is 43\n",
            "The number is 44\n",
            "The number is 45\n",
            "The number is 46\n",
            "The number is 47\n",
            "The number is 48\n",
            "The number is 49\n",
            "50 is divisible by 10\n",
            "The number is 51\n",
            "The number is 52\n",
            "The number is 53\n",
            "The number is 54\n",
            "The number is 55\n",
            "The number is 56\n",
            "The number is 57\n",
            "The number is 58\n",
            "The number is 59\n",
            "60 is divisible by 10\n",
            "The number is 61\n",
            "The number is 62\n",
            "The number is 63\n",
            "The number is 64\n",
            "The number is 65\n",
            "The number is 66\n",
            "The number is 67\n",
            "The number is 68\n",
            "The number is 69\n",
            "70 is divisible by 10\n",
            "The number is 71\n",
            "The number is 72\n",
            "The number is 73\n",
            "The number is 74\n",
            "The number is 75\n",
            "The number is 76\n",
            "The number is 77\n",
            "The number is 78\n",
            "The number is 79\n",
            "80 is divisible by 10\n",
            "The number is 81\n",
            "The number is 82\n",
            "The number is 83\n",
            "The number is 84\n",
            "The number is 85\n",
            "The number is 86\n",
            "The number is 87\n",
            "The number is 88\n",
            "The number is 89\n",
            "90 is divisible by 10\n",
            "The number is 91\n",
            "The number is 92\n",
            "The number is 93\n",
            "The number is 94\n",
            "The number is 95\n",
            "The number is 96\n",
            "The number is 97\n",
            "The number is 98\n",
            "The number is 99\n",
            "100 is divisible by 10\n"
          ]
        }
      ]
    },
    {
      "cell_type": "code",
      "source": [
        "# lambda - keyword to create small anonymous functions\n",
        "\n",
        "square = lambda x : x ** 2\n",
        "\n",
        "print(square(2))\n",
        "print(square(5))\n",
        "print(square(10))"
      ],
      "metadata": {
        "id": "NIXOyFj4ToGM",
        "colab": {
          "base_uri": "https://localhost:8080/"
        },
        "outputId": "6b849db0-053b-4320-8df4-9d1eec84a48f"
      },
      "execution_count": null,
      "outputs": [
        {
          "output_type": "stream",
          "name": "stdout",
          "text": [
            "4\n",
            "25\n",
            "100\n"
          ]
        }
      ]
    },
    {
      "cell_type": "code",
      "source": [
        "# assert - used to assert that a condition is true, if it isn't, it throws an error\n",
        "x = 10\n",
        "y = 8\n",
        "\n",
        "assert x==10\n",
        "\n",
        "assert x % 10 == 0\n",
        "\n",
        "# To give a reason for the error, you need to add a string to the end of the line, separated from the condition by a comma.\n",
        "assert x == y, \"x does not equal y\""
      ],
      "metadata": {
        "id": "T6j2P7ZKT_jO",
        "colab": {
          "base_uri": "https://localhost:8080/",
          "height": 176
        },
        "outputId": "ab27f62f-6371-40e8-b041-0a34c3458c2c"
      },
      "execution_count": null,
      "outputs": [
        {
          "output_type": "error",
          "ename": "AssertionError",
          "evalue": "x does not equal y",
          "traceback": [
            "\u001b[0;31m---------------------------------------------------------------------------\u001b[0m",
            "\u001b[0;31mAssertionError\u001b[0m                            Traceback (most recent call last)",
            "\u001b[0;32m<ipython-input-2-218472d1524f>\u001b[0m in \u001b[0;36m<cell line: 9>\u001b[0;34m()\u001b[0m\n\u001b[1;32m      7\u001b[0m \u001b[0;32massert\u001b[0m \u001b[0mx\u001b[0m \u001b[0;34m%\u001b[0m \u001b[0;36m10\u001b[0m \u001b[0;34m==\u001b[0m \u001b[0;36m0\u001b[0m\u001b[0;34m\u001b[0m\u001b[0;34m\u001b[0m\u001b[0m\n\u001b[1;32m      8\u001b[0m \u001b[0;34m\u001b[0m\u001b[0m\n\u001b[0;32m----> 9\u001b[0;31m \u001b[0;32massert\u001b[0m \u001b[0mx\u001b[0m \u001b[0;34m==\u001b[0m \u001b[0my\u001b[0m\u001b[0;34m,\u001b[0m \u001b[0;34m\"x does not equal y\"\u001b[0m\u001b[0;34m\u001b[0m\u001b[0;34m\u001b[0m\u001b[0m\n\u001b[0m",
            "\u001b[0;31mAssertionError\u001b[0m: x does not equal y"
          ]
        }
      ]
    },
    {
      "cell_type": "code",
      "source": [
        "# return - returns to where the function was called from, can return a value\n",
        "\n",
        "def returns(x):\n",
        "    if type(x) == str:\n",
        "        print(\"The input variable is a string.\")\n",
        "        return\n",
        "    if type(x) == int:\n",
        "        return \"The input variable is an integer\"\n",
        "    if type(x) == float:\n",
        "        return \"This variable is a float, and this return statement contains the input value as well.\", x\n",
        "\n",
        "returns('lemon')\n",
        "print(returns(500))\n",
        "print(returns(425.503295))"
      ],
      "metadata": {
        "id": "7RbAwZ28Tx2g",
        "colab": {
          "base_uri": "https://localhost:8080/"
        },
        "outputId": "ed185b82-21ab-40ae-930d-7587f248e83a"
      },
      "execution_count": null,
      "outputs": [
        {
          "output_type": "stream",
          "name": "stdout",
          "text": [
            "The input variable is a string.\n",
            "The input variable is an integer\n",
            "('This variable is a float, and this return statement contains the input value as well.', 425.503295)\n"
          ]
        }
      ]
    },
    {
      "cell_type": "code",
      "source": [
        "# del - deletes an item from a list / dictionary\n",
        "\n",
        "fruits = ['apple','banana','orange','grape','grapefruit','kiwi','lemon']\n",
        "print(fruits)\n",
        "\n",
        "# deletes the item at index 1 of fruits\n",
        "del fruits[1]\n",
        "print(fruits)\n",
        "\n",
        "# deletes the first and last items of fruits\n",
        "del fruits[-1]\n",
        "del fruits[0]\n",
        "print(fruits)\n",
        "\n",
        "print()\n",
        "dictionary = {'name': 'john smith', 'age': 34, 'phone1':'098-765-4321', 'phone2':'123-456-7890'}\n",
        "for key in dictionary.keys():\n",
        "    print(f\"{key.title()}: {str(dictionary[key]).title()}\")\n",
        "\n",
        "# deletes the 'phone2' item from the dictionary\n",
        "del dictionary['phone2']\n",
        "\n",
        "print()\n",
        "for key in dictionary.keys():\n",
        "    print(f\"{key.title()}: {str(dictionary[key]).title()}\")"
      ],
      "metadata": {
        "id": "NWn9I-HDUIoh"
      },
      "execution_count": null,
      "outputs": []
    },
    {
      "cell_type": "code",
      "source": [
        "# def - used to define a function\n",
        "\n",
        "def test_function():\n",
        "    print('test')\n",
        "    print('This function does nothing else')\n",
        "\n",
        "test_function()"
      ],
      "metadata": {
        "id": "KMKesA6ST03v"
      },
      "execution_count": null,
      "outputs": []
    },
    {
      "cell_type": "code",
      "source": [
        "# import, from, and as (file import)\n",
        "\n",
        "%%file importexample.py\n",
        "def f1(x):\n",
        "    return x * 7"
      ],
      "metadata": {
        "colab": {
          "base_uri": "https://localhost:8080/"
        },
        "id": "MxhWYM3cT2rI",
        "outputId": "3e034469-aae5-4673-a4a3-66c7db39c657"
      },
      "execution_count": null,
      "outputs": [
        {
          "output_type": "stream",
          "name": "stdout",
          "text": [
            "Writing importexample.py\n"
          ]
        }
      ]
    },
    {
      "cell_type": "code",
      "source": [
        "# import - used to import files, libraries, and other things for various tasks, such as matplotlib for plotting values\n",
        "import importexample\n",
        "\n",
        "a = importexample.f1(8)\n",
        "print(a)"
      ],
      "metadata": {
        "colab": {
          "base_uri": "https://localhost:8080/"
        },
        "id": "0uK2aU3iY3ge",
        "outputId": "1ace91de-74db-42db-8d95-173654cabe75"
      },
      "execution_count": null,
      "outputs": [
        {
          "output_type": "stream",
          "name": "stdout",
          "text": [
            "56\n"
          ]
        }
      ]
    },
    {
      "cell_type": "code",
      "source": [
        "# from - used to import a specific thing from a file, library, etc.\n",
        "from importexample import f1\n",
        "\n",
        "b = f1(15)\n",
        "print(b)"
      ],
      "metadata": {
        "colab": {
          "base_uri": "https://localhost:8080/"
        },
        "id": "_9omvegFX0P8",
        "outputId": "5bfba518-c791-4459-9b70-9477f73b5480"
      },
      "execution_count": null,
      "outputs": [
        {
          "output_type": "stream",
          "name": "stdout",
          "text": [
            "105\n"
          ]
        }
      ]
    },
    {
      "cell_type": "code",
      "source": [
        "# as - used to import a file, library, etc. under a new name, often one that's shorter and easier to type\n",
        "import importexample as ie\n",
        "\n",
        "c = ie.f1(5)\n",
        "print(c)"
      ],
      "metadata": {
        "colab": {
          "base_uri": "https://localhost:8080/"
        },
        "id": "tp9eFM3bYpP4",
        "outputId": "423afa7b-9328-43af-a774-f447ede64e10"
      },
      "execution_count": null,
      "outputs": [
        {
          "output_type": "stream",
          "name": "stdout",
          "text": [
            "35\n"
          ]
        }
      ]
    },
    {
      "cell_type": "code",
      "source": [
        "# while - used to loop through the code so long as a condition is true\n",
        "x = 1\n",
        "while x < 100:\n",
        "    x += x\n",
        "    print(x)"
      ],
      "metadata": {
        "id": "78X27rjYT5Zj"
      },
      "execution_count": null,
      "outputs": []
    },
    {
      "cell_type": "code",
      "source": [
        "# not - Used to flip the result of a condition (if the condition would have been false, it would pass as true, and vice versa)\n",
        "done = False\n",
        "total = 0\n",
        "\n",
        "# done is initially set to false, but including 'not' in front of it in the loop makes the loop condition true, and when done is set to 'True', the loop ends.\n",
        "while not done:\n",
        "    num = input(\"Choose a number to be added (q to quit): \")\n",
        "    if num == 'q':\n",
        "        done = True\n",
        "    else:\n",
        "        try:\n",
        "            total += float(num)\n",
        "        except:\n",
        "            print('Please enter a number!')\n",
        "\n",
        "print(f\"The final total was: {total}\")"
      ],
      "metadata": {
        "id": "_m3Z1hfbT9Rj"
      },
      "execution_count": null,
      "outputs": []
    },
    {
      "cell_type": "code",
      "source": [
        "# with - helps to simplify file streams and make code cleaner and easier to read\n",
        "\n",
        "# Example code from geeksforgeeks\n",
        "with open('file_path', 'w') as file:\n",
        "    file.write('hello world !')\n",
        "\n",
        "# Extra code to show that it worked\n",
        "with open('file_path', 'r') as file:\n",
        "    lines = file.readlines()\n",
        "    print(lines)\n",
        "\n",
        "# Another example\n",
        "with open('importexample.py', 'r') as ie:\n",
        "    lines = ie.readlines()\n",
        "    print(lines)"
      ],
      "metadata": {
        "id": "dvtHVVGZT-5_",
        "colab": {
          "base_uri": "https://localhost:8080/"
        },
        "outputId": "830d75a0-1427-4e5c-858b-3cb494eb2040"
      },
      "execution_count": null,
      "outputs": [
        {
          "output_type": "stream",
          "name": "stdout",
          "text": [
            "['hello world !']\n",
            "['def f1(x):\\n', '    return x * 7\\n']\n"
          ]
        }
      ]
    },
    {
      "cell_type": "code",
      "source": [
        "# global - when used before a variable, that variable is made into a global variable, even when used inside a function.\n",
        "\n",
        "a = 90\n",
        "\n",
        "# Using the global version of a in a function\n",
        "def function():\n",
        "    global a\n",
        "    print(a)\n",
        "\n",
        "# Creating a local variable a inside funtion2\n",
        "def function2():\n",
        "    a = 0\n",
        "    print(a)\n",
        "\n",
        "function()\n",
        "function2()\n",
        "\n",
        "# printing 'a' out again a the end shows the global variable wasn't modified\n",
        "print(a)"
      ],
      "metadata": {
        "id": "RDI5JDhFUKi8"
      },
      "execution_count": null,
      "outputs": []
    },
    {
      "cell_type": "code",
      "source": [
        "# or - used mainly in if statements or loops to provide multiple cases where a condition can be True.\n",
        "x = int(input(\"Enter a number: \"))\n",
        "\n",
        "if x < 1 or x > 10:\n",
        "    print(\"Your number is not between 1 and 10\")\n",
        "else:\n",
        "    print(\"Your number is within the range 1-10\")"
      ],
      "metadata": {
        "id": "SuItO-TtULO1"
      },
      "execution_count": null,
      "outputs": []
    },
    {
      "cell_type": "code",
      "source": [
        "# yield - like return, but the function remembers where it is stopped, and starts up back at that spot, iterates\n",
        "\n",
        "def gen1():\n",
        "    x = 100\n",
        "\n",
        "    while x > 0:\n",
        "        x -= 5\n",
        "        yield x\n",
        "\n",
        "for i in gen1():\n",
        "    print(i)\n",
        "\n",
        "def gen2():\n",
        "    yield 78\n",
        "    yield 90\n",
        "    yield -10\n",
        "    yield 7\n",
        "    yield \"Done\"\n",
        "\n",
        "print('\\n')\n",
        "for i in gen2():\n",
        "    print(i)\n",
        "\n"
      ],
      "metadata": {
        "id": "gfkdnV1IULzE"
      },
      "execution_count": null,
      "outputs": []
    }
  ]
}