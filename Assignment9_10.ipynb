{
  "nbformat": 4,
  "nbformat_minor": 0,
  "metadata": {
    "colab": {
      "provenance": [],
      "authorship_tag": "ABX9TyNceGCIAiVzge6gwJ9PDcTV",
      "include_colab_link": true
    },
    "kernelspec": {
      "name": "python3",
      "display_name": "Python 3"
    },
    "language_info": {
      "name": "python"
    }
  },
  "cells": [
    {
      "cell_type": "markdown",
      "metadata": {
        "id": "view-in-github",
        "colab_type": "text"
      },
      "source": [
        "<a href=\"https://colab.research.google.com/github/Caleb-Eagan/CSC221_ceaga004/blob/main/Assignment9_10.ipynb\" target=\"_parent\"><img src=\"https://colab.research.google.com/assets/colab-badge.svg\" alt=\"Open In Colab\"/></a>"
      ]
    },
    {
      "cell_type": "markdown",
      "source": [
        "# Assignment 9-10: Unique / Original Functions\n",
        "- 3/1/2024\n",
        "- Caleb Eagan\n",
        "- CSC 221"
      ],
      "metadata": {
        "id": "lMX2ZokPaHWm"
      }
    },
    {
      "cell_type": "markdown",
      "source": [
        "## Function 1: Soup Restaurant Ordering\n",
        "- Takes the name of a type of soup as an input (as a string)\n",
        "- Compares the soup the person wants to the available soups in the list soups\n",
        "- If the soup requested is in the list of soups, tell the user it's in stock\n",
        "- If the requested soup is not in stock, tell the user it's not available"
      ],
      "metadata": {
        "id": "4fHBgDIFaQwe"
      }
    },
    {
      "cell_type": "code",
      "execution_count": 1,
      "metadata": {
        "id": "ae4FXiNsZ_Ca"
      },
      "outputs": [],
      "source": [
        "# Code\n",
        "soups = ['chicken noodle', 'clam chowder', 'cheddar broccoli', 'french onion', 'vegetable soup']\n",
        "\n",
        "def soup_restaurant(soup):\n",
        "    if soup.lower() in soups:\n",
        "        response = f\"\\n{soup.title()} soup is in stock.\"\n",
        "    else:\n",
        "        response = f\"\\n{soup.title()} soup is not available.\"\n",
        "\n",
        "    return response"
      ]
    },
    {
      "cell_type": "code",
      "source": [
        "# Test Cases\n",
        "soup = 'chicken noodle'\n",
        "response = soup_restaurant(soup)\n",
        "print(response)\n",
        "\n",
        "soup = 'French Onion'\n",
        "response = soup_restaurant(soup)\n",
        "print(response)\n",
        "\n",
        "soup = 'Tomato'\n",
        "response = soup_restaurant(soup)\n",
        "print(response)\n",
        "\n",
        "soup = 'cheddar broccoli'\n",
        "response = soup_restaurant(soup)\n",
        "print(response)\n",
        "\n",
        "soup = 'lentil'\n",
        "response = soup_restaurant(soup)\n",
        "print(response)\n"
      ],
      "metadata": {
        "id": "Lfh4UV7NcwRP",
        "colab": {
          "base_uri": "https://localhost:8080/"
        },
        "outputId": "ce5d9c88-3849-4cc4-c567-6992367cff44"
      },
      "execution_count": 2,
      "outputs": [
        {
          "output_type": "stream",
          "name": "stdout",
          "text": [
            "\n",
            "Chicken Noodle soup is in stock.\n",
            "\n",
            "French Onion soup is in stock.\n",
            "\n",
            "Tomato soup is not available.\n",
            "\n",
            "Cheddar Broccoli soup is in stock.\n",
            "\n",
            "Lentil soup is not available.\n"
          ]
        }
      ]
    },
    {
      "cell_type": "markdown",
      "source": [
        "## Function 2: List combiner & sorter\n",
        "\n",
        "- Takes 2 lists as input\n",
        "- Compares the values of each list with each other to make sure they're all the same\n",
        "- Compares the first values of the lists to see if they are the same type of value\n",
        "- If not the same type, exit the function saying the lists aren't combinable\n",
        "- If they are the same type, add all the values of the lists to a new list\n",
        "- Sort the new list, and return it to the user"
      ],
      "metadata": {
        "id": "EyEUyCtSaU7R"
      }
    },
    {
      "cell_type": "code",
      "source": [
        "# Code\n",
        "def list_combiner(list_a, list_b):\n",
        "    newlist = []\n",
        "\n",
        "    for n in range(len(list_a)-1):\n",
        "        if type(list_a[n]) != type(list_a[n+1]):\n",
        "            error_message = print(\"List 1 does not contain all the same type of values!\")\n",
        "            return error_message\n",
        "    for n in range(len(list_b)-1):\n",
        "        if type(list_b[n]) != type(list_b[n+1]):\n",
        "            error_message = print(\"List B does not contain all the same type of values!\")\n",
        "            return error_message\n",
        "    if type(list_a[0]) != type(list_b[0]):\n",
        "        error_message = \"Error with lists: multiple types of values!\"\n",
        "        return error_message\n",
        "    else:\n",
        "        for n in range(0, len(list_a)):\n",
        "            newlist.append(list_a[n])\n",
        "        for n in range(0, len(list_b)):\n",
        "            newlist.append(list_b[n])\n",
        "        newlist.sort()\n",
        "\n",
        "    return newlist\n"
      ],
      "metadata": {
        "id": "OsNHvPhdaViT"
      },
      "execution_count": 3,
      "outputs": []
    },
    {
      "cell_type": "code",
      "source": [
        "# Test Cases\n",
        "\n",
        "list1 = [\"orange\", \"banana\", \"apple\", \"grape\"]\n",
        "list2 = [\"car\", \"beach\", \"car\"]\n",
        "print(\"Example 1:\")\n",
        "print(list_combiner(list1, list2))\n",
        "\n",
        "list3 = [1, 30, 0, 2186, 790]\n",
        "list4 = [120, -104, -3, 26, 989]\n",
        "print(\"\\nExample 2:\")\n",
        "print(list_combiner(list3, list4))\n",
        "\n",
        "print(\"\\nExample 3:\")\n",
        "print(list_combiner(list1, list3))\n",
        "\n",
        "print(\"\\nExample 4:\")\n",
        "print(list_combiner(list2, list4))\n",
        "\n",
        "list5 = [\"truck\", \"boat\", 125, \"train\", 90]\n",
        "print(\"\\nExample 5:\")\n",
        "list_combiner(list1, list5)\n"
      ],
      "metadata": {
        "colab": {
          "base_uri": "https://localhost:8080/"
        },
        "id": "a_Dx87Ajc0jh",
        "outputId": "5fd95ab6-f032-41f7-fa8f-c5738d646841"
      },
      "execution_count": 4,
      "outputs": [
        {
          "output_type": "stream",
          "name": "stdout",
          "text": [
            "Example 1:\n",
            "['apple', 'banana', 'beach', 'car', 'car', 'grape', 'orange']\n",
            "\n",
            "Example 2:\n",
            "[-104, -3, 0, 1, 26, 30, 120, 790, 989, 2186]\n",
            "\n",
            "Example 3:\n",
            "Error with lists: multiple types of values!\n",
            "\n",
            "Example 4:\n",
            "Error with lists: multiple types of values!\n",
            "\n",
            "Example 5:\n",
            "List B does not contain all the same type of values!\n"
          ]
        }
      ]
    },
    {
      "cell_type": "markdown",
      "source": [
        "## Function 3: Math Operation\n",
        "- Takes an input integer n\n",
        "- Adds even numbers to the sum\n",
        "- If the number is divisible by 4, subtract it instead of adding\n",
        "- Multiply the sum by odd numbers"
      ],
      "metadata": {
        "id": "N9WtPGSUaWIk"
      }
    },
    {
      "cell_type": "code",
      "source": [
        "# Code\n",
        "def math_function(n):\n",
        "    sum = 0\n",
        "    for num in range(0, n+1):\n",
        "        if num % 4 == 0:\n",
        "            sum = sum - num\n",
        "        elif num % 2 == 0:\n",
        "            sum = sum + num\n",
        "        elif num % 2 == 1:\n",
        "            sum = sum * num\n",
        "\n",
        "    return sum\n"
      ],
      "metadata": {
        "id": "qtckZjW0aba_"
      },
      "execution_count": 5,
      "outputs": []
    },
    {
      "cell_type": "code",
      "source": [
        "# Test Cases\n",
        "print(math_function(1))\n",
        "print(math_function(2))\n",
        "print(math_function(3))\n",
        "print(math_function(20))\n",
        "print(math_function(5))\n",
        "print(math_function(15))\n",
        "print(math_function(50))\n",
        "print(math_function(-10))\n"
      ],
      "metadata": {
        "id": "zs1aX1cLc1Vx",
        "colab": {
          "base_uri": "https://localhost:8080/"
        },
        "outputId": "fb1f5cb0-7004-4406-ab02-10e170b140d9"
      },
      "execution_count": 6,
      "outputs": [
        {
          "output_type": "stream",
          "name": "stdout",
          "text": [
            "0\n",
            "2\n",
            "6\n",
            "654729074\n",
            "10\n",
            "2027040\n",
            "58435841445947272053455474390626\n",
            "0\n"
          ]
        }
      ]
    },
    {
      "cell_type": "markdown",
      "source": [
        "## Function 4: Puzzle Solving\n",
        "\n",
        "- Knights & Knaves puzzle solved by guess & check\n",
        "- 5 parameters / people\n",
        "- Can input different things that each of them say (for example A != B through the variable A_says)"
      ],
      "metadata": {
        "id": "TnOh8mMkagcj"
      }
    },
    {
      "cell_type": "code",
      "source": [
        "# Code\n",
        "truth_values = [False, True]\n",
        "\n",
        "def knights_and_knaves(A_says, B_says, C_says, D_says, E_says):\n",
        "    print(\"\\n{A}\\t{B}\\t{C}\\t{D}\\t{E}\\t{A_says}\\t{B_says}\\t{C_says}\\t{D_says}\\t{E_says}\\t{it_works}\")\n",
        "    for A in truth_values:\n",
        "        for B in truth_values:\n",
        "            for C in truth_values:\n",
        "                for D in truth_values:\n",
        "                    for E in truth_values:\n",
        "                        A_says = eval(str(A_says))\n",
        "                        B_says = eval(str(B_says))\n",
        "                        C_says = eval(str(C_says))\n",
        "                        D_says = eval(str(D_says))\n",
        "                        E_says = eval(str(E_says))\n",
        "\n",
        "                        it_works = (A == A_says) and (B == B_says) and (C == C_says) and (D == D_says) and (E == E_says)\n",
        "                        print(f\"{A}\\t{B}\\t{C}\\t{D}\\t{E}\\t{A_says}\\t\\t{B_says}\\t\\t{C_says}\\t\\t{D_says}\\t\\t{E_says}\\t\\t{it_works}\")"
      ],
      "metadata": {
        "id": "jKpyS4VWab8F"
      },
      "execution_count": 7,
      "outputs": []
    },
    {
      "cell_type": "code",
      "source": [
        "# Test Cases\n",
        "\n",
        "print(\"Test case 1:\")\n",
        "A_says = \"C != D\"\n",
        "B_says = \"A != C\"\n",
        "C_says = \"B == E\"\n",
        "D_says = \"E == 1\"\n",
        "E_says = \"A == B\"\n",
        "knights_and_knaves(A_says, B_says, C_says, D_says, E_says)\n",
        "\n",
        "\n",
        "print(\"\\nTest case 2:\")\n",
        "A_says = \"B == 1\"\n",
        "B_says = \"D == E\"\n",
        "C_says = \"A + B + C + D + E == 2\"\n",
        "D_says = \"C != B\"\n",
        "E_says = \"A == 0\"\n",
        "knights_and_knaves(A_says, B_says, C_says, D_says, E_says)\n",
        "\n",
        "\n",
        "print(\"\\nTest case 3:\")\n",
        "A_says = \"B == D\"\n",
        "B_says = \"C == 1\"\n",
        "C_says = \"D != E\"\n",
        "D_says = \"E == 1\"\n",
        "E_says = \"A == B\"\n",
        "knights_and_knaves(A_says, B_says, C_says, D_says, E_says)\n",
        "\n",
        "\n",
        "print(\"\\nTest case 4:\")\n",
        "A_says = \"A + B + C + D + E == 2\"\n",
        "B_says = \"C == E\"\n",
        "C_says = \"B != A\"\n",
        "D_says = \"B == E\"\n",
        "E_says = \"D == 0\"\n",
        "knights_and_knaves(A_says, B_says, C_says, D_says, E_says)\n",
        "\n",
        "\n",
        "print(\"\\nTest case 5:\")\n",
        "A_says = \"B + C + D == 2\"\n",
        "B_says = \"A == E\"\n",
        "C_says = \"A != D\"\n",
        "D_says = \"C == B\"\n",
        "E_says = \"D != C\"\n",
        "knights_and_knaves(A_says, B_says, C_says, D_says, E_says)"
      ],
      "metadata": {
        "id": "u7Leej7Bc2Mo",
        "colab": {
          "base_uri": "https://localhost:8080/"
        },
        "outputId": "4bd1709b-bb09-4e4c-a3f5-fec361b5695a"
      },
      "execution_count": 8,
      "outputs": [
        {
          "output_type": "stream",
          "name": "stdout",
          "text": [
            "Test case 1:\n",
            "\n",
            "{A}\t{B}\t{C}\t{D}\t{E}\t{A_says}\t{B_says}\t{C_says}\t{D_says}\t{E_says}\t{it_works}\n",
            "False\tFalse\tFalse\tFalse\tFalse\tFalse\t\tFalse\t\tTrue\t\tFalse\t\tTrue\t\tFalse\n",
            "False\tFalse\tFalse\tFalse\tTrue\tFalse\t\tFalse\t\tTrue\t\tFalse\t\tTrue\t\tFalse\n",
            "False\tFalse\tFalse\tTrue\tFalse\tFalse\t\tFalse\t\tTrue\t\tFalse\t\tTrue\t\tFalse\n",
            "False\tFalse\tFalse\tTrue\tTrue\tFalse\t\tFalse\t\tTrue\t\tFalse\t\tTrue\t\tFalse\n",
            "False\tFalse\tTrue\tFalse\tFalse\tFalse\t\tFalse\t\tTrue\t\tFalse\t\tTrue\t\tFalse\n",
            "False\tFalse\tTrue\tFalse\tTrue\tFalse\t\tFalse\t\tTrue\t\tFalse\t\tTrue\t\tTrue\n",
            "False\tFalse\tTrue\tTrue\tFalse\tFalse\t\tFalse\t\tTrue\t\tFalse\t\tTrue\t\tFalse\n",
            "False\tFalse\tTrue\tTrue\tTrue\tFalse\t\tFalse\t\tTrue\t\tFalse\t\tTrue\t\tFalse\n",
            "False\tTrue\tFalse\tFalse\tFalse\tFalse\t\tFalse\t\tTrue\t\tFalse\t\tTrue\t\tFalse\n",
            "False\tTrue\tFalse\tFalse\tTrue\tFalse\t\tFalse\t\tTrue\t\tFalse\t\tTrue\t\tFalse\n",
            "False\tTrue\tFalse\tTrue\tFalse\tFalse\t\tFalse\t\tTrue\t\tFalse\t\tTrue\t\tFalse\n",
            "False\tTrue\tFalse\tTrue\tTrue\tFalse\t\tFalse\t\tTrue\t\tFalse\t\tTrue\t\tFalse\n",
            "False\tTrue\tTrue\tFalse\tFalse\tFalse\t\tFalse\t\tTrue\t\tFalse\t\tTrue\t\tFalse\n",
            "False\tTrue\tTrue\tFalse\tTrue\tFalse\t\tFalse\t\tTrue\t\tFalse\t\tTrue\t\tFalse\n",
            "False\tTrue\tTrue\tTrue\tFalse\tFalse\t\tFalse\t\tTrue\t\tFalse\t\tTrue\t\tFalse\n",
            "False\tTrue\tTrue\tTrue\tTrue\tFalse\t\tFalse\t\tTrue\t\tFalse\t\tTrue\t\tFalse\n",
            "True\tFalse\tFalse\tFalse\tFalse\tFalse\t\tFalse\t\tTrue\t\tFalse\t\tTrue\t\tFalse\n",
            "True\tFalse\tFalse\tFalse\tTrue\tFalse\t\tFalse\t\tTrue\t\tFalse\t\tTrue\t\tFalse\n",
            "True\tFalse\tFalse\tTrue\tFalse\tFalse\t\tFalse\t\tTrue\t\tFalse\t\tTrue\t\tFalse\n",
            "True\tFalse\tFalse\tTrue\tTrue\tFalse\t\tFalse\t\tTrue\t\tFalse\t\tTrue\t\tFalse\n",
            "True\tFalse\tTrue\tFalse\tFalse\tFalse\t\tFalse\t\tTrue\t\tFalse\t\tTrue\t\tFalse\n",
            "True\tFalse\tTrue\tFalse\tTrue\tFalse\t\tFalse\t\tTrue\t\tFalse\t\tTrue\t\tFalse\n",
            "True\tFalse\tTrue\tTrue\tFalse\tFalse\t\tFalse\t\tTrue\t\tFalse\t\tTrue\t\tFalse\n",
            "True\tFalse\tTrue\tTrue\tTrue\tFalse\t\tFalse\t\tTrue\t\tFalse\t\tTrue\t\tFalse\n",
            "True\tTrue\tFalse\tFalse\tFalse\tFalse\t\tFalse\t\tTrue\t\tFalse\t\tTrue\t\tFalse\n",
            "True\tTrue\tFalse\tFalse\tTrue\tFalse\t\tFalse\t\tTrue\t\tFalse\t\tTrue\t\tFalse\n",
            "True\tTrue\tFalse\tTrue\tFalse\tFalse\t\tFalse\t\tTrue\t\tFalse\t\tTrue\t\tFalse\n",
            "True\tTrue\tFalse\tTrue\tTrue\tFalse\t\tFalse\t\tTrue\t\tFalse\t\tTrue\t\tFalse\n",
            "True\tTrue\tTrue\tFalse\tFalse\tFalse\t\tFalse\t\tTrue\t\tFalse\t\tTrue\t\tFalse\n",
            "True\tTrue\tTrue\tFalse\tTrue\tFalse\t\tFalse\t\tTrue\t\tFalse\t\tTrue\t\tFalse\n",
            "True\tTrue\tTrue\tTrue\tFalse\tFalse\t\tFalse\t\tTrue\t\tFalse\t\tTrue\t\tFalse\n",
            "True\tTrue\tTrue\tTrue\tTrue\tFalse\t\tFalse\t\tTrue\t\tFalse\t\tTrue\t\tFalse\n",
            "\n",
            "Test case 2:\n",
            "\n",
            "{A}\t{B}\t{C}\t{D}\t{E}\t{A_says}\t{B_says}\t{C_says}\t{D_says}\t{E_says}\t{it_works}\n",
            "False\tFalse\tFalse\tFalse\tFalse\tFalse\t\tTrue\t\tFalse\t\tFalse\t\tTrue\t\tFalse\n",
            "False\tFalse\tFalse\tFalse\tTrue\tFalse\t\tTrue\t\tFalse\t\tFalse\t\tTrue\t\tFalse\n",
            "False\tFalse\tFalse\tTrue\tFalse\tFalse\t\tTrue\t\tFalse\t\tFalse\t\tTrue\t\tFalse\n",
            "False\tFalse\tFalse\tTrue\tTrue\tFalse\t\tTrue\t\tFalse\t\tFalse\t\tTrue\t\tFalse\n",
            "False\tFalse\tTrue\tFalse\tFalse\tFalse\t\tTrue\t\tFalse\t\tFalse\t\tTrue\t\tFalse\n",
            "False\tFalse\tTrue\tFalse\tTrue\tFalse\t\tTrue\t\tFalse\t\tFalse\t\tTrue\t\tFalse\n",
            "False\tFalse\tTrue\tTrue\tFalse\tFalse\t\tTrue\t\tFalse\t\tFalse\t\tTrue\t\tFalse\n",
            "False\tFalse\tTrue\tTrue\tTrue\tFalse\t\tTrue\t\tFalse\t\tFalse\t\tTrue\t\tFalse\n",
            "False\tTrue\tFalse\tFalse\tFalse\tFalse\t\tTrue\t\tFalse\t\tFalse\t\tTrue\t\tFalse\n",
            "False\tTrue\tFalse\tFalse\tTrue\tFalse\t\tTrue\t\tFalse\t\tFalse\t\tTrue\t\tTrue\n",
            "False\tTrue\tFalse\tTrue\tFalse\tFalse\t\tTrue\t\tFalse\t\tFalse\t\tTrue\t\tFalse\n",
            "False\tTrue\tFalse\tTrue\tTrue\tFalse\t\tTrue\t\tFalse\t\tFalse\t\tTrue\t\tFalse\n",
            "False\tTrue\tTrue\tFalse\tFalse\tFalse\t\tTrue\t\tFalse\t\tFalse\t\tTrue\t\tFalse\n",
            "False\tTrue\tTrue\tFalse\tTrue\tFalse\t\tTrue\t\tFalse\t\tFalse\t\tTrue\t\tFalse\n",
            "False\tTrue\tTrue\tTrue\tFalse\tFalse\t\tTrue\t\tFalse\t\tFalse\t\tTrue\t\tFalse\n",
            "False\tTrue\tTrue\tTrue\tTrue\tFalse\t\tTrue\t\tFalse\t\tFalse\t\tTrue\t\tFalse\n",
            "True\tFalse\tFalse\tFalse\tFalse\tFalse\t\tTrue\t\tFalse\t\tFalse\t\tTrue\t\tFalse\n",
            "True\tFalse\tFalse\tFalse\tTrue\tFalse\t\tTrue\t\tFalse\t\tFalse\t\tTrue\t\tFalse\n",
            "True\tFalse\tFalse\tTrue\tFalse\tFalse\t\tTrue\t\tFalse\t\tFalse\t\tTrue\t\tFalse\n",
            "True\tFalse\tFalse\tTrue\tTrue\tFalse\t\tTrue\t\tFalse\t\tFalse\t\tTrue\t\tFalse\n",
            "True\tFalse\tTrue\tFalse\tFalse\tFalse\t\tTrue\t\tFalse\t\tFalse\t\tTrue\t\tFalse\n",
            "True\tFalse\tTrue\tFalse\tTrue\tFalse\t\tTrue\t\tFalse\t\tFalse\t\tTrue\t\tFalse\n",
            "True\tFalse\tTrue\tTrue\tFalse\tFalse\t\tTrue\t\tFalse\t\tFalse\t\tTrue\t\tFalse\n",
            "True\tFalse\tTrue\tTrue\tTrue\tFalse\t\tTrue\t\tFalse\t\tFalse\t\tTrue\t\tFalse\n",
            "True\tTrue\tFalse\tFalse\tFalse\tFalse\t\tTrue\t\tFalse\t\tFalse\t\tTrue\t\tFalse\n",
            "True\tTrue\tFalse\tFalse\tTrue\tFalse\t\tTrue\t\tFalse\t\tFalse\t\tTrue\t\tFalse\n",
            "True\tTrue\tFalse\tTrue\tFalse\tFalse\t\tTrue\t\tFalse\t\tFalse\t\tTrue\t\tFalse\n",
            "True\tTrue\tFalse\tTrue\tTrue\tFalse\t\tTrue\t\tFalse\t\tFalse\t\tTrue\t\tFalse\n",
            "True\tTrue\tTrue\tFalse\tFalse\tFalse\t\tTrue\t\tFalse\t\tFalse\t\tTrue\t\tFalse\n",
            "True\tTrue\tTrue\tFalse\tTrue\tFalse\t\tTrue\t\tFalse\t\tFalse\t\tTrue\t\tFalse\n",
            "True\tTrue\tTrue\tTrue\tFalse\tFalse\t\tTrue\t\tFalse\t\tFalse\t\tTrue\t\tFalse\n",
            "True\tTrue\tTrue\tTrue\tTrue\tFalse\t\tTrue\t\tFalse\t\tFalse\t\tTrue\t\tFalse\n",
            "\n",
            "Test case 3:\n",
            "\n",
            "{A}\t{B}\t{C}\t{D}\t{E}\t{A_says}\t{B_says}\t{C_says}\t{D_says}\t{E_says}\t{it_works}\n",
            "False\tFalse\tFalse\tFalse\tFalse\tTrue\t\tFalse\t\tFalse\t\tFalse\t\tTrue\t\tFalse\n",
            "False\tFalse\tFalse\tFalse\tTrue\tTrue\t\tFalse\t\tFalse\t\tFalse\t\tTrue\t\tFalse\n",
            "False\tFalse\tFalse\tTrue\tFalse\tTrue\t\tFalse\t\tFalse\t\tFalse\t\tTrue\t\tFalse\n",
            "False\tFalse\tFalse\tTrue\tTrue\tTrue\t\tFalse\t\tFalse\t\tFalse\t\tTrue\t\tFalse\n",
            "False\tFalse\tTrue\tFalse\tFalse\tTrue\t\tFalse\t\tFalse\t\tFalse\t\tTrue\t\tFalse\n",
            "False\tFalse\tTrue\tFalse\tTrue\tTrue\t\tFalse\t\tFalse\t\tFalse\t\tTrue\t\tFalse\n",
            "False\tFalse\tTrue\tTrue\tFalse\tTrue\t\tFalse\t\tFalse\t\tFalse\t\tTrue\t\tFalse\n",
            "False\tFalse\tTrue\tTrue\tTrue\tTrue\t\tFalse\t\tFalse\t\tFalse\t\tTrue\t\tFalse\n",
            "False\tTrue\tFalse\tFalse\tFalse\tTrue\t\tFalse\t\tFalse\t\tFalse\t\tTrue\t\tFalse\n",
            "False\tTrue\tFalse\tFalse\tTrue\tTrue\t\tFalse\t\tFalse\t\tFalse\t\tTrue\t\tFalse\n",
            "False\tTrue\tFalse\tTrue\tFalse\tTrue\t\tFalse\t\tFalse\t\tFalse\t\tTrue\t\tFalse\n",
            "False\tTrue\tFalse\tTrue\tTrue\tTrue\t\tFalse\t\tFalse\t\tFalse\t\tTrue\t\tFalse\n",
            "False\tTrue\tTrue\tFalse\tFalse\tTrue\t\tFalse\t\tFalse\t\tFalse\t\tTrue\t\tFalse\n",
            "False\tTrue\tTrue\tFalse\tTrue\tTrue\t\tFalse\t\tFalse\t\tFalse\t\tTrue\t\tFalse\n",
            "False\tTrue\tTrue\tTrue\tFalse\tTrue\t\tFalse\t\tFalse\t\tFalse\t\tTrue\t\tFalse\n",
            "False\tTrue\tTrue\tTrue\tTrue\tTrue\t\tFalse\t\tFalse\t\tFalse\t\tTrue\t\tFalse\n",
            "True\tFalse\tFalse\tFalse\tFalse\tTrue\t\tFalse\t\tFalse\t\tFalse\t\tTrue\t\tFalse\n",
            "True\tFalse\tFalse\tFalse\tTrue\tTrue\t\tFalse\t\tFalse\t\tFalse\t\tTrue\t\tTrue\n",
            "True\tFalse\tFalse\tTrue\tFalse\tTrue\t\tFalse\t\tFalse\t\tFalse\t\tTrue\t\tFalse\n",
            "True\tFalse\tFalse\tTrue\tTrue\tTrue\t\tFalse\t\tFalse\t\tFalse\t\tTrue\t\tFalse\n",
            "True\tFalse\tTrue\tFalse\tFalse\tTrue\t\tFalse\t\tFalse\t\tFalse\t\tTrue\t\tFalse\n",
            "True\tFalse\tTrue\tFalse\tTrue\tTrue\t\tFalse\t\tFalse\t\tFalse\t\tTrue\t\tFalse\n",
            "True\tFalse\tTrue\tTrue\tFalse\tTrue\t\tFalse\t\tFalse\t\tFalse\t\tTrue\t\tFalse\n",
            "True\tFalse\tTrue\tTrue\tTrue\tTrue\t\tFalse\t\tFalse\t\tFalse\t\tTrue\t\tFalse\n",
            "True\tTrue\tFalse\tFalse\tFalse\tTrue\t\tFalse\t\tFalse\t\tFalse\t\tTrue\t\tFalse\n",
            "True\tTrue\tFalse\tFalse\tTrue\tTrue\t\tFalse\t\tFalse\t\tFalse\t\tTrue\t\tFalse\n",
            "True\tTrue\tFalse\tTrue\tFalse\tTrue\t\tFalse\t\tFalse\t\tFalse\t\tTrue\t\tFalse\n",
            "True\tTrue\tFalse\tTrue\tTrue\tTrue\t\tFalse\t\tFalse\t\tFalse\t\tTrue\t\tFalse\n",
            "True\tTrue\tTrue\tFalse\tFalse\tTrue\t\tFalse\t\tFalse\t\tFalse\t\tTrue\t\tFalse\n",
            "True\tTrue\tTrue\tFalse\tTrue\tTrue\t\tFalse\t\tFalse\t\tFalse\t\tTrue\t\tFalse\n",
            "True\tTrue\tTrue\tTrue\tFalse\tTrue\t\tFalse\t\tFalse\t\tFalse\t\tTrue\t\tFalse\n",
            "True\tTrue\tTrue\tTrue\tTrue\tTrue\t\tFalse\t\tFalse\t\tFalse\t\tTrue\t\tFalse\n",
            "\n",
            "Test case 4:\n",
            "\n",
            "{A}\t{B}\t{C}\t{D}\t{E}\t{A_says}\t{B_says}\t{C_says}\t{D_says}\t{E_says}\t{it_works}\n",
            "False\tFalse\tFalse\tFalse\tFalse\tFalse\t\tTrue\t\tFalse\t\tTrue\t\tTrue\t\tFalse\n",
            "False\tFalse\tFalse\tFalse\tTrue\tFalse\t\tTrue\t\tFalse\t\tTrue\t\tTrue\t\tFalse\n",
            "False\tFalse\tFalse\tTrue\tFalse\tFalse\t\tTrue\t\tFalse\t\tTrue\t\tTrue\t\tFalse\n",
            "False\tFalse\tFalse\tTrue\tTrue\tFalse\t\tTrue\t\tFalse\t\tTrue\t\tTrue\t\tFalse\n",
            "False\tFalse\tTrue\tFalse\tFalse\tFalse\t\tTrue\t\tFalse\t\tTrue\t\tTrue\t\tFalse\n",
            "False\tFalse\tTrue\tFalse\tTrue\tFalse\t\tTrue\t\tFalse\t\tTrue\t\tTrue\t\tFalse\n",
            "False\tFalse\tTrue\tTrue\tFalse\tFalse\t\tTrue\t\tFalse\t\tTrue\t\tTrue\t\tFalse\n",
            "False\tFalse\tTrue\tTrue\tTrue\tFalse\t\tTrue\t\tFalse\t\tTrue\t\tTrue\t\tFalse\n",
            "False\tTrue\tFalse\tFalse\tFalse\tFalse\t\tTrue\t\tFalse\t\tTrue\t\tTrue\t\tFalse\n",
            "False\tTrue\tFalse\tFalse\tTrue\tFalse\t\tTrue\t\tFalse\t\tTrue\t\tTrue\t\tFalse\n",
            "False\tTrue\tFalse\tTrue\tFalse\tFalse\t\tTrue\t\tFalse\t\tTrue\t\tTrue\t\tFalse\n",
            "False\tTrue\tFalse\tTrue\tTrue\tFalse\t\tTrue\t\tFalse\t\tTrue\t\tTrue\t\tTrue\n",
            "False\tTrue\tTrue\tFalse\tFalse\tFalse\t\tTrue\t\tFalse\t\tTrue\t\tTrue\t\tFalse\n",
            "False\tTrue\tTrue\tFalse\tTrue\tFalse\t\tTrue\t\tFalse\t\tTrue\t\tTrue\t\tFalse\n",
            "False\tTrue\tTrue\tTrue\tFalse\tFalse\t\tTrue\t\tFalse\t\tTrue\t\tTrue\t\tFalse\n",
            "False\tTrue\tTrue\tTrue\tTrue\tFalse\t\tTrue\t\tFalse\t\tTrue\t\tTrue\t\tFalse\n",
            "True\tFalse\tFalse\tFalse\tFalse\tFalse\t\tTrue\t\tFalse\t\tTrue\t\tTrue\t\tFalse\n",
            "True\tFalse\tFalse\tFalse\tTrue\tFalse\t\tTrue\t\tFalse\t\tTrue\t\tTrue\t\tFalse\n",
            "True\tFalse\tFalse\tTrue\tFalse\tFalse\t\tTrue\t\tFalse\t\tTrue\t\tTrue\t\tFalse\n",
            "True\tFalse\tFalse\tTrue\tTrue\tFalse\t\tTrue\t\tFalse\t\tTrue\t\tTrue\t\tFalse\n",
            "True\tFalse\tTrue\tFalse\tFalse\tFalse\t\tTrue\t\tFalse\t\tTrue\t\tTrue\t\tFalse\n",
            "True\tFalse\tTrue\tFalse\tTrue\tFalse\t\tTrue\t\tFalse\t\tTrue\t\tTrue\t\tFalse\n",
            "True\tFalse\tTrue\tTrue\tFalse\tFalse\t\tTrue\t\tFalse\t\tTrue\t\tTrue\t\tFalse\n",
            "True\tFalse\tTrue\tTrue\tTrue\tFalse\t\tTrue\t\tFalse\t\tTrue\t\tTrue\t\tFalse\n",
            "True\tTrue\tFalse\tFalse\tFalse\tFalse\t\tTrue\t\tFalse\t\tTrue\t\tTrue\t\tFalse\n",
            "True\tTrue\tFalse\tFalse\tTrue\tFalse\t\tTrue\t\tFalse\t\tTrue\t\tTrue\t\tFalse\n",
            "True\tTrue\tFalse\tTrue\tFalse\tFalse\t\tTrue\t\tFalse\t\tTrue\t\tTrue\t\tFalse\n",
            "True\tTrue\tFalse\tTrue\tTrue\tFalse\t\tTrue\t\tFalse\t\tTrue\t\tTrue\t\tFalse\n",
            "True\tTrue\tTrue\tFalse\tFalse\tFalse\t\tTrue\t\tFalse\t\tTrue\t\tTrue\t\tFalse\n",
            "True\tTrue\tTrue\tFalse\tTrue\tFalse\t\tTrue\t\tFalse\t\tTrue\t\tTrue\t\tFalse\n",
            "True\tTrue\tTrue\tTrue\tFalse\tFalse\t\tTrue\t\tFalse\t\tTrue\t\tTrue\t\tFalse\n",
            "True\tTrue\tTrue\tTrue\tTrue\tFalse\t\tTrue\t\tFalse\t\tTrue\t\tTrue\t\tFalse\n",
            "\n",
            "Test case 5:\n",
            "\n",
            "{A}\t{B}\t{C}\t{D}\t{E}\t{A_says}\t{B_says}\t{C_says}\t{D_says}\t{E_says}\t{it_works}\n",
            "False\tFalse\tFalse\tFalse\tFalse\tFalse\t\tTrue\t\tFalse\t\tTrue\t\tFalse\t\tFalse\n",
            "False\tFalse\tFalse\tFalse\tTrue\tFalse\t\tTrue\t\tFalse\t\tTrue\t\tFalse\t\tFalse\n",
            "False\tFalse\tFalse\tTrue\tFalse\tFalse\t\tTrue\t\tFalse\t\tTrue\t\tFalse\t\tFalse\n",
            "False\tFalse\tFalse\tTrue\tTrue\tFalse\t\tTrue\t\tFalse\t\tTrue\t\tFalse\t\tFalse\n",
            "False\tFalse\tTrue\tFalse\tFalse\tFalse\t\tTrue\t\tFalse\t\tTrue\t\tFalse\t\tFalse\n",
            "False\tFalse\tTrue\tFalse\tTrue\tFalse\t\tTrue\t\tFalse\t\tTrue\t\tFalse\t\tFalse\n",
            "False\tFalse\tTrue\tTrue\tFalse\tFalse\t\tTrue\t\tFalse\t\tTrue\t\tFalse\t\tFalse\n",
            "False\tFalse\tTrue\tTrue\tTrue\tFalse\t\tTrue\t\tFalse\t\tTrue\t\tFalse\t\tFalse\n",
            "False\tTrue\tFalse\tFalse\tFalse\tFalse\t\tTrue\t\tFalse\t\tTrue\t\tFalse\t\tFalse\n",
            "False\tTrue\tFalse\tFalse\tTrue\tFalse\t\tTrue\t\tFalse\t\tTrue\t\tFalse\t\tFalse\n",
            "False\tTrue\tFalse\tTrue\tFalse\tFalse\t\tTrue\t\tFalse\t\tTrue\t\tFalse\t\tTrue\n",
            "False\tTrue\tFalse\tTrue\tTrue\tFalse\t\tTrue\t\tFalse\t\tTrue\t\tFalse\t\tFalse\n",
            "False\tTrue\tTrue\tFalse\tFalse\tFalse\t\tTrue\t\tFalse\t\tTrue\t\tFalse\t\tFalse\n",
            "False\tTrue\tTrue\tFalse\tTrue\tFalse\t\tTrue\t\tFalse\t\tTrue\t\tFalse\t\tFalse\n",
            "False\tTrue\tTrue\tTrue\tFalse\tFalse\t\tTrue\t\tFalse\t\tTrue\t\tFalse\t\tFalse\n",
            "False\tTrue\tTrue\tTrue\tTrue\tFalse\t\tTrue\t\tFalse\t\tTrue\t\tFalse\t\tFalse\n",
            "True\tFalse\tFalse\tFalse\tFalse\tFalse\t\tTrue\t\tFalse\t\tTrue\t\tFalse\t\tFalse\n",
            "True\tFalse\tFalse\tFalse\tTrue\tFalse\t\tTrue\t\tFalse\t\tTrue\t\tFalse\t\tFalse\n",
            "True\tFalse\tFalse\tTrue\tFalse\tFalse\t\tTrue\t\tFalse\t\tTrue\t\tFalse\t\tFalse\n",
            "True\tFalse\tFalse\tTrue\tTrue\tFalse\t\tTrue\t\tFalse\t\tTrue\t\tFalse\t\tFalse\n",
            "True\tFalse\tTrue\tFalse\tFalse\tFalse\t\tTrue\t\tFalse\t\tTrue\t\tFalse\t\tFalse\n",
            "True\tFalse\tTrue\tFalse\tTrue\tFalse\t\tTrue\t\tFalse\t\tTrue\t\tFalse\t\tFalse\n",
            "True\tFalse\tTrue\tTrue\tFalse\tFalse\t\tTrue\t\tFalse\t\tTrue\t\tFalse\t\tFalse\n",
            "True\tFalse\tTrue\tTrue\tTrue\tFalse\t\tTrue\t\tFalse\t\tTrue\t\tFalse\t\tFalse\n",
            "True\tTrue\tFalse\tFalse\tFalse\tFalse\t\tTrue\t\tFalse\t\tTrue\t\tFalse\t\tFalse\n",
            "True\tTrue\tFalse\tFalse\tTrue\tFalse\t\tTrue\t\tFalse\t\tTrue\t\tFalse\t\tFalse\n",
            "True\tTrue\tFalse\tTrue\tFalse\tFalse\t\tTrue\t\tFalse\t\tTrue\t\tFalse\t\tFalse\n",
            "True\tTrue\tFalse\tTrue\tTrue\tFalse\t\tTrue\t\tFalse\t\tTrue\t\tFalse\t\tFalse\n",
            "True\tTrue\tTrue\tFalse\tFalse\tFalse\t\tTrue\t\tFalse\t\tTrue\t\tFalse\t\tFalse\n",
            "True\tTrue\tTrue\tFalse\tTrue\tFalse\t\tTrue\t\tFalse\t\tTrue\t\tFalse\t\tFalse\n",
            "True\tTrue\tTrue\tTrue\tFalse\tFalse\t\tTrue\t\tFalse\t\tTrue\t\tFalse\t\tFalse\n",
            "True\tTrue\tTrue\tTrue\tTrue\tFalse\t\tTrue\t\tFalse\t\tTrue\t\tFalse\t\tFalse\n"
          ]
        }
      ]
    },
    {
      "cell_type": "markdown",
      "source": [
        "## Function 5: Alphabet search\n",
        "- A word is put directly into the function\n",
        "- The function then determines if the first letter of that word is in the first half or second half of the alphabet\n",
        "- Returns something along the lines of \"This word is in the first half of the alphabet.\" or \"This word is in the second half of the alphabet.\""
      ],
      "metadata": {
        "id": "kxjHgBaRafh5"
      }
    },
    {
      "cell_type": "code",
      "source": [
        "# Code\n",
        "def alphabetizer(word):\n",
        "    spaced_word = list(word.lower())\n",
        "\n",
        "    if spaced_word[0] < 'n':\n",
        "        message =  f\"The word '{word.title()}' is in the first half of the alphabet.\"\n",
        "    else:\n",
        "        message = f\"The word '{word.title()}' is in the second half of the alphabet.\"\n",
        "\n",
        "    return message\n",
        "\n"
      ],
      "metadata": {
        "id": "APKth1ZuagH0"
      },
      "execution_count": 9,
      "outputs": []
    },
    {
      "cell_type": "code",
      "source": [
        "# Test Cases\n",
        "print(alphabetizer(\"candy\"))\n",
        "print(alphabetizer(\"xylophone\"))\n",
        "print(alphabetizer(\"alligator\"))\n",
        "print(alphabetizer(\"ZOO\"))\n",
        "print(alphabetizer(\"TRAINS\"))\n",
        "print(alphabetizer(\"liVeLy\"))\n",
        "print(alphabetizer(\"Proud\"))\n",
        "print(alphabetizer(\"open\"))"
      ],
      "metadata": {
        "id": "DfGPuKEMc3EP",
        "colab": {
          "base_uri": "https://localhost:8080/"
        },
        "outputId": "029a7623-6def-42b9-ce5a-f88c135a3db3"
      },
      "execution_count": 10,
      "outputs": [
        {
          "output_type": "stream",
          "name": "stdout",
          "text": [
            "The word 'Candy' is in the first half of the alphabet.\n",
            "The word 'Xylophone' is in the second half of the alphabet.\n",
            "The word 'Alligator' is in the first half of the alphabet.\n",
            "The word 'Zoo' is in the second half of the alphabet.\n",
            "The word 'Trains' is in the second half of the alphabet.\n",
            "The word 'Lively' is in the first half of the alphabet.\n",
            "The word 'Proud' is in the second half of the alphabet.\n",
            "The word 'Open' is in the second half of the alphabet.\n"
          ]
        }
      ]
    },
    {
      "cell_type": "markdown",
      "source": [
        "## Function 6: Math Operations, Multiple Outputs\n",
        "- Takes 2 numbers as input (as floats)\n",
        "- Adds them\n",
        "- Subtracts the second number from the first\n",
        "- Multiplies them together\n",
        "- Divides the first number by the second number\n",
        "\n",
        "Results are printed out using printout() by passing all the resulting values from math_operations() to it, along with num1 an num2\n"
      ],
      "metadata": {
        "id": "O-w4Yyvdak1M"
      }
    },
    {
      "cell_type": "code",
      "source": [
        "# Code\n",
        "def math_operations(num1, num2):\n",
        "    add = num1 + num2\n",
        "    sub = num1 - num2\n",
        "    mult = num1 * num2\n",
        "    div = num1 / num2\n",
        "\n",
        "    return add, sub, mult, div\n",
        "\n",
        "def printout(num1, num2, add, sub, mult, div):\n",
        "    print(f\"For numbers {num1} and {num2}:\")\n",
        "    print(f\"Addition: {add}\")\n",
        "    print(f\"Subtraction: {sub}\")\n",
        "    print(f\"Multiplication: {mult}\")\n",
        "    print(f\"Division: {div}\\n\")"
      ],
      "metadata": {
        "id": "lg1BTl97c3ZB"
      },
      "execution_count": 11,
      "outputs": []
    },
    {
      "cell_type": "code",
      "source": [
        "# Test Cases\n",
        "num1 = 15\n",
        "num2 = 4.5\n",
        "a, s, m, d = math_operations(num1, num2)\n",
        "printout(num1, num2, a, s, m, d)\n",
        "\n",
        "num1 = 236\n",
        "num2 = 26\n",
        "a, s, m, d = math_operations(num1, num2)\n",
        "printout(num1, num2, a, s, m, d)\n",
        "\n",
        "num1 = 100000\n",
        "num2 = 2500\n",
        "a, s, m, d = math_operations(num1, num2)\n",
        "printout(num1, num2, a, s, m, d)\n",
        "\n",
        "num1 = 10.263\n",
        "num2 = 7.892\n",
        "a, s, m, d = math_operations(num1, num2)\n",
        "printout(num1, num2, a, s, m, d)\n",
        "\n",
        "num1 = 1.01\n",
        "num2 = 59.57\n",
        "a, s, m, d = math_operations(num1, num2)\n",
        "printout(num1, num2, a, s, m, d)\n",
        "\n"
      ],
      "metadata": {
        "id": "_Z2KDlCYamTY",
        "colab": {
          "base_uri": "https://localhost:8080/"
        },
        "outputId": "1a95f059-a20d-46b5-89fe-5ecb6d0409dd"
      },
      "execution_count": 12,
      "outputs": [
        {
          "output_type": "stream",
          "name": "stdout",
          "text": [
            "For numbers 15 and 4.5:\n",
            "Addition: 19.5\n",
            "Subtraction: 10.5\n",
            "Multiplication: 67.5\n",
            "Division: 3.3333333333333335\n",
            "\n",
            "For numbers 236 and 26:\n",
            "Addition: 262\n",
            "Subtraction: 210\n",
            "Multiplication: 6136\n",
            "Division: 9.076923076923077\n",
            "\n",
            "For numbers 100000 and 2500:\n",
            "Addition: 102500\n",
            "Subtraction: 97500\n",
            "Multiplication: 250000000\n",
            "Division: 40.0\n",
            "\n",
            "For numbers 10.263 and 7.892:\n",
            "Addition: 18.155\n",
            "Subtraction: 2.3709999999999996\n",
            "Multiplication: 80.995596\n",
            "Division: 1.3004308160162188\n",
            "\n",
            "For numbers 1.01 and 59.57:\n",
            "Addition: 60.58\n",
            "Subtraction: -58.56\n",
            "Multiplication: 60.1657\n",
            "Division: 0.016954843041799565\n",
            "\n"
          ]
        }
      ]
    },
    {
      "cell_type": "markdown",
      "source": [
        "## Function 7: Information Compiler\n",
        "\n",
        "- Takes several variables with different information pertaining to a person as input\n",
        "- Compiles all this information into a dictionary\n",
        "- Returns the dictionary to the user\n",
        "- If there is nothing given for a value, \"(not given)\" is assigned to the variable, or 0 in the case of age"
      ],
      "metadata": {
        "id": "o25kz1ZtalKC"
      }
    },
    {
      "cell_type": "code",
      "source": [
        "# Code\n",
        "def info_compiler(f_name=\"(not given)\", l_name = \"(not given)\", age=0, b_day=\"(not given)\", fav_color = \"(not given)\"):\n",
        "    info = {}\n",
        "    info[\"first name\"] = f_name\n",
        "    info[\"last name\"] = l_name\n",
        "    info[\"age\"] = age\n",
        "    info[\"birthday\"] = b_day\n",
        "    info[\"favorite color\"] = fav_color\n",
        "\n",
        "    return info\n"
      ],
      "metadata": {
        "id": "7fGKWrZec4O0"
      },
      "execution_count": 18,
      "outputs": []
    },
    {
      "cell_type": "code",
      "source": [
        "# Test Cases\n",
        "first_name = \"Jack\"\n",
        "last_name = \"Warren\"\n",
        "age = 25\n",
        "birthday = \"March 22nd\"\n",
        "favorite_color = \"Red\"\n",
        "print(info_compiler(first_name, last_name, age, birthday, favorite_color))\n",
        "\n",
        "first_name = \"George\"\n",
        "last_name = \"Johnson\"\n",
        "age = 30\n",
        "birthday = \"July 10th\"\n",
        "favorite_color = \"Yellow\"\n",
        "print(info_compiler(first_name, last_name, age, birthday, favorite_color))\n",
        "\n",
        "first_name = \"Alice\"\n",
        "last_name = \"Smith\"\n",
        "age = 44\n",
        "birthday = \"February 2nd\"\n",
        "favorite_color = \"Green\"\n",
        "print(info_compiler(first_name, last_name, age, birthday, favorite_color))\n",
        "\n",
        "first_name = \"Nate\"\n",
        "age = 18\n",
        "birthday = \"December 21st\"\n",
        "favorite_color = \"Blue\"\n",
        "print(info_compiler(first_name, age=age, b_day=birthday, fav_color = favorite_color))\n",
        "\n",
        "first_name = \"Margaret\"\n",
        "last_name = \"Williams\"\n",
        "age = 16\n",
        "birthday = \"April 15th\"\n",
        "favorite_color = \"Red\"\n",
        "print(info_compiler(first_name, last_name, age, birthday, favorite_color))\n",
        "\n",
        "print(info_compiler(age=10, b_day = \"March 8th\"))\n",
        "\n",
        "print(info_compiler())\n"
      ],
      "metadata": {
        "id": "b3irt4yNanrg",
        "colab": {
          "base_uri": "https://localhost:8080/"
        },
        "outputId": "cde1294b-2f5c-46d3-9a2b-f1de222c2955"
      },
      "execution_count": 19,
      "outputs": [
        {
          "output_type": "stream",
          "name": "stdout",
          "text": [
            "{'first name': 'Jack', 'last name': 'Warren', 'age': 25, 'birthday': 'March 22nd', 'favorite color': 'Red'}\n",
            "{'first name': 'George', 'last name': 'Johnson', 'age': 30, 'birthday': 'July 10th', 'favorite color': 'Yellow'}\n",
            "{'first name': 'Alice', 'last name': 'Smith', 'age': 44, 'birthday': 'February 2nd', 'favorite color': 'Green'}\n",
            "{'first name': 'Nate', 'last name': '(not given)', 'age': 18, 'birthday': 'December 21st', 'favorite color': 'Blue'}\n",
            "{'first name': 'Margaret', 'last name': 'Williams', 'age': 16, 'birthday': 'April 15th', 'favorite color': 'Red'}\n",
            "{'first name': '(not given)', 'last name': '(not given)', 'age': 10, 'birthday': 'March 8th', 'favorite color': '(not given)'}\n",
            "{'first name': '(not given)', 'last name': '(not given)', 'age': 0, 'birthday': '(not given)', 'favorite color': '(not given)'}\n"
          ]
        }
      ]
    },
    {
      "cell_type": "markdown",
      "source": [
        "## Function 8: Box maker\n",
        "- Box dimensions (length, width, height) are input into the function.\n",
        "- Default values for length, width, and height are given.\n",
        "- The function creates a new dictionary, adds the length, width, and height to it, and then also calculates the volume and surface area of the box, adding those to the new dictionary as well."
      ],
      "metadata": {
        "id": "jvUOt-aialf9"
      }
    },
    {
      "cell_type": "code",
      "source": [
        "# Code\n",
        "def box_maker(l=20, w=20, h=10):\n",
        "    newbox = {}\n",
        "    newbox[\"length\"] = l\n",
        "    newbox[\"width\"] = w\n",
        "    newbox[\"height\"] = h\n",
        "\n",
        "    volume = l * w * h\n",
        "    newbox[\"volume\"] = volume\n",
        "\n",
        "    surface_area = 2*(l * w) + 2*(w * h) + 2*(l * h)\n",
        "    newbox[\"surface area\"] = surface_area\n",
        "\n",
        "    return newbox\n"
      ],
      "metadata": {
        "id": "Ju5lxdyhc43g"
      },
      "execution_count": null,
      "outputs": []
    },
    {
      "cell_type": "code",
      "source": [
        "# Test Cases\n",
        "\n",
        "print(box_maker())\n",
        "print(box_maker(1, 5, 20))\n",
        "print(box_maker(5, 80, 22))\n",
        "print(box_maker(15, 15))\n",
        "print(box_maker(3))\n",
        "print(box_maker(w=2, h=5))\n",
        "print(box_maker(h=70))\n",
        "print(box_maker(w=30))\n"
      ],
      "metadata": {
        "id": "FIFmRKSNanZm"
      },
      "execution_count": null,
      "outputs": []
    },
    {
      "cell_type": "markdown",
      "source": [
        "## Function 9: Dice Roller\n",
        "- Function to simulate the rolling of a die\n",
        "- User can enter how many rolls they want with the die, as well as how many sides it has\n",
        "- Program returns the result of each roll (as a number) in a list\n",
        "- If the die is 2-sided, the output is 'heads' or 'tails', because a coin is a 2-sided die"
      ],
      "metadata": {
        "id": "R6DI6iR2alvn"
      }
    },
    {
      "cell_type": "code",
      "source": [
        "# Code\n",
        "import random\n",
        "\n",
        "def dice_roller(num_flips, num_sides):\n",
        "    results = []\n",
        "    for i in range(0, num_flips):\n",
        "        side = random.randint(1,num_sides)\n",
        "        if num_sides == 2:\n",
        "            if side == 1:\n",
        "                flip = \"heads\"\n",
        "                results.append(flip)\n",
        "            elif side == 2:\n",
        "                flip = \"tails\"\n",
        "                results.append(flip)\n",
        "        else:\n",
        "            results.append(side)\n",
        "    return results\n"
      ],
      "metadata": {
        "id": "5R6Vjmn0c5Z8"
      },
      "execution_count": 62,
      "outputs": []
    },
    {
      "cell_type": "code",
      "source": [
        "# Test Cases\n",
        "# 2-sided die outputs 'heads' or 'tails' for the roll because a coin is just a 2 sided die\n",
        "rolls = 10\n",
        "sides = 2\n",
        "print(dice_roller(rolls, sides))\n",
        "\n",
        "rolls = 5\n",
        "sides = 6\n",
        "print(dice_roller(rolls, sides))\n",
        "\n",
        "rolls = 25\n",
        "sides = 10\n",
        "print(dice_roller(rolls, sides))\n",
        "\n",
        "rolls = 100\n",
        "sides = 25\n",
        "print(dice_roller(rolls, sides))\n",
        "\n",
        "rolls = 90\n",
        "sides = 2\n",
        "print(dice_roller(rolls, sides))\n",
        "\n",
        "rolls = 0\n",
        "sides = 2\n",
        "print(dice_roller(rolls, sides))\n",
        "\n",
        "'''\n",
        "Gives an error because random.randint(1, 0) doesn't work\n",
        "rolls = 10\n",
        "sides = 0\n",
        "print(dice_roller(rolls, sides))\n",
        "'''\n",
        "\n",
        "rolls = -10\n",
        "sides = 2\n",
        "print(dice_roller(rolls, sides))\n",
        "\n",
        "'''\n",
        "Gives the same error as the 0 sided die\n",
        "rolls = 3\n",
        "sides = -5\n",
        "print(dice_roller(rolls, sides))\n",
        "'''\n",
        "\n",
        "rolls = 18\n",
        "sides = 1\n",
        "print(dice_roller(rolls, sides))"
      ],
      "metadata": {
        "id": "CsK1jvbganFV",
        "colab": {
          "base_uri": "https://localhost:8080/"
        },
        "outputId": "64bc29cb-0336-453f-b278-833f172251a6"
      },
      "execution_count": 69,
      "outputs": [
        {
          "output_type": "stream",
          "name": "stdout",
          "text": [
            "['heads', 'heads', 'tails', 'heads', 'tails', 'heads', 'tails', 'tails', 'tails', 'heads']\n",
            "[3, 4, 5, 2, 3]\n",
            "[2, 5, 2, 6, 7, 4, 8, 4, 8, 8, 7, 8, 4, 1, 1, 4, 7, 10, 8, 10, 3, 10, 2, 2, 4]\n",
            "[1, 11, 3, 11, 14, 12, 10, 23, 6, 18, 16, 15, 3, 16, 1, 6, 13, 21, 5, 20, 6, 8, 6, 9, 15, 7, 16, 1, 20, 11, 17, 3, 6, 7, 16, 22, 23, 6, 7, 1, 3, 19, 6, 23, 24, 10, 8, 16, 2, 14, 5, 14, 9, 10, 19, 5, 21, 19, 17, 25, 22, 7, 18, 14, 4, 10, 22, 2, 6, 14, 7, 11, 16, 1, 23, 3, 12, 9, 3, 14, 18, 23, 19, 21, 4, 12, 24, 21, 16, 10, 22, 16, 16, 19, 19, 21, 23, 7, 19, 15]\n",
            "['heads', 'tails', 'tails', 'tails', 'tails', 'heads', 'heads', 'heads', 'heads', 'tails', 'tails', 'tails', 'heads', 'heads', 'heads', 'tails', 'heads', 'heads', 'tails', 'heads', 'tails', 'heads', 'tails', 'tails', 'heads', 'heads', 'tails', 'tails', 'heads', 'tails', 'tails', 'heads', 'heads', 'tails', 'tails', 'heads', 'heads', 'heads', 'heads', 'heads', 'heads', 'heads', 'tails', 'heads', 'tails', 'heads', 'heads', 'tails', 'tails', 'tails', 'heads', 'heads', 'heads', 'tails', 'tails', 'tails', 'tails', 'tails', 'heads', 'tails', 'tails', 'heads', 'heads', 'heads', 'heads', 'tails', 'heads', 'tails', 'heads', 'tails', 'heads', 'tails', 'tails', 'tails', 'heads', 'tails', 'heads', 'heads', 'heads', 'tails', 'heads', 'heads', 'heads', 'tails', 'heads', 'heads', 'tails', 'tails', 'heads', 'tails']\n",
            "[]\n",
            "[]\n",
            "[1, 1, 1, 1, 1, 1, 1, 1, 1, 1, 1, 1, 1, 1, 1, 1, 1, 1]\n"
          ]
        }
      ]
    },
    {
      "cell_type": "markdown",
      "source": [
        "## Function 10: Footwear Decider\n",
        "- User inputs the weather and what sort of area / terrain they're going to be in\n",
        "- Function decides which type of footwear is best for the situation\n",
        "- Limited number of areas / terrain that can be chosen from\n"
      ],
      "metadata": {
        "id": "lzGKNidVal_A"
      }
    },
    {
      "cell_type": "code",
      "source": [
        "# Code\n",
        "def footwear_decider(weather=\"clear\", area=\"city\"):\n",
        "    area = area.lower()\n",
        "    weather = weather.lower()\n",
        "    footwear = \"If you see this something went wrong, please try again.\"\n",
        "\n",
        "    if area == \"sandy\":\n",
        "        if weather == \"hot\":\n",
        "            footwear = \"flip flops\"\n",
        "        elif weather == \"clear\":\n",
        "            footwear = \"sandals\"\n",
        "        else:\n",
        "            footwear = \"boots\"\n",
        "\n",
        "    elif area == \"muddy\":\n",
        "        if weather == \"hot\":\n",
        "            footwear = \"sneakers\"\n",
        "        else:\n",
        "            footwear = \"boots\"\n",
        "\n",
        "    elif area == \"rural\":\n",
        "        if weather == \"hot\":\n",
        "            footwear = \"sandals\"\n",
        "        elif weather == \"clear\":\n",
        "            footwear = \"sneakers\"\n",
        "        else:\n",
        "            footwear = \"boots\"\n",
        "\n",
        "    elif area == \"city\":\n",
        "        if weather == \"hot\":\n",
        "            footwear = \"sandals\"\n",
        "        elif weather == \"clear\" or weather == \"cold\":\n",
        "            footwear = \"sneakers\"\n",
        "        else:\n",
        "            footwear = \"boots\"\n",
        "\n",
        "    elif area == \"mountain\":\n",
        "        if weather == \"clear\" or weather == \"hot\":\n",
        "            footwear = \"sneakers\"\n",
        "        else:\n",
        "            footwear = \"boots\"\n",
        "\n",
        "    return footwear\n",
        "\n"
      ],
      "metadata": {
        "id": "X87puGOQc504"
      },
      "execution_count": 92,
      "outputs": []
    },
    {
      "cell_type": "code",
      "source": [
        "# Test Cases\n",
        "\n",
        "# Types of footwear: flip flops, sandals, boots, sneakers\n",
        "\n",
        "# How to use:\n",
        "# Choose what weather is happening: rainy, clear, cold, or hot\n",
        "# Choose what area / terrain you're going to be in: sandy, muddy, rural, city, mountain\n",
        "\n",
        "weather = \"hot\"\n",
        "area = \"sandy\"\n",
        "print(f\"Area: {area}\")\n",
        "print(f\"{weather.title()} weather:\\t\" + footwear_decider(weather, area))\n",
        "\n",
        "weather = \"clear\"\n",
        "print(f\"{weather.title()} weather:\\t\" + footwear_decider(weather, area))\n",
        "\n",
        "weather = \"rainy\"\n",
        "print(f\"{weather.title()} weather:\\t\" + footwear_decider(weather, area))\n",
        "\n",
        "weather = \"cold\"\n",
        "print(f\"{weather.title()} weather:\\t\" + footwear_decider(weather, area))\n",
        "\n",
        "\n",
        "weather = \"hot\"\n",
        "area = \"muddy\"\n",
        "print(f\"\\nArea: {area}\")\n",
        "print(f\"{weather.title()} weather:\\t\" + footwear_decider(weather, area))\n",
        "\n",
        "weather = \"clear\"\n",
        "print(f\"{weather.title()} weather:\\t\" + footwear_decider(weather, area))\n",
        "\n",
        "weather = \"rainy\"\n",
        "print(f\"{weather.title()} weather:\\t\" + footwear_decider(weather, area))\n",
        "\n",
        "weather = \"cold\"\n",
        "print(f\"{weather.title()} weather:\\t\" + footwear_decider(weather, area))\n",
        "\n",
        "\n",
        "weather = \"hot\"\n",
        "area = \"rural\"\n",
        "print(f\"\\nArea: {area}\")\n",
        "print(f\"{weather.title()} weather:\\t\" + footwear_decider(weather, area))\n",
        "\n",
        "weather = \"clear\"\n",
        "print(f\"{weather.title()} weather:\\t\" + footwear_decider(weather, area))\n",
        "\n",
        "weather = \"rainy\"\n",
        "print(f\"{weather.title()} weather:\\t\" + footwear_decider(weather, area))\n",
        "\n",
        "weather = \"cold\"\n",
        "print(f\"{weather.title()} weather:\\t\" + footwear_decider(weather, area))\n",
        "\n",
        "\n",
        "weather = \"hot\"\n",
        "area = \"City\"\n",
        "print(f\"\\nArea: {area}\")\n",
        "print(f\"{weather.title()} weather:\\t\" + footwear_decider(weather, area))\n",
        "\n",
        "weather = \"clear\"\n",
        "print(f\"{weather.title()} weather:\\t\" + footwear_decider(weather, area))\n",
        "\n",
        "weather = \"rainy\"\n",
        "print(f\"{weather.title()} weather:\\t\" + footwear_decider(weather, area))\n",
        "\n",
        "weather = \"cold\"\n",
        "print(f\"{weather.title()} weather:\\t\" + footwear_decider(weather, area))\n",
        "\n",
        "\n",
        "weather = \"hot\"\n",
        "area = \"Mountain\"\n",
        "print(f\"\\nArea: {area}\")\n",
        "print(f\"{weather.title()} weather:\\t\" + footwear_decider(weather, area))\n",
        "\n",
        "weather = \"clear\"\n",
        "print(f\"{weather.title()} weather:\\t\" + footwear_decider(weather, area))\n",
        "\n",
        "weather = \"rainy\"\n",
        "print(f\"{weather.title()} weather:\\t\" + footwear_decider(weather, area))\n",
        "\n",
        "weather = \"cold\"\n",
        "print(f\"{weather.title()} weather:\\t\" + footwear_decider(weather, area))\n",
        "\n",
        "print(\"\\nNo weather/area input: (defaults to clear & city)\")\n",
        "print(footwear_decider())\n",
        "\n",
        "print(\"\\nIf empty strings are entered into the function or something is wrong with the input, an 'error message' or undesired result are returned:\")\n",
        "print(footwear_decider(\"\",\"\"))\n",
        "\n",
        "weather = \"claer\"\n",
        "area = \"sandy\"\n",
        "print(footwear_decider(weather, area))\n",
        "\n",
        "weather = \"hot\"\n",
        "area = \"mountan\"\n",
        "print(footwear_decider(weather, area))"
      ],
      "metadata": {
        "id": "idLdRZtjaw-9",
        "colab": {
          "base_uri": "https://localhost:8080/"
        },
        "outputId": "61647f9d-0fa9-4f89-9d95-1cfc8af615ec"
      },
      "execution_count": 94,
      "outputs": [
        {
          "output_type": "stream",
          "name": "stdout",
          "text": [
            "Area: sandy\n",
            "Hot weather:\tflip flops\n",
            "Clear weather:\tsandals\n",
            "Rainy weather:\tboots\n",
            "Cold weather:\tboots\n",
            "\n",
            "Area: muddy\n",
            "Hot weather:\tsneakers\n",
            "Clear weather:\tboots\n",
            "Rainy weather:\tboots\n",
            "Cold weather:\tboots\n",
            "\n",
            "Area: rural\n",
            "Hot weather:\tsandals\n",
            "Clear weather:\tsneakers\n",
            "Rainy weather:\tboots\n",
            "Cold weather:\tboots\n",
            "\n",
            "Area: City\n",
            "Hot weather:\tsandals\n",
            "Clear weather:\tsneakers\n",
            "Rainy weather:\tboots\n",
            "Cold weather:\tsneakers\n",
            "\n",
            "Area: Mountain\n",
            "Hot weather:\tsneakers\n",
            "Clear weather:\tsneakers\n",
            "Rainy weather:\tboots\n",
            "Cold weather:\tboots\n",
            "\n",
            "No weather/area input: (defaults to clear & city)\n",
            "sneakers\n",
            "\n",
            "If empty strings are entered into the function or something is wrong with the input, an 'error message' or undesired result are returned:\n",
            "If you see this something went wrong, please try again.\n",
            "boots\n",
            "If you see this something went wrong, please try again.\n"
          ]
        }
      ]
    }
  ]
}