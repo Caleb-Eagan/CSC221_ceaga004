{
  "nbformat": 4,
  "nbformat_minor": 0,
  "metadata": {
    "colab": {
      "provenance": [],
      "authorship_tag": "ABX9TyMh9db70XnApUHfdyBSxGTK",
      "include_colab_link": true
    },
    "kernelspec": {
      "name": "python3",
      "display_name": "Python 3"
    },
    "language_info": {
      "name": "python"
    }
  },
  "cells": [
    {
      "cell_type": "markdown",
      "metadata": {
        "id": "view-in-github",
        "colab_type": "text"
      },
      "source": [
        "<a href=\"https://colab.research.google.com/github/Caleb-Eagan/CSC221_ceaga004/blob/main/Assignment7.ipynb\" target=\"_parent\"><img src=\"https://colab.research.google.com/assets/colab-badge.svg\" alt=\"Open In Colab\"/></a>"
      ]
    },
    {
      "cell_type": "code",
      "execution_count": 97,
      "metadata": {
        "id": "N47T8WOwBTHB"
      },
      "outputs": [],
      "source": [
        "# Chapter 6 TIYs"
      ]
    },
    {
      "cell_type": "code",
      "source": [
        "# TIY 6-1\n",
        "\n",
        "# Storing information about a person\n",
        "\n",
        "person = {}\n",
        "\n",
        "person['first_name'] = 'caleb'\n",
        "person['last_name'] = 'eagan'\n",
        "person['city'] = 'west chazy'\n",
        "\n",
        "print(\"First Name: \" + person['first_name'].title())\n",
        "print(\"Last Name: \" + person['last_name'].title())\n",
        "print(\"City: \" + person['city'].title())"
      ],
      "metadata": {
        "colab": {
          "base_uri": "https://localhost:8080/"
        },
        "id": "sNqRUHsbBp9i",
        "outputId": "698ba4b1-3b0a-482e-96c6-d1fb3dfb5082"
      },
      "execution_count": 98,
      "outputs": [
        {
          "output_type": "stream",
          "name": "stdout",
          "text": [
            "First Name: Caleb\n",
            "Last Name: Eagan\n",
            "City: West Chazy\n"
          ]
        }
      ]
    },
    {
      "cell_type": "code",
      "source": [
        "# TIY 6-2\n",
        "\n",
        "# Making a dictionary of people's favorite numbers\n",
        "\n",
        "fav_nums = {}\n",
        "\n",
        "fav_nums['chris'] = '5'\n",
        "fav_nums['kate'] = '13'\n",
        "fav_nums['abby'] = '27'\n",
        "fav_nums['will'] = '205'\n",
        "fav_nums['jack'] = '7'\n",
        "\n",
        "print(\"Different people's favorite numbers:\")\n",
        "for x in fav_nums:\n",
        "    print(f'{x.title()}: {fav_nums[x]}')"
      ],
      "metadata": {
        "colab": {
          "base_uri": "https://localhost:8080/"
        },
        "id": "ItL6h9HQBsMR",
        "outputId": "f7f9a831-43b6-476d-d4b3-72e79f3b4659"
      },
      "execution_count": 99,
      "outputs": [
        {
          "output_type": "stream",
          "name": "stdout",
          "text": [
            "Different people's favorite numbers:\n",
            "Chris: 5\n",
            "Kate: 13\n",
            "Abby: 27\n",
            "Will: 205\n",
            "Jack: 7\n"
          ]
        }
      ]
    },
    {
      "cell_type": "code",
      "source": [
        "# TIY 6-3\n",
        "\n",
        "# Making a glossary of things in python\n",
        "\n",
        "glossary = {}\n",
        "\n",
        "glossary['print()'] = 'Prints whatever is enclosed in the parentheses on the user\\'s screen, usually in a python terminal, given the syntax is correct.'\n",
        "glossary['list'] = 'A list in python is a type of variable that can store multiple values at once. It is formatted by: \"list = [val1, val2, etc]\"'\n",
        "glossary['tuple'] = 'A tuple is pretty much the same as a list, able to store multiple values, except it cannot be modified, and is defined by parentheses instead of brackets.'\n",
        "glossary['variable'] = 'A variable is basically a label you can assign to a value, often named using a string/word, such as \\'color\\'. '\n",
        "glossary['string'] = 'A string is a series of characters contained within single or double quotes.'\n",
        "\n",
        "print(f\"Print():\\n{glossary['print()']}\\n\")\n",
        "print(f\"List:\\n{glossary['list']}\\n\")\n",
        "print(f\"Tuple:\\n{glossary['tuple']}\\n\")\n",
        "print(f\"Variable:\\n{glossary['variable']}\\n\")\n",
        "print(f\"String:\\n{glossary['string']}\\n\")\n"
      ],
      "metadata": {
        "colab": {
          "base_uri": "https://localhost:8080/"
        },
        "id": "qi0529PABuHF",
        "outputId": "1fbe0bbd-9578-4ae6-feba-8f8efc30d37e"
      },
      "execution_count": 100,
      "outputs": [
        {
          "output_type": "stream",
          "name": "stdout",
          "text": [
            "Print():\n",
            "Prints whatever is enclosed in the parentheses on the user's screen, usually in a python terminal, given the syntax is correct.\n",
            "\n",
            "List:\n",
            "A list in python is a type of variable that can store multiple values at once. It is formatted by: \"list = [val1, val2, etc]\"\n",
            "\n",
            "Tuple:\n",
            "A tuple is pretty much the same as a list, able to store multiple values, except it cannot be modified, and is defined by parentheses instead of brackets.\n",
            "\n",
            "Variable:\n",
            "A variable is basically a label you can assign to a value, often named using a string/word, such as 'color'. \n",
            "\n",
            "String:\n",
            "A string is a series of characters contained within single or double quotes.\n",
            "\n"
          ]
        }
      ]
    },
    {
      "cell_type": "code",
      "source": [
        "# TIY 6-4\n",
        "\n",
        "# Expanding python glossary and printing more efficiently\n",
        "\n",
        "glossary = {}\n",
        "\n",
        "glossary['print()'] = 'Prints whatever is enclosed in the parentheses on the user\\'s screen, usually in a python terminal, given the syntax is correct.'\n",
        "glossary['list'] = 'A list in python is a type of variable that can store multiple values at once. It is formatted by: \"list = [val1, val2, etc]\"'\n",
        "glossary['tuple'] = 'A tuple is pretty much the same as a list, able to store multiple values, except it cannot be modified, and is defined by parentheses instead of brackets.'\n",
        "glossary['variable'] = 'A variable is basically a label you can assign to a value, often named using a string/word, such as \\'color\\'. '\n",
        "glossary['string'] = 'A string is a series of characters contained within single or double quotes.'\n",
        "glossary['boolean value'] = 'A boolean value is either True or False.'\n",
        "glossary['conditional expression'] = 'An expression that evaluates to either True or False, used in \\'if\\' statements, and also called \"Conditional Tests\".'\n",
        "glossary['comment'] = 'A comment is something that the programmer writes in the code so they and other programmers can better understand what\\'s going on in the code.\\nDefined by either a # for single-line comments, or 3 single quotes for a multi-line comment.'\n",
        "glossary['exponent'] = 'An exponent is calculated by using two asterixes between two numbers. For example 2**3, which would return 8.'\n",
        "glossary['floats'] = 'A number that has a decimal value on it, rather than just being an integer. For example: 12.5'\n",
        "\n",
        "for word in glossary:\n",
        "    print(f\"{word.title()}:\\n{glossary[word]}\\n\")"
      ],
      "metadata": {
        "colab": {
          "base_uri": "https://localhost:8080/"
        },
        "id": "7OhVPBEkBwCu",
        "outputId": "1cc563b9-e229-4d5c-e4d9-8bf2d3448119"
      },
      "execution_count": 101,
      "outputs": [
        {
          "output_type": "stream",
          "name": "stdout",
          "text": [
            "Print():\n",
            "Prints whatever is enclosed in the parentheses on the user's screen, usually in a python terminal, given the syntax is correct.\n",
            "\n",
            "List:\n",
            "A list in python is a type of variable that can store multiple values at once. It is formatted by: \"list = [val1, val2, etc]\"\n",
            "\n",
            "Tuple:\n",
            "A tuple is pretty much the same as a list, able to store multiple values, except it cannot be modified, and is defined by parentheses instead of brackets.\n",
            "\n",
            "Variable:\n",
            "A variable is basically a label you can assign to a value, often named using a string/word, such as 'color'. \n",
            "\n",
            "String:\n",
            "A string is a series of characters contained within single or double quotes.\n",
            "\n",
            "Boolean Value:\n",
            "A boolean value is either True or False.\n",
            "\n",
            "Conditional Expression:\n",
            "An expression that evaluates to either True or False, used in 'if' statements, and also called \"Conditional Tests\".\n",
            "\n",
            "Comment:\n",
            "A comment is something that the programmer writes in the code so they and other programmers can better understand what's going on in the code.\n",
            "Defined by either a # for single-line comments, or 3 single quotes for a multi-line comment.\n",
            "\n",
            "Exponent:\n",
            "An exponent is calculated by using two asterixes between two numbers. For example 2**3, which would return 8.\n",
            "\n",
            "Floats:\n",
            "A number that has a decimal value on it, rather than just being an integer. For example: 12.5\n",
            "\n"
          ]
        }
      ]
    },
    {
      "cell_type": "code",
      "source": [
        "# TIY 6-11\n",
        "\n",
        "# Storing information about different cities\n",
        "\n",
        "cities = {}\n",
        "\n",
        "# Create a dictionary about each city, including info about the country it's in, it's approx. population, and one fact about the city\n",
        "cities['plattsburgh'] = {'country': 'united states', 'population': 19800, 'fact': 'An important battle from the War of 1812 occurred in Plattsburgh.'}\n",
        "cities['new york city'] = {'country': 'united states', 'population': 8100000, 'fact': 'This city is where most immigrants entered the United States throughout the 1800s and into the 1900s.'}\n",
        "cities['paris'] = {'country': 'france', 'population': 11277000, 'fact': 'This city is where the Eiffel Tower is located.'}\n",
        "\n",
        "for city in cities:\n",
        "    print(city.title())\n",
        "    print(f\"Country: {cities[city]['country'].title()}\")\n",
        "    print(f\"Approximate Population: {cities[city]['population']}\")\n",
        "    print(f\"Fact: {cities[city]['fact']}\\n\")\n",
        ""
      ],
      "metadata": {
        "colab": {
          "base_uri": "https://localhost:8080/"
        },
        "id": "HxUTYRxmBxdG",
        "outputId": "915e3ed0-fbf2-4bf1-a431-781da585d259"
      },
      "execution_count": 102,
      "outputs": [
        {
          "output_type": "stream",
          "name": "stdout",
          "text": [
            "Plattsburgh\n",
            "Country: United States\n",
            "Approximate Population: 19800\n",
            "Fact: An important battle from the War of 1812 occurred in Plattsburgh.\n",
            "\n",
            "New York City\n",
            "Country: United States\n",
            "Approximate Population: 8100000\n",
            "Fact: This city is where most immigrants entered the United States throughout the 1800s and into the 1900s.\n",
            "\n",
            "Paris\n",
            "Country: France\n",
            "Approximate Population: 11277000\n",
            "Fact: This city is where the Eiffel Tower is located.\n",
            "\n"
          ]
        }
      ]
    },
    {
      "cell_type": "code",
      "source": [
        "# Read a dictionary from a file\n",
        "\n",
        "%%file grades.txt\n",
        "\n",
        "charlie, 88\n",
        "john, 85\n",
        "jack, 84\n",
        "alexandra, 80\n",
        "theo, 73\n",
        "katie, 99\n",
        "maria, 85\n",
        "nate, 78\n",
        "abigail, 90\n",
        "gabe, 98"
      ],
      "metadata": {
        "colab": {
          "base_uri": "https://localhost:8080/"
        },
        "id": "OZxYAmLXDF1S",
        "outputId": "48f2da88-7ec7-4b58-f8e3-b6f84a520cef"
      },
      "execution_count": 103,
      "outputs": [
        {
          "output_type": "stream",
          "name": "stdout",
          "text": [
            "Overwriting grades.txt\n"
          ]
        }
      ]
    },
    {
      "cell_type": "code",
      "source": [
        "# Reading in the file and making a dictionary out of it\n",
        "\n",
        "input_file = open('grades.txt', 'r')\n",
        "\n",
        "grades = {}\n",
        "\n",
        "for x in input_file:\n",
        "    line = x.split(',')\n",
        "    # gets rid of bad data\n",
        "    if line[0] == '\\n' or line[-1] == '':\n",
        "        del line\n",
        "    # inserts the names as keys and the grades as number values into the dictionary\n",
        "    else:\n",
        "        num = line[-1].strip()\n",
        "        grades[line[0]] = int(num)\n",
        "\n",
        "\n",
        "# Original dictionary\n",
        "print(\"Original:\")\n",
        "print(grades)\n",
        "\n",
        "\n",
        "# Alphabetical sort\n",
        "# (Separating into two methods mostly for future reference for myself)\n",
        "\n",
        "# more complicated way I did at first\n",
        "'''\n",
        "keys = list(grades.keys())\n",
        "keys.sort()\n",
        "grades_alphabetical = {i: grades[i] for i in keys}\n",
        "'''\n",
        "\n",
        "# simpler way I figured out afterwards\n",
        "items = list(grades.items())\n",
        "items.sort()\n",
        "items = dict(items)\n",
        "\n",
        "print(\"\\nAlphabetical:\")\n",
        "print(items)\n",
        "\n",
        "\n",
        "# Highest to lowest grades (had to go to stackoverflow to figure this out)\n",
        "grades_sorted = {k: v for k,v in sorted(grades.items(), key = lambda item: item[1], reverse=True)}\n",
        "\n",
        "\n",
        "print('\\nHighest to lowest grades:')\n",
        "print(grades_sorted)\n",
        "\n",
        "\n",
        "input_file.close()"
      ],
      "metadata": {
        "colab": {
          "base_uri": "https://localhost:8080/"
        },
        "id": "j2ZA14f0C6-s",
        "outputId": "0a15db11-d346-4539-a9dc-efb33fd04045"
      },
      "execution_count": 104,
      "outputs": [
        {
          "output_type": "stream",
          "name": "stdout",
          "text": [
            "Original:\n",
            "{'charlie': 88, 'john': 85, 'jack': 84, 'alexandra': 80, 'theo': 73, 'katie': 99, 'maria': 85, 'nate': 78, 'abigail': 90, 'gabe': 98}\n",
            "\n",
            "Alphabetical:\n",
            "{'abigail': 90, 'alexandra': 80, 'charlie': 88, 'gabe': 98, 'jack': 84, 'john': 85, 'katie': 99, 'maria': 85, 'nate': 78, 'theo': 73}\n",
            "\n",
            "Highest to lowest grades:\n",
            "{'katie': 99, 'gabe': 98, 'abigail': 90, 'charlie': 88, 'john': 85, 'maria': 85, 'jack': 84, 'alexandra': 80, 'nate': 78, 'theo': 73}\n"
          ]
        }
      ]
    },
    {
      "cell_type": "code",
      "source": [],
      "metadata": {
        "id": "KUf-B8afFtBa"
      },
      "execution_count": 104,
      "outputs": []
    }
  ]
}