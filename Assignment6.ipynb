{
  "nbformat": 4,
  "nbformat_minor": 0,
  "metadata": {
    "colab": {
      "provenance": [],
      "authorship_tag": "ABX9TyPo8CSKAESdRjRUI+vzONHi",
      "include_colab_link": true
    },
    "kernelspec": {
      "name": "python3",
      "display_name": "Python 3"
    },
    "language_info": {
      "name": "python"
    }
  },
  "cells": [
    {
      "cell_type": "markdown",
      "metadata": {
        "id": "view-in-github",
        "colab_type": "text"
      },
      "source": [
        "<a href=\"https://colab.research.google.com/github/Caleb-Eagan/CSC221_ceaga004/blob/main/Assignment6.ipynb\" target=\"_parent\"><img src=\"https://colab.research.google.com/assets/colab-badge.svg\" alt=\"Open In Colab\"/></a>"
      ]
    },
    {
      "cell_type": "code",
      "execution_count": null,
      "metadata": {
        "id": "rZaklzapfD4g"
      },
      "outputs": [],
      "source": [
        "# Chapter 5 TIYs"
      ]
    },
    {
      "cell_type": "code",
      "source": [
        "# TIY 5-1\n",
        "\n",
        "# Conditional tests\n",
        "\n",
        "food = 'biscuit'\n",
        "\n",
        "print(\"Is food == 'biscuit'? I predict True.\")\n",
        "print(food == 'biscuit')\n",
        "\n",
        "print(\"Is food == 'strawberry'? I predict False.\")\n",
        "print(food == 'strawberry')\n",
        "\n",
        "\n",
        "weather = 'snowy'\n",
        "\n",
        "print(\"Is weather == 'rainy'? I predict False.\")\n",
        "print(weather == 'rainy')\n",
        "\n",
        "print(\"Is weather == 'snowy'? I predict True.\")\n",
        "print(weather == 'snowy')\n",
        "\n",
        "print(\"Is weather == 'sleeting'? I predict False.\")\n",
        "print(weather == 'sleeting')\n",
        "\n",
        "\n",
        "test_score = 84\n",
        "\n",
        "print(\"Is test_score >= 65? I predict True.\")\n",
        "print(test_score >= 65)\n",
        "\n",
        "print(\"Is test_score <= 90? I predict True.\")\n",
        "print(test_score <= 90)\n",
        "\n",
        "print(\"Is test_score >= 85? I predict False\")\n",
        "print(test_score >= 85)\n",
        "\n",
        "\n",
        "favorite_number = 5\n",
        "\n",
        "print(\"Is favorite_number != 13? I predict True.\")\n",
        "print(favorite_number != 13)\n",
        "\n",
        "print(\"Is favorite_number != 5? I predict False.\")\n",
        "print(favorite_number != 5)"
      ],
      "metadata": {
        "id": "BbFcvAxPfOxR",
        "colab": {
          "base_uri": "https://localhost:8080/"
        },
        "outputId": "783f11b9-f7e1-40bc-8358-54c795566acc"
      },
      "execution_count": null,
      "outputs": [
        {
          "output_type": "stream",
          "name": "stdout",
          "text": [
            "Is food == 'biscuit'? I predict True.\n",
            "True\n",
            "Is food == 'strawberry'? I predict False.\n",
            "False\n",
            "Is weather == 'rainy'? I predict False.\n",
            "False\n",
            "Is weather == 'snowy'? I predict True.\n",
            "True\n",
            "Is weather == 'sleeting'? I predict False.\n",
            "False\n",
            "Is test_score >= 65? I predict True.\n",
            "True\n",
            "Is test_score <= 90? I predict True.\n",
            "True\n",
            "Is test_score >= 85? I predict False\n",
            "False\n",
            "Is favorite_number != 13? I predict True.\n",
            "True\n",
            "Is favorite_number != 5? I predict False.\n",
            "False\n"
          ]
        }
      ]
    },
    {
      "cell_type": "code",
      "source": [
        "# TIY 5-2\n",
        "\n",
        "pies = ['blueberry', 'blackberry', 'strawberry rhubarb']\n",
        "\n",
        "print(\"Does pies have 'pumpkin' in it? I predict False.\")\n",
        "print('pumpkin' in pies)\n",
        "\n",
        "print(\"Does pies have 'blackberry' in it? I predict True.\")\n",
        "print('blackberry' in pies)\n",
        "\n",
        "\n",
        "dinner = 'soup'\n",
        "\n",
        "print(\"Is dinner == 'soup'? I predict True.\")\n",
        "print(dinner == 'soup')\n",
        "\n",
        "print(\"Is dinner != 'spaghetti'? I predict True.\")\n",
        "print(dinner != 'spaghetti')\n",
        "\n",
        "\n",
        "username = 'Michael'\n",
        "\n",
        "print(\"Is username == 'michael'? I predict False.\")\n",
        "print(username == 'michael')\n",
        "\n",
        "print(\"Is username.lower() == 'michael'? I predict True.\")\n",
        "print(username.lower() == 'michael')\n",
        "\n",
        "\n",
        "age = 28\n",
        "\n",
        "print(\"Is age > 18 and age < 40? I predict True.\")\n",
        "print(age > 18 and age < 40)\n",
        "\n",
        "print(\"Is age == 60? I predict False.\")\n",
        "print(age == 60)\n",
        "\n",
        "print(\"Is age != 25? I predict True.\")\n",
        "print(age != 25)\n",
        "\n",
        "print(\"Is age >= 25? I predict True.\")\n",
        "print(age >= 25)\n",
        "\n",
        "print(\"Is age <= 25? I predict False.\")\n",
        "print(age <= 25)\n",
        "\n",
        "\n",
        "answer = 7\n",
        "\n",
        "print(\"Is answer >= 5 or is answer == 7? I predict True.\")\n",
        "print(answer <= 5 or answer == 7)"
      ],
      "metadata": {
        "id": "IBG37zx-fRGO",
        "colab": {
          "base_uri": "https://localhost:8080/"
        },
        "outputId": "22cbe991-8d45-4c57-b7bb-5ec8a8402ee5"
      },
      "execution_count": null,
      "outputs": [
        {
          "output_type": "stream",
          "name": "stdout",
          "text": [
            "Does pies have 'pumpkin' in it? I predict False.\n",
            "False\n",
            "Does pies have 'blackberry' in it? I predict True.\n",
            "True\n",
            "Is dinner == 'soup'? I predict True.\n",
            "True\n",
            "Is dinner != 'spaghetti'? I predict True.\n",
            "True\n",
            "Is username == 'michael'? I predict False.\n",
            "False\n",
            "Is username.lower() == 'michael'? I predict True.\n",
            "True\n",
            "Is age > 18 and age < 40? I predict True.\n",
            "True\n",
            "Is age == 60? I predict False.\n",
            "False\n",
            "Is age != 25? I predict True.\n",
            "True\n",
            "Is age >= 25? I predict True.\n",
            "True\n",
            "Is age <= 25? I predict False.\n",
            "False\n",
            "Is answer >= 5 or is answer == 7? I predict True.\n",
            "True\n"
          ]
        }
      ]
    },
    {
      "cell_type": "code",
      "source": [
        "# TIY 5-3\n",
        "\n",
        "alien_color = 'green'\n",
        "if alien_color == 'green':\n",
        "    print(\"You just earned 5 points!\")\n",
        "\n",
        "\n",
        "alien_color = 'yellow'\n",
        "if alien_color == 'green':\n",
        "    print(\"You just earned 5 points!\")"
      ],
      "metadata": {
        "id": "REZbBDcpfRqp",
        "colab": {
          "base_uri": "https://localhost:8080/"
        },
        "outputId": "c676fa8a-381c-4707-e7fd-3371a68fc012"
      },
      "execution_count": null,
      "outputs": [
        {
          "output_type": "stream",
          "name": "stdout",
          "text": [
            "You just earned 5 points!\n"
          ]
        }
      ]
    },
    {
      "cell_type": "code",
      "source": [
        "# TIY 5-6\n",
        "\n",
        "# Stages of life\n",
        "\n",
        "person_age = 65\n",
        "\n",
        "if person_age < 2:\n",
        "    print(\"This person is a baby.\")\n",
        "elif person_age >= 2 and person_age < 4:\n",
        "    print(\"This person is a toddler.\")\n",
        "elif person_age >= 4 and person_age < 13:\n",
        "    print(\"This person is a kid.\")\n",
        "elif person_age >= 13 and person_age < 20:\n",
        "    print(\"This person is a teenager.\")\n",
        "elif person_age >= 20 and person_age < 65:\n",
        "    print(\"This person is an adult.\")\n",
        "elif person_age >= 65:\n",
        "    print(\"This person is an elder\")"
      ],
      "metadata": {
        "id": "K1uHj8IkfScE",
        "colab": {
          "base_uri": "https://localhost:8080/"
        },
        "outputId": "d2aac181-8e18-4f39-bad4-0c0643414d61"
      },
      "execution_count": null,
      "outputs": [
        {
          "output_type": "stream",
          "name": "stdout",
          "text": [
            "This person is an elder\n"
          ]
        }
      ]
    },
    {
      "cell_type": "code",
      "source": [
        "# TIY 5-12\n",
        "\n",
        "# Check all conditional tests in prior TIYs for proper styling.\n",
        "# I have checked and made sure all the tests are styled correctly."
      ],
      "metadata": {
        "id": "pM2u7h2ZfTyS"
      },
      "execution_count": null,
      "outputs": []
    },
    {
      "cell_type": "code",
      "source": [
        "# TIY 5-13 Unique Idea / Problem\n",
        "\n",
        "# Unique Problem\n",
        "# User needs to figure out if they're able to go on a ride at an amusement park"
      ],
      "metadata": {
        "id": "B9M7cIy7fUo7"
      },
      "execution_count": null,
      "outputs": []
    },
    {
      "cell_type": "markdown",
      "source": [
        "Flowchart / Pseudocode\n",
        "\n",
        "Ride has age and height requirements:\n",
        "- Need to be at least 48 inches tall to ride\n",
        "- Need to be at least 8 Years old\n",
        "- If under the age of 13, need to ride with an adult\n",
        "- Age 13 and up can ride alone\n",
        "\n",
        "##Steps:\n",
        "1. Ask the user for their age\n",
        "2. Ask the user for their height in inches\n",
        "3. Input these values into a function called ride_eligibility\n",
        "\n",
        "In the function, do the following:\n",
        "4. Print out the user's age and height so the inputs are able to be seen\n",
        "5. Check if the user is 48 inches or taller:\n",
        "    - If not, say they can't ride, and exit the function\n",
        "6. Check if the user is under 8 years old:\n",
        "    - If so, say they can't ride\n",
        "7. Check if they're 8 years old but less than 13 years old:\n",
        "    - If so, say they can go on the ride, but have to with an adult\n",
        "8. Check if their age is 13 but less than 18:\n",
        "    - If so, say they can go on the ride without an adult\n",
        "9. If their age is greater than 18\n",
        "    - If so, say they can go on the ride\n"
      ],
      "metadata": {
        "id": "f_fOR3CgR4GG"
      }
    },
    {
      "cell_type": "code",
      "source": [
        "# Test Case\n",
        "\n",
        "def ride_eligibility(a, h):\n",
        "    # a = age, h = height (input values)\n",
        "\n",
        "    # Print out the user's age and height to see what was input into the function\n",
        "    print(f\"\\nAge: {a} years\")\n",
        "    print(f\"Height: {h} inches\")\n",
        "\n",
        "    # Height check\n",
        "    if h < 48:\n",
        "        print(\"Sorry, but you aren't tall enough to go on the ride.\")\n",
        "        return\n",
        "\n",
        "    # Age check\n",
        "    if a < 8:\n",
        "        print(\"Sorry, but you're not old enough to go on the ride.\")\n",
        "    elif a >= 8 and a < 13:\n",
        "        print(\"You are able to go on the ride, but you have to go on it with an adult.\")\n",
        "    elif a >= 13 and a < 18:\n",
        "        print(\"You are able to go on the ride without an adult.\")\n",
        "    elif a >= 18:\n",
        "        print(\"You are able to go on the ride!\")\n",
        "\n",
        "'''\n",
        "Height and age checks can be merged into one thing technically,\n",
        "by making \"if a < 8:\" into an elif statement. And the last statement\n",
        "of the function could be made into an else statement too, to satisfy\n",
        "the \"if elif elif elif else\" statement chain mentioned on brightspace.\n",
        "However, I made both of those things the way they were though because\n",
        "I felt it looks better the way it is instead of forcing it to fit the\n",
        "\"if elif elif elif else\" statement chain stated in the instructions.\n",
        "'''\n",
        "\n",
        "# For actual application these variables and questions would get used:\n",
        "#age = input(\"Please enter your age in years: \")\n",
        "#height = input(\"Please enter your height in inches\")\n",
        "\n",
        "#ride_eligibility(age, height)\n",
        "ride_eligibility(5, 30)\n",
        "ride_eligibility(6, 48)\n",
        "ride_eligibility(8, 48)\n",
        "ride_eligibility(9, 44)\n",
        "ride_eligibility(12, 48)\n",
        "ride_eligibility(13, 39)\n",
        "ride_eligibility(13, 50)\n",
        "ride_eligibility(25, 68)\n",
        "ride_eligibility(24, 40)"
      ],
      "metadata": {
        "colab": {
          "base_uri": "https://localhost:8080/"
        },
        "id": "dhfeItxWCGkQ",
        "outputId": "69db519c-9e39-4ad9-cb59-c0bf0c9c1663"
      },
      "execution_count": 6,
      "outputs": [
        {
          "output_type": "stream",
          "name": "stdout",
          "text": [
            "\n",
            "Age: 5 years\n",
            "Height: 30 inches\n",
            "Sorry, but you aren't tall enough to go on the ride.\n",
            "\n",
            "Age: 6 years\n",
            "Height: 48 inches\n",
            "Sorry, but you're not old enough to go on the ride.\n",
            "\n",
            "Age: 8 years\n",
            "Height: 48 inches\n",
            "You are able to go on the ride, but you have to go on it with an adult.\n",
            "\n",
            "Age: 9 years\n",
            "Height: 44 inches\n",
            "Sorry, but you aren't tall enough to go on the ride.\n",
            "\n",
            "Age: 12 years\n",
            "Height: 48 inches\n",
            "You are able to go on the ride, but you have to go on it with an adult.\n",
            "\n",
            "Age: 13 years\n",
            "Height: 39 inches\n",
            "Sorry, but you aren't tall enough to go on the ride.\n",
            "\n",
            "Age: 13 years\n",
            "Height: 50 inches\n",
            "You are able to go on the ride without an adult.\n",
            "\n",
            "Age: 25 years\n",
            "Height: 68 inches\n",
            "You are able to go on the ride!\n",
            "\n",
            "Age: 24 years\n",
            "Height: 40 inches\n",
            "Sorry, but you aren't tall enough to go on the ride.\n"
          ]
        }
      ]
    }
  ]
}