{
  "nbformat": 4,
  "nbformat_minor": 0,
  "metadata": {
    "colab": {
      "provenance": [],
      "authorship_tag": "ABX9TyO5sEK9Ca3iyKQA+LM0IvNb",
      "include_colab_link": true
    },
    "kernelspec": {
      "name": "python3",
      "display_name": "Python 3"
    },
    "language_info": {
      "name": "python"
    }
  },
  "cells": [
    {
      "cell_type": "markdown",
      "metadata": {
        "id": "view-in-github",
        "colab_type": "text"
      },
      "source": [
        "<a href=\"https://colab.research.google.com/github/Caleb-Eagan/CSC221_ceaga004/blob/main/Assignment3.ipynb\" target=\"_parent\"><img src=\"https://colab.research.google.com/assets/colab-badge.svg\" alt=\"Open In Colab\"/></a>"
      ]
    },
    {
      "cell_type": "code",
      "execution_count": 114,
      "metadata": {
        "id": "C0Hd_6UDzkZc"
      },
      "outputs": [],
      "source": [
        "# Chapter 2 TIYs"
      ]
    },
    {
      "cell_type": "code",
      "source": [
        "# TIY 2-1\n",
        "\n",
        "message = \"Hello there! The weather is quite nice today!\"\n",
        "print(message)"
      ],
      "metadata": {
        "id": "OiGPTyXoz_F4",
        "colab": {
          "base_uri": "https://localhost:8080/"
        },
        "outputId": "4a5c76f0-0efa-44bb-c0b0-6338c4d7b039"
      },
      "execution_count": 115,
      "outputs": [
        {
          "output_type": "stream",
          "name": "stdout",
          "text": [
            "Hello there! The weather is quite nice today!\n"
          ]
        }
      ]
    },
    {
      "cell_type": "code",
      "source": [
        "# TIY 2-2\n",
        "\n",
        "message = \"The wall on the East side of the Castle has been breached!\"\n",
        "print(message)\n",
        "\n",
        "message = \"We must fall back and regroup immediately!\"\n",
        "print(message)"
      ],
      "metadata": {
        "id": "mqTxQWpP0e2B",
        "colab": {
          "base_uri": "https://localhost:8080/"
        },
        "outputId": "87504c4e-55d3-4ed8-e551-cb01d8573ca8"
      },
      "execution_count": 116,
      "outputs": [
        {
          "output_type": "stream",
          "name": "stdout",
          "text": [
            "The wall on the East side of the Castle has been breached!\n",
            "We must fall back and regroup immediately!\n"
          ]
        }
      ]
    },
    {
      "cell_type": "code",
      "source": [
        "# TIY 2-3\n",
        "\n",
        "name = 'Charlie'\n",
        "\n",
        "print(f\"Hello {name}, how are you doing today?\")"
      ],
      "metadata": {
        "id": "QS7Jq-xJ015m",
        "colab": {
          "base_uri": "https://localhost:8080/"
        },
        "outputId": "f5142969-be79-4a09-e126-c1bc4f2a5402"
      },
      "execution_count": 117,
      "outputs": [
        {
          "output_type": "stream",
          "name": "stdout",
          "text": [
            "Hello Charlie, how are you doing today?\n"
          ]
        }
      ]
    },
    {
      "cell_type": "code",
      "source": [
        "# TIY 2-4\n",
        "\n",
        "# This program takes the name of a person, and then displays their name in lower, upper, and title case\n",
        "\n",
        "# A name is stored in the aptly-named variable 'name'\n",
        "name = 'Caleb Eagan'\n",
        "\n",
        "# Prints out the name in various cases\n",
        "print(name.lower())\n",
        "print(name.upper())\n",
        "print(name.title())"
      ],
      "metadata": {
        "id": "-7aSCx0k06k8",
        "colab": {
          "base_uri": "https://localhost:8080/"
        },
        "outputId": "1e436b37-c672-466d-b34a-b05902196c99"
      },
      "execution_count": 118,
      "outputs": [
        {
          "output_type": "stream",
          "name": "stdout",
          "text": [
            "caleb eagan\n",
            "CALEB EAGAN\n",
            "Caleb Eagan\n"
          ]
        }
      ]
    },
    {
      "cell_type": "code",
      "source": [
        "# TIY 2-5\n",
        "\n",
        "print(\"President JFK once said, \\\"We choose to go to the moon in this decade and do the other things, not because they are easy, but because they are hard\\\"\")"
      ],
      "metadata": {
        "id": "wpssSEPA08YZ",
        "colab": {
          "base_uri": "https://localhost:8080/"
        },
        "outputId": "c8d3d6b9-74e0-4011-e2df-53e33223431c"
      },
      "execution_count": 119,
      "outputs": [
        {
          "output_type": "stream",
          "name": "stdout",
          "text": [
            "President JFK once said, \"We choose to go to the moon in this decade and do the other things, not because they are easy, but because they are hard\"\n"
          ]
        }
      ]
    },
    {
      "cell_type": "code",
      "source": [
        "# TIY 2-6\n",
        "\n",
        "famous_person = \"President JFK\"\n",
        "message = f\"{famous_person} once said, \\\"We choose to go to the moon in this decade and do the other things, not because they are easy, but because they are hard\\\"\"\n",
        "\n",
        "print(message)"
      ],
      "metadata": {
        "id": "tBgq-r0K0-C-",
        "colab": {
          "base_uri": "https://localhost:8080/"
        },
        "outputId": "42c32c08-24e8-43ae-db32-40aae74aef7a"
      },
      "execution_count": 120,
      "outputs": [
        {
          "output_type": "stream",
          "name": "stdout",
          "text": [
            "President JFK once said, \"We choose to go to the moon in this decade and do the other things, not because they are easy, but because they are hard\"\n"
          ]
        }
      ]
    },
    {
      "cell_type": "code",
      "source": [
        "# TIY 2-7\n",
        "\n",
        "# This program takes a person's name as a string in the variable 'name' with extra whitespace on both sides\n",
        "# It then prints out the name using different ways to get rid of the whitespace, also demonstrating the use of \\t and \\n in the process\n",
        "\n",
        "name = ' John '\n",
        "\n",
        "# Shows the name with the extra whitespace\n",
        "print(f'\\'{name}\\'')\n",
        "\n",
        "# Shows the whitespace getting removed, as well as the implementation of \\t and \\n to structure the output\n",
        "print(f'\\t\\'{name.rstrip()}\\' \\n \\t\\'{name.lstrip()}\\'')\n",
        "print(f'\\t\\'{name.strip()}\\'')"
      ],
      "metadata": {
        "id": "HGVzhARO1Adx",
        "colab": {
          "base_uri": "https://localhost:8080/"
        },
        "outputId": "ccfc1042-8fe4-4f3d-f488-2412add1bf3a"
      },
      "execution_count": 121,
      "outputs": [
        {
          "output_type": "stream",
          "name": "stdout",
          "text": [
            "' John '\n",
            "\t' John' \n",
            " \t'John '\n",
            "\t'John'\n"
          ]
        }
      ]
    },
    {
      "cell_type": "code",
      "source": [
        "# TIY 2-8\n",
        "\n",
        "filename = 'python_notes.txt'\n",
        "\n",
        "print(filename.removesuffix('.txt'))"
      ],
      "metadata": {
        "id": "ESXVXyTs1BFe",
        "colab": {
          "base_uri": "https://localhost:8080/"
        },
        "outputId": "f49e2d30-1183-4479-e252-dbdcaa4331bf"
      },
      "execution_count": 122,
      "outputs": [
        {
          "output_type": "stream",
          "name": "stdout",
          "text": [
            "python_notes\n"
          ]
        }
      ]
    },
    {
      "cell_type": "code",
      "source": [
        "# TIY 2-9\n",
        "\n",
        "print(5+3)\n",
        "print(15-7)\n",
        "print(2*4)\n",
        "print(72/9)"
      ],
      "metadata": {
        "id": "K3frmA6t1DTf",
        "colab": {
          "base_uri": "https://localhost:8080/"
        },
        "outputId": "54ef92fa-94a6-4f7e-c63b-bb75324f00c5"
      },
      "execution_count": 123,
      "outputs": [
        {
          "output_type": "stream",
          "name": "stdout",
          "text": [
            "8\n",
            "8\n",
            "8\n",
            "8.0\n"
          ]
        }
      ]
    },
    {
      "cell_type": "code",
      "source": [
        "# TIY 2-10\n",
        "\n",
        "favorite_number = 5\n",
        "message = \"My favorite number is 5!\"\n",
        "\n",
        "print(message)"
      ],
      "metadata": {
        "id": "Doq1jBge1D4C",
        "colab": {
          "base_uri": "https://localhost:8080/"
        },
        "outputId": "55c359ec-9ae9-4557-a70d-5f126d2302ac"
      },
      "execution_count": 124,
      "outputs": [
        {
          "output_type": "stream",
          "name": "stdout",
          "text": [
            "My favorite number is 5!\n"
          ]
        }
      ]
    },
    {
      "cell_type": "code",
      "source": [
        "# TIY 2-11\n",
        "\n",
        "# Programs 2-4 and 2-7 recieved comments about what they did"
      ],
      "metadata": {
        "id": "e0CSWKfB1FeI"
      },
      "execution_count": 125,
      "outputs": []
    },
    {
      "cell_type": "code",
      "source": [
        "# TIY 2-12\n",
        "\n",
        "import this"
      ],
      "metadata": {
        "id": "mFhXMlE01GVP"
      },
      "execution_count": 126,
      "outputs": []
    }
  ]
}