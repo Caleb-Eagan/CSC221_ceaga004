{
  "nbformat": 4,
  "nbformat_minor": 0,
  "metadata": {
    "colab": {
      "provenance": [],
      "authorship_tag": "ABX9TyOAnbc4sD+H2g09IILkFzjy",
      "include_colab_link": true
    },
    "kernelspec": {
      "name": "python3",
      "display_name": "Python 3"
    },
    "language_info": {
      "name": "python"
    }
  },
  "cells": [
    {
      "cell_type": "markdown",
      "metadata": {
        "id": "view-in-github",
        "colab_type": "text"
      },
      "source": [
        "<a href=\"https://colab.research.google.com/github/Caleb-Eagan/CSC221_ceaga004/blob/main/Assignment5.ipynb\" target=\"_parent\"><img src=\"https://colab.research.google.com/assets/colab-badge.svg\" alt=\"Open In Colab\"/></a>"
      ]
    },
    {
      "cell_type": "code",
      "execution_count": 33,
      "metadata": {
        "id": "CRW8ehD8eDv4"
      },
      "outputs": [],
      "source": [
        "# Chapter 4 TIYs"
      ]
    },
    {
      "cell_type": "code",
      "source": [
        "# TIY 4-1\n",
        "\n",
        "pizzas = ['pepperoni', \"meat lover's\", 'bacon & spinach']\n",
        "for pizza in pizzas:\n",
        "    print(f\"I like {pizza} pizza.\")\n",
        "\n",
        "print(\"I love eating pizza!\")"
      ],
      "metadata": {
        "colab": {
          "base_uri": "https://localhost:8080/"
        },
        "id": "GdAKeOQWeYKJ",
        "outputId": "757b97c9-248f-4f4d-e6c2-44ce1446e6e7"
      },
      "execution_count": 34,
      "outputs": [
        {
          "output_type": "stream",
          "name": "stdout",
          "text": [
            "I like pepperoni pizza.\n",
            "I like meat lover's pizza.\n",
            "I like bacon & spinach pizza.\n",
            "I love eating pizza!\n"
          ]
        }
      ]
    },
    {
      "cell_type": "code",
      "source": [
        "# TIY 4-2\n",
        "\n",
        "animals = ['zebra', 'dog', 'horse']\n",
        "for animal in animals:\n",
        "    print(f\"A {animal} can run.\")\n",
        "\n",
        "print(\"All of these animals can run!\")\n"
      ],
      "metadata": {
        "colab": {
          "base_uri": "https://localhost:8080/"
        },
        "id": "uP2FBZd9eeDo",
        "outputId": "a4959e62-3605-45ca-dabc-0751d15dcd5c"
      },
      "execution_count": 35,
      "outputs": [
        {
          "output_type": "stream",
          "name": "stdout",
          "text": [
            "A zebra can run.\n",
            "A dog can run.\n",
            "A horse can run.\n",
            "All of these animals can run!\n"
          ]
        }
      ]
    },
    {
      "cell_type": "code",
      "source": [
        "# TIY 4-3\n",
        "\n",
        "# Counting to 20 using a for loop\n",
        "for value in range(1,21):\n",
        "    print(value)"
      ],
      "metadata": {
        "colab": {
          "base_uri": "https://localhost:8080/"
        },
        "id": "UykCarc7eeWR",
        "outputId": "6f19dcb5-bf49-4d2f-fb11-dadab988e2a7"
      },
      "execution_count": 36,
      "outputs": [
        {
          "output_type": "stream",
          "name": "stdout",
          "text": [
            "1\n",
            "2\n",
            "3\n",
            "4\n",
            "5\n",
            "6\n",
            "7\n",
            "8\n",
            "9\n",
            "10\n",
            "11\n",
            "12\n",
            "13\n",
            "14\n",
            "15\n",
            "16\n",
            "17\n",
            "18\n",
            "19\n",
            "20\n"
          ]
        }
      ]
    },
    {
      "cell_type": "code",
      "source": [
        "# TIY 4-4\n",
        "\n",
        "# Making and printing a list of numbers 1-1000000\n",
        "numbers = [value for value in range(1,1000001)]\n",
        "for num in numbers:\n",
        "    print(num)"
      ],
      "metadata": {
        "colab": {
          "base_uri": "https://localhost:8080/",
          "height": 339
        },
        "id": "jXFLmOxxeej0",
        "outputId": "226ac8e4-2d15-4a9e-a481-4a2cb074bb11"
      },
      "execution_count": 37,
      "outputs": [
        {
          "output_type": "error",
          "ename": "KeyboardInterrupt",
          "evalue": "",
          "traceback": [
            "\u001b[0;31m---------------------------------------------------------------------------\u001b[0m",
            "\u001b[0;31mKeyboardInterrupt\u001b[0m                         Traceback (most recent call last)",
            "\u001b[0;32m<ipython-input-37-628475de5d77>\u001b[0m in \u001b[0;36m<cell line: 5>\u001b[0;34m()\u001b[0m\n\u001b[1;32m      4\u001b[0m \u001b[0mnumbers\u001b[0m \u001b[0;34m=\u001b[0m \u001b[0;34m[\u001b[0m\u001b[0mvalue\u001b[0m \u001b[0;32mfor\u001b[0m \u001b[0mvalue\u001b[0m \u001b[0;32min\u001b[0m \u001b[0mrange\u001b[0m\u001b[0;34m(\u001b[0m\u001b[0;36m1\u001b[0m\u001b[0;34m,\u001b[0m\u001b[0;36m1000001\u001b[0m\u001b[0;34m)\u001b[0m\u001b[0;34m]\u001b[0m\u001b[0;34m\u001b[0m\u001b[0;34m\u001b[0m\u001b[0m\n\u001b[1;32m      5\u001b[0m \u001b[0;32mfor\u001b[0m \u001b[0mnum\u001b[0m \u001b[0;32min\u001b[0m \u001b[0mnumbers\u001b[0m\u001b[0;34m:\u001b[0m\u001b[0;34m\u001b[0m\u001b[0;34m\u001b[0m\u001b[0m\n\u001b[0;32m----> 6\u001b[0;31m     \u001b[0mprint\u001b[0m\u001b[0;34m(\u001b[0m\u001b[0mnum\u001b[0m\u001b[0;34m)\u001b[0m\u001b[0;34m\u001b[0m\u001b[0;34m\u001b[0m\u001b[0m\n\u001b[0m",
            "\u001b[0;32m/usr/local/lib/python3.10/dist-packages/ipykernel/iostream.py\u001b[0m in \u001b[0;36mwrite\u001b[0;34m(self, string)\u001b[0m\n\u001b[1;32m    400\u001b[0m             \u001b[0mis_child\u001b[0m \u001b[0;34m=\u001b[0m \u001b[0;34m(\u001b[0m\u001b[0;32mnot\u001b[0m \u001b[0mself\u001b[0m\u001b[0;34m.\u001b[0m\u001b[0m_is_master_process\u001b[0m\u001b[0;34m(\u001b[0m\u001b[0;34m)\u001b[0m\u001b[0;34m)\u001b[0m\u001b[0;34m\u001b[0m\u001b[0;34m\u001b[0m\u001b[0m\n\u001b[1;32m    401\u001b[0m             \u001b[0;31m# only touch the buffer in the IO thread to avoid races\u001b[0m\u001b[0;34m\u001b[0m\u001b[0;34m\u001b[0m\u001b[0m\n\u001b[0;32m--> 402\u001b[0;31m             \u001b[0mself\u001b[0m\u001b[0;34m.\u001b[0m\u001b[0mpub_thread\u001b[0m\u001b[0;34m.\u001b[0m\u001b[0mschedule\u001b[0m\u001b[0;34m(\u001b[0m\u001b[0;32mlambda\u001b[0m \u001b[0;34m:\u001b[0m \u001b[0mself\u001b[0m\u001b[0;34m.\u001b[0m\u001b[0m_buffer\u001b[0m\u001b[0;34m.\u001b[0m\u001b[0mwrite\u001b[0m\u001b[0;34m(\u001b[0m\u001b[0mstring\u001b[0m\u001b[0;34m)\u001b[0m\u001b[0;34m)\u001b[0m\u001b[0;34m\u001b[0m\u001b[0;34m\u001b[0m\u001b[0m\n\u001b[0m\u001b[1;32m    403\u001b[0m             \u001b[0;32mif\u001b[0m \u001b[0mis_child\u001b[0m\u001b[0;34m:\u001b[0m\u001b[0;34m\u001b[0m\u001b[0;34m\u001b[0m\u001b[0m\n\u001b[1;32m    404\u001b[0m                 \u001b[0;31m# mp.Pool cannot be trusted to flush promptly (or ever),\u001b[0m\u001b[0;34m\u001b[0m\u001b[0;34m\u001b[0m\u001b[0m\n",
            "\u001b[0;32m/usr/local/lib/python3.10/dist-packages/ipykernel/iostream.py\u001b[0m in \u001b[0;36mschedule\u001b[0;34m(self, f)\u001b[0m\n\u001b[1;32m    201\u001b[0m             \u001b[0mself\u001b[0m\u001b[0;34m.\u001b[0m\u001b[0m_events\u001b[0m\u001b[0;34m.\u001b[0m\u001b[0mappend\u001b[0m\u001b[0;34m(\u001b[0m\u001b[0mf\u001b[0m\u001b[0;34m)\u001b[0m\u001b[0;34m\u001b[0m\u001b[0;34m\u001b[0m\u001b[0m\n\u001b[1;32m    202\u001b[0m             \u001b[0;31m# wake event thread (message content is ignored)\u001b[0m\u001b[0;34m\u001b[0m\u001b[0;34m\u001b[0m\u001b[0m\n\u001b[0;32m--> 203\u001b[0;31m             \u001b[0mself\u001b[0m\u001b[0;34m.\u001b[0m\u001b[0m_event_pipe\u001b[0m\u001b[0;34m.\u001b[0m\u001b[0msend\u001b[0m\u001b[0;34m(\u001b[0m\u001b[0;34mb''\u001b[0m\u001b[0;34m)\u001b[0m\u001b[0;34m\u001b[0m\u001b[0;34m\u001b[0m\u001b[0m\n\u001b[0m\u001b[1;32m    204\u001b[0m         \u001b[0;32melse\u001b[0m\u001b[0;34m:\u001b[0m\u001b[0;34m\u001b[0m\u001b[0;34m\u001b[0m\u001b[0m\n\u001b[1;32m    205\u001b[0m             \u001b[0mf\u001b[0m\u001b[0;34m(\u001b[0m\u001b[0;34m)\u001b[0m\u001b[0;34m\u001b[0m\u001b[0;34m\u001b[0m\u001b[0m\n",
            "\u001b[0;32m/usr/local/lib/python3.10/dist-packages/zmq/sugar/socket.py\u001b[0m in \u001b[0;36msend\u001b[0;34m(self, data, flags, copy, track, routing_id, group)\u001b[0m\n\u001b[1;32m    616\u001b[0m                 )\n\u001b[1;32m    617\u001b[0m             \u001b[0mdata\u001b[0m\u001b[0;34m.\u001b[0m\u001b[0mgroup\u001b[0m \u001b[0;34m=\u001b[0m \u001b[0mgroup\u001b[0m\u001b[0;34m\u001b[0m\u001b[0;34m\u001b[0m\u001b[0m\n\u001b[0;32m--> 618\u001b[0;31m         \u001b[0;32mreturn\u001b[0m \u001b[0msuper\u001b[0m\u001b[0;34m(\u001b[0m\u001b[0;34m)\u001b[0m\u001b[0;34m.\u001b[0m\u001b[0msend\u001b[0m\u001b[0;34m(\u001b[0m\u001b[0mdata\u001b[0m\u001b[0;34m,\u001b[0m \u001b[0mflags\u001b[0m\u001b[0;34m=\u001b[0m\u001b[0mflags\u001b[0m\u001b[0;34m,\u001b[0m \u001b[0mcopy\u001b[0m\u001b[0;34m=\u001b[0m\u001b[0mcopy\u001b[0m\u001b[0;34m,\u001b[0m \u001b[0mtrack\u001b[0m\u001b[0;34m=\u001b[0m\u001b[0mtrack\u001b[0m\u001b[0;34m)\u001b[0m\u001b[0;34m\u001b[0m\u001b[0;34m\u001b[0m\u001b[0m\n\u001b[0m\u001b[1;32m    619\u001b[0m \u001b[0;34m\u001b[0m\u001b[0m\n\u001b[1;32m    620\u001b[0m     def send_multipart(\n",
            "\u001b[0;32mzmq/backend/cython/socket.pyx\u001b[0m in \u001b[0;36mzmq.backend.cython.socket.Socket.send\u001b[0;34m()\u001b[0m\n",
            "\u001b[0;32mzmq/backend/cython/socket.pyx\u001b[0m in \u001b[0;36mzmq.backend.cython.socket.Socket.send\u001b[0;34m()\u001b[0m\n",
            "\u001b[0;32mzmq/backend/cython/socket.pyx\u001b[0m in \u001b[0;36mzmq.backend.cython.socket._send_copy\u001b[0;34m()\u001b[0m\n",
            "\u001b[0;32m/usr/local/lib/python3.10/dist-packages/zmq/backend/cython/checkrc.pxd\u001b[0m in \u001b[0;36mzmq.backend.cython.checkrc._check_rc\u001b[0;34m()\u001b[0m\n",
            "\u001b[0;31mKeyboardInterrupt\u001b[0m: "
          ]
        }
      ]
    },
    {
      "cell_type": "code",
      "source": [
        "# TIY 4-5\n",
        "\n",
        "# Make list of numbers 1-1000000, then use min() and max() and sum()\n",
        "numbers = [value for value in range(1,1000001)]\n",
        "print(min(numbers))\n",
        "print(max(numbers))\n",
        "print(sum(numbers))"
      ],
      "metadata": {
        "colab": {
          "base_uri": "https://localhost:8080/"
        },
        "id": "cbsW2dR0efPj",
        "outputId": "f8139346-851f-4023-c795-5f821dd50bd3"
      },
      "execution_count": 38,
      "outputs": [
        {
          "output_type": "stream",
          "name": "stdout",
          "text": [
            "1\n",
            "1000000\n",
            "500000500000\n"
          ]
        }
      ]
    },
    {
      "cell_type": "code",
      "source": [
        "# TIY 4-6\n",
        "\n",
        "# Make a list of odd numbers from 1-20 and print them\n",
        "odd_numbers = [value for value in range(1,20,2)]\n",
        "for num in odd_numbers:\n",
        "    print(num)"
      ],
      "metadata": {
        "colab": {
          "base_uri": "https://localhost:8080/"
        },
        "id": "cE5ZSWS9efoy",
        "outputId": "13372c9c-b053-4dfc-c9da-4076a52b86ff"
      },
      "execution_count": 39,
      "outputs": [
        {
          "output_type": "stream",
          "name": "stdout",
          "text": [
            "1\n",
            "3\n",
            "5\n",
            "7\n",
            "9\n",
            "11\n",
            "13\n",
            "15\n",
            "17\n",
            "19\n"
          ]
        }
      ]
    },
    {
      "cell_type": "code",
      "source": [
        "# TIY 4-7\n",
        "\n",
        "# Make list of multiples of 3 from 3-30, print them\n",
        "threes = [value for value in range(3,31,3)]\n",
        "for num in threes:\n",
        "    print(num)"
      ],
      "metadata": {
        "colab": {
          "base_uri": "https://localhost:8080/"
        },
        "id": "uFmcTQbHef5B",
        "outputId": "1338d3a3-2769-4689-97bf-4707d3986636"
      },
      "execution_count": 40,
      "outputs": [
        {
          "output_type": "stream",
          "name": "stdout",
          "text": [
            "3\n",
            "6\n",
            "9\n",
            "12\n",
            "15\n",
            "18\n",
            "21\n",
            "24\n",
            "27\n",
            "30\n"
          ]
        }
      ]
    },
    {
      "cell_type": "code",
      "source": [
        "# TIY 4-8\n",
        "\n",
        "# Make list of first 10 cubed numbers, print them\n",
        "cubes = [val**3 for val in range(1,11)]\n",
        "for cube in cubes:\n",
        "    print(cube)"
      ],
      "metadata": {
        "colab": {
          "base_uri": "https://localhost:8080/"
        },
        "id": "kWfTwxF2egXx",
        "outputId": "15e438b4-0f58-410d-f95a-df522ebf2eac"
      },
      "execution_count": 41,
      "outputs": [
        {
          "output_type": "stream",
          "name": "stdout",
          "text": [
            "1\n",
            "8\n",
            "27\n",
            "64\n",
            "125\n",
            "216\n",
            "343\n",
            "512\n",
            "729\n",
            "1000\n"
          ]
        }
      ]
    },
    {
      "cell_type": "code",
      "source": [
        "# TIY 4-9\n",
        "\n",
        "# Already done in 4-8"
      ],
      "metadata": {
        "id": "w98lLFjaegoq"
      },
      "execution_count": 42,
      "outputs": []
    },
    {
      "cell_type": "code",
      "source": [
        "# TIY 4-10\n",
        "\n",
        "# Slicing a previous list to show different values in it\n",
        "cubes = [val**3 for val in range(1,11)]\n",
        "for cube in cubes:\n",
        "    print(cube)\n",
        "\n",
        "print(\"\\nThe first three items in the list are:\")\n",
        "print(cubes[:3])\n",
        "\n",
        "print(\"\\nThree items from the middle of the list are:\")\n",
        "print(cubes[4:7])\n",
        "\n",
        "print(\"\\nThe last three items in the list are:\")\n",
        "print(cubes[-3:])"
      ],
      "metadata": {
        "colab": {
          "base_uri": "https://localhost:8080/"
        },
        "id": "Z65zPzLKeg2Z",
        "outputId": "91c79f0f-16f9-4c3c-8094-c5eb08437f19"
      },
      "execution_count": 43,
      "outputs": [
        {
          "output_type": "stream",
          "name": "stdout",
          "text": [
            "1\n",
            "8\n",
            "27\n",
            "64\n",
            "125\n",
            "216\n",
            "343\n",
            "512\n",
            "729\n",
            "1000\n",
            "\n",
            "The first three items in the list are:\n",
            "[1, 8, 27]\n",
            "\n",
            "Three items from the middle of the list are:\n",
            "[125, 216, 343]\n",
            "\n",
            "The last three items in the list are:\n",
            "[512, 729, 1000]\n"
          ]
        }
      ]
    },
    {
      "cell_type": "code",
      "source": [
        "# TIY 4-11\n",
        "\n",
        "# Copying a list and proving the new one is separate\n",
        "my_pizzas = ['pepperoni', \"meat lover's\", 'bacon & spinach']\n",
        "friend_pizzas = my_pizzas[:]\n",
        "\n",
        "my_pizzas.append('supreme')\n",
        "friend_pizzas.append('mushroom')\n",
        "\n",
        "print(\"My favorite pizzas are:\")\n",
        "for pizza in my_pizzas:\n",
        "    print(pizza)\n",
        "\n",
        "print(\"\\nMy friend's favorite pizzas are:\")\n",
        "for pizza in friend_pizzas:\n",
        "    print(pizza)\n"
      ],
      "metadata": {
        "colab": {
          "base_uri": "https://localhost:8080/"
        },
        "id": "_SBQFbDKenph",
        "outputId": "edeec3bf-c470-470a-cbd7-783756a6b4d4"
      },
      "execution_count": 44,
      "outputs": [
        {
          "output_type": "stream",
          "name": "stdout",
          "text": [
            "My favorite pizzas are:\n",
            "pepperoni\n",
            "meat lover's\n",
            "bacon & spinach\n",
            "supreme\n",
            "\n",
            "My friend's favorite pizzas are:\n",
            "pepperoni\n",
            "meat lover's\n",
            "bacon & spinach\n",
            "mushroom\n"
          ]
        }
      ]
    },
    {
      "cell_type": "code",
      "source": [
        "# TIY 4-12\n",
        "\n",
        "# adding for loops to a version of foods.py\n",
        "my_foods = ['pizza', 'falafel', 'carrot cake']\n",
        "friend_foods = my_foods[:]\n",
        "\n",
        "my_foods.append('cannoli')\n",
        "friend_foods.append('ice cream')\n",
        "\n",
        "print(\"My favorite foods are:\")\n",
        "for food in my_foods:\n",
        "    print(food)\n",
        "\n",
        "print(\"\\nMy friend's favorite foods are:\")\n",
        "for food in friend_foods:\n",
        "    print(food)"
      ],
      "metadata": {
        "colab": {
          "base_uri": "https://localhost:8080/"
        },
        "id": "k50nuhDheovC",
        "outputId": "8637736e-439f-4e40-d531-ebc04757b4a5"
      },
      "execution_count": 45,
      "outputs": [
        {
          "output_type": "stream",
          "name": "stdout",
          "text": [
            "My favorite foods are:\n",
            "pizza\n",
            "falafel\n",
            "carrot cake\n",
            "cannoli\n",
            "\n",
            "My friend's favorite foods are:\n",
            "pizza\n",
            "falafel\n",
            "carrot cake\n",
            "ice cream\n"
          ]
        }
      ]
    },
    {
      "cell_type": "code",
      "source": [
        "# TIY 4-13\n",
        "\n",
        "# Using tuples\n",
        "foods = ('biscuit', 'chicken strips', 'mac n cheese', 'soup', 'strawberries')\n",
        "print(\"The buffet menu today is:\")\n",
        "for food in foods:\n",
        "    print(food.title())\n",
        "\n",
        "# line of code to demonstrate an error:\n",
        "#foods[3] = 'broccoli'\n",
        "\n",
        "foods = ('biscuit', 'steak', 'mashed potatoes', 'soup', 'strawberries')\n",
        "print(\"\\nThere were some supply issues, here's the revised menu:\")\n",
        "for food in foods:\n",
        "    print(food.title())"
      ],
      "metadata": {
        "colab": {
          "base_uri": "https://localhost:8080/"
        },
        "id": "m_ILc4xueqoq",
        "outputId": "bbf50038-7095-4ff5-e1b9-f5ace5151bb0"
      },
      "execution_count": 46,
      "outputs": [
        {
          "output_type": "stream",
          "name": "stdout",
          "text": [
            "The buffet menu today is:\n",
            "Biscuit\n",
            "Chicken Strips\n",
            "Mac N Cheese\n",
            "Soup\n",
            "Strawberries\n",
            "\n",
            "There were some supply issues, here's the revised menu:\n",
            "Biscuit\n",
            "Steak\n",
            "Mashed Potatoes\n",
            "Soup\n",
            "Strawberries\n"
          ]
        }
      ]
    },
    {
      "cell_type": "code",
      "source": [
        "# TIY 4-14\n",
        "\n",
        "# look at PEP 8 style guide at https://python.org/dev/peps/pep-008"
      ],
      "metadata": {
        "id": "bsrpB9rLerND"
      },
      "execution_count": 47,
      "outputs": []
    },
    {
      "cell_type": "code",
      "source": [
        "# TIY 4-15\n",
        "\n",
        "'''\n",
        "I believe that pretty much all the code I've written\n",
        "here complies with PEP 8 standards and the specific\n",
        "style preferences referenced for this TIY\n",
        "'''"
      ],
      "metadata": {
        "colab": {
          "base_uri": "https://localhost:8080/",
          "height": 36
        },
        "id": "IAvue2lBesJo",
        "outputId": "61f5a169-abd3-4579-97b0-89f6f0e2e852"
      },
      "execution_count": 48,
      "outputs": [
        {
          "output_type": "execute_result",
          "data": {
            "text/plain": [
              "\"\\nI believe that pretty much all the code I've written\\nhere complies with PEP 8 standards and the specific\\nstyle preferences referenced for this TIY\\n\""
            ],
            "application/vnd.google.colaboratory.intrinsic+json": {
              "type": "string"
            }
          },
          "metadata": {},
          "execution_count": 48
        }
      ]
    },
    {
      "cell_type": "code",
      "source": [
        "# factorial(n) function\n",
        "\n",
        "def factorial(n):\n",
        "    product = 1\n",
        "    numbers = list(range(1, n+1))\n",
        "    for num in numbers:\n",
        "        product = product * num\n",
        "\n",
        "    return product\n",
        "\n",
        "\n",
        "print(factorial(5))\n",
        "print(factorial(10))\n",
        "print(factorial(20))\n",
        "print(factorial(50))\n"
      ],
      "metadata": {
        "colab": {
          "base_uri": "https://localhost:8080/"
        },
        "id": "ZvxLTJGzetnB",
        "outputId": "e18887ec-1ce9-4227-9d5b-4b4d8dcafe95"
      },
      "execution_count": 49,
      "outputs": [
        {
          "output_type": "stream",
          "name": "stdout",
          "text": [
            "120\n",
            "3628800\n",
            "2432902008176640000\n",
            "30414093201713378043612608166064768844377641568960512000000000000\n"
          ]
        }
      ]
    },
    {
      "cell_type": "code",
      "source": [
        "# special_factorial(n) function\n",
        "\n",
        "def special_factorial(n):\n",
        "    product = 1\n",
        "    numbers = [num for num in range(1, n+1)]\n",
        "\n",
        "    if n >= 4:\n",
        "        numbers.remove(4)\n",
        "\n",
        "    if n >= 13:\n",
        "        numbers.remove(13)\n",
        "\n",
        "    if n >= 22:\n",
        "        numbers.remove(22)\n",
        "\n",
        "    for num in numbers:\n",
        "        product = product * num\n",
        "\n",
        "    return product\n",
        "\n",
        "\n",
        "print(special_factorial(5))\n",
        "print(special_factorial(10))\n",
        "print(special_factorial(20))\n",
        "print(special_factorial(50))"
      ],
      "metadata": {
        "colab": {
          "base_uri": "https://localhost:8080/"
        },
        "id": "jERKSVlge7Yz",
        "outputId": "cb3a68b8-fac3-4b63-e8ce-dfa7c9b33255"
      },
      "execution_count": 56,
      "outputs": [
        {
          "output_type": "stream",
          "name": "stdout",
          "text": [
            "30\n",
            "907200\n",
            "46786577080320000\n",
            "26585745805693512275885146998308364374455980392448000000000000\n"
          ]
        }
      ]
    }
  ]
}